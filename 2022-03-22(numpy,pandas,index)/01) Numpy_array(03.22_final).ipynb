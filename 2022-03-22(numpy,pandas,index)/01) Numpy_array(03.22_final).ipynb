{
 "cells": [
  {
   "cell_type": "code",
   "execution_count": 11,
   "id": "db6c0f7d",
   "metadata": {},
   "outputs": [],
   "source": [
    "# 1~9 까지의 데이터 생성 ndarray\n",
    "import numpy as np"
   ]
  },
  {
   "cell_type": "code",
   "execution_count": 14,
   "id": "08fc80ae",
   "metadata": {},
   "outputs": [
    {
     "data": {
      "text/plain": [
       "7"
      ]
     },
     "execution_count": 14,
     "metadata": {},
     "output_type": "execute_result"
    }
   ],
   "source": [
    "# 특정 데이터 연습\n",
    "sq_array = np.arange(1,10)\n",
    "sq_array[6]\n"
   ]
  },
  {
   "cell_type": "code",
   "execution_count": 19,
   "id": "2b0da056",
   "metadata": {},
   "outputs": [
    {
     "name": "stdout",
     "output_type": "stream",
     "text": [
      "[1 2 3]\n",
      "[4 5 6 7 8 9]\n",
      "[1 2 3 4 5 6 7 8 9]\n"
     ]
    }
   ],
   "source": [
    "# 슬라이싱\n",
    "print(sq_array[:3])\n",
    "print(sq_array[3:])\n",
    "print(sq_array[:])"
   ]
  },
  {
   "cell_type": "code",
   "execution_count": 25,
   "id": "d262846c",
   "metadata": {},
   "outputs": [
    {
     "name": "stdout",
     "output_type": "stream",
     "text": [
      "sq_array의 차원은 : 1\n",
      "sq_array의 형태은 : (9,)\n",
      "\n",
      " [[1 2 3]\n",
      " [4 5 6]\n",
      " [7 8 9]]\n"
     ]
    }
   ],
   "source": [
    "# 2차원 데이터에서의 fancy indexing\n",
    "print('sq_array의 차원은 : {0}'.format(sq_array.ndim))\n",
    "print('sq_array의 형태은 : {0}'.format(sq_array.shape))\n",
    "\n",
    "sq_array2d = sq_array.reshape(3,3)\n",
    "print('\\n',sq_array2d)"
   ]
  },
  {
   "cell_type": "code",
   "execution_count": 49,
   "id": "5ae3a60d",
   "metadata": {},
   "outputs": [
    {
     "name": "stdout",
     "output_type": "stream",
     "text": [
      "[6 7 8 9]\n"
     ]
    },
    {
     "data": {
      "text/plain": [
       "array([6, 7, 8, 9])"
      ]
     },
     "execution_count": 49,
     "metadata": {},
     "output_type": "execute_result"
    }
   ],
   "source": [
    "# # 2차원에서의 특정값 추출\n",
    "# print('row=1, col=0 index의 값은: {0}'.format(sq_array2d[1,0]))\n",
    "# print('row=1, col=0 index의 값은: {0}'.format(sq_array2d[1,0]))\n",
    "\n",
    "# # 2차원에서의 슬라이싱\n",
    "# print('\\narray2d:\\n',(sq_array2d[0:2,0:2]))\n",
    "# print('\\narray2d:\\n',(sq_array2d[0:2,1]))\n",
    "# print('\\narray2d:\\n',(sq_array2d[0:2,1:2]))\n",
    "\n",
    "## 2차원에서의 펜시 인덱싱(fancy indexing)\n",
    "# 이중 리스트의 형태로 이루어진 인덱싱\n",
    "\n",
    "# print('원본 행렬:\\n', sq_array2d)\n",
    "# print('array2d[0,1],2=>', sq_array2d[[0,1],2], '\\n') # 출력된 형태가 1차원\n",
    "# print('array2d[0,1],2=>\\n', sq_array2d[[0,1],2:], '\\n') # 출력된 형태가 2차원\n",
    "\n",
    "## Boolean indexing\n",
    "array1d = np.arange(1,10)\n",
    "# [] 안에 boolean indexing을 적용\n",
    "print(array1d[array1d>5])\n",
    "array1d[np.array([False, False, False, False, False,  True,  True,  True,  True])]"
   ]
  },
  {
   "cell_type": "markdown",
   "id": "9ece0e05",
   "metadata": {},
   "source": [
    "### 행렬의 정렬 - sort()와 argsort()"
   ]
  },
  {
   "cell_type": "code",
   "execution_count": 55,
   "id": "bb0a2c60",
   "metadata": {},
   "outputs": [
    {
     "name": "stdout",
     "output_type": "stream",
     "text": [
      "원본 행렬: [6, 8, 2, 4]\n",
      "np.sort()호출 후 반환된 원본: [6, 8, 2, 4]\n",
      "np.sort()호출 후 정렬된 행렬: [2 4 6 8]\n",
      "array.sort()호출 후 반환된 원본: [2, 4, 6, 8]\n",
      "array.sort()호출 후 정렬된 행렬: None\n"
     ]
    }
   ],
   "source": [
    "org_array=[6,8,2,4]\n",
    "print('원본 행렬:', org_array)\n",
    "\n",
    "# np.sort()로 정렬\n",
    "sorted_array1 = np.sort(org_array)\n",
    "print('np.sort()호출 후 반환된 원본:', org_array) # 원본은 안바뀜\n",
    "print('np.sort()호출 후 정렬된 행렬:', sorted_array1) # 새로운 변수로 정의됨\n",
    "\n",
    "# array.sort()로 정렬\n",
    "sorted_array2 = org_array.sort()\n",
    "print('array.sort()호출 후 반환된 원본:', org_array) # 원본은 바뀜\n",
    "print('array.sort()호출 후 정렬된 행렬:', sorted_array2) # 새로운 변수는 None"
   ]
  },
  {
   "cell_type": "code",
   "execution_count": 60,
   "id": "c3786cf4",
   "metadata": {},
   "outputs": [
    {
     "name": "stdout",
     "output_type": "stream",
     "text": [
      "내림차순 정렬: [8 6 4 2]\n"
     ]
    }
   ],
   "source": [
    "sort_array1_desc = np.sort(org_array)[::-1]\n",
    "print('내림차순 정렬:', sort_array1_desc)"
   ]
  },
  {
   "cell_type": "code",
   "execution_count": 66,
   "id": "303dec89",
   "metadata": {},
   "outputs": [
    {
     "name": "stdout",
     "output_type": "stream",
     "text": [
      "로우 방향으로 정렬:\n",
      " [[ 7  1]\n",
      " [ 8 12]]\n",
      "컬럼 방향으로 정렬:\n",
      " [[ 8 12]\n",
      " [ 1  7]]\n"
     ]
    }
   ],
   "source": [
    "array2d = np.array([[8,12],\n",
    "                    [7,1]])\n",
    "\n",
    "sorted_array0 = np.sort(array2d, axis=0)\n",
    "print('로우 방향으로 정렬:\\n', sorted_array0)\n",
    "\n",
    "sorted_array1 = np.sort(array2d, axis=1)\n",
    "print('컬럼 방향으로 정렬:\\n', sorted_array1)"
   ]
  },
  {
   "cell_type": "code",
   "execution_count": 72,
   "id": "e22c4789",
   "metadata": {
    "scrolled": true
   },
   "outputs": [
    {
     "name": "stdout",
     "output_type": "stream",
     "text": [
      "<class 'numpy.ndarray'>\n",
      "오름차순 정렬된 행렬의 인덱스: [1 0 3 2]\n",
      "<class 'numpy.ndarray'>\n",
      "내림차순 정렬된 행렬의 인덱스: [2 3 0 1]\n"
     ]
    }
   ],
   "source": [
    "# arg_sort() 함수 :: 정렬된 행렬의 인덱스 반환 !\n",
    "org_array = np.array([3,1,9,5])\n",
    "sort_indices = np.argsort(org_array) # 1,3,5,9 :: R 의 order 함수와 같다\n",
    "print(type(sort_indices))\n",
    "print('오름차순 정렬된 행렬의 인덱스:', sort_indices)\n",
    "\n",
    "# 내림차순을 원할 때\n",
    "org_array = np.array([3,1,9,5])\n",
    "sort_indices1 = np.argsort(org_array)[::-1] # 1,3,5,9 :: R 의 order 함수와 같다\n",
    "print(type(sort_indices1))\n",
    "print('내림차순 정렬된 행렬의 인덱스:', sort_indices1)"
   ]
  },
  {
   "cell_type": "code",
   "execution_count": null,
   "id": "143e55e3",
   "metadata": {},
   "outputs": [],
   "source": [
    "(2,3) <-- 2 * 3\n",
    "(3,2) <-- 3 * 2 --> 2 * 2"
   ]
  },
  {
   "cell_type": "code",
   "execution_count": 76,
   "id": "4f9ff285",
   "metadata": {},
   "outputs": [
    {
     "ename": "IndentationError",
     "evalue": "unexpected indent (Temp/ipykernel_8428/1263973817.py, line 2)",
     "output_type": "error",
     "traceback": [
      "\u001b[1;36m  File \u001b[1;32m\"C:\\Users\\USER\\AppData\\Local\\Temp/ipykernel_8428/1263973817.py\"\u001b[1;36m, line \u001b[1;32m2\u001b[0m\n\u001b[1;33m    for j in range(1,10):\u001b[0m\n\u001b[1;37m    ^\u001b[0m\n\u001b[1;31mIndentationError\u001b[0m\u001b[1;31m:\u001b[0m unexpected indent\n"
     ]
    }
   ],
   "source": [
    "for i in range(2,10):\n",
    "    for j in range(1,10):\n",
    "        print(i*j)"
   ]
  },
  {
   "cell_type": "code",
   "execution_count": 80,
   "id": "6656af12",
   "metadata": {},
   "outputs": [
    {
     "name": "stdout",
     "output_type": "stream",
     "text": [
      "A의 shape: (2, 3)\n",
      "B의 shape: (3, 2)\n",
      "[[ 58  64]\n",
      " [139 154]]\n",
      "A의 전치행렬:\n",
      " [[1 3]\n",
      " [2 4]]\n",
      "A의 전치행렬:\n",
      " [[1 3 5]\n",
      " [2 4 6]]\n"
     ]
    }
   ],
   "source": [
    "# 행렬의 내적을 위한 함수 dot\n",
    "A = np.array([[1,2,3],\n",
    "             [4,5,6]])\n",
    "\n",
    "B = np.array([[7,8],\n",
    "             [9,10],\n",
    "             [11,12]])\n",
    "\n",
    "print('A의 shape:', A.shape)\n",
    "print('B의 shape:', B.shape)\n",
    "\n",
    "print(np.dot(A,B)) # 행렬을 곱했을 때 출력되는 내적의 값\n",
    "\n",
    "## 전치행렬을 위한 함수 transpose()함수 실습\n",
    "A = np.array([[1,2],\n",
    "              [3,4]])\n",
    "trans_A = np.transpose(A)\n",
    "print('A의 전치행렬:\\n', trans_A)\n",
    "\n",
    "B = np.array([[1,2],\n",
    "              [3,4],\n",
    "              [5,6]])\n",
    "trans_B = np.transpose(B)\n",
    "print('A의 전치행렬:\\n', trans_B)"
   ]
  },
  {
   "cell_type": "code",
   "execution_count": null,
   "id": "c1448566",
   "metadata": {},
   "outputs": [],
   "source": [
    "# 전체 "
   ]
  }
 ],
 "metadata": {
  "kernelspec": {
   "display_name": "Python 3 (ipykernel)",
   "language": "python",
   "name": "python3"
  },
  "language_info": {
   "codemirror_mode": {
    "name": "ipython",
    "version": 3
   },
   "file_extension": ".py",
   "mimetype": "text/x-python",
   "name": "python",
   "nbconvert_exporter": "python",
   "pygments_lexer": "ipython3",
   "version": "3.9.7"
  }
 },
 "nbformat": 4,
 "nbformat_minor": 5
}
