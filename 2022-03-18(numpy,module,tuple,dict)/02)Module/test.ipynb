{
 "cells": [
  {
   "cell_type": "code",
   "execution_count": 3,
   "id": "354446cf",
   "metadata": {},
   "outputs": [],
   "source": [
    "# import 모듈이름"
   ]
  },
  {
   "cell_type": "code",
   "execution_count": 5,
   "id": "c46a9bf3",
   "metadata": {},
   "outputs": [
    {
     "name": "stdout",
     "output_type": "stream",
     "text": [
      "10\n"
     ]
    }
   ],
   "source": [
    "import mod2 as md\n",
    "\n",
    "print(mod2.add(3,7))"
   ]
  },
  {
   "cell_type": "code",
   "execution_count": 7,
   "id": "dc72d3a6",
   "metadata": {},
   "outputs": [
    {
     "data": {
      "text/plain": [
       "10"
      ]
     },
     "execution_count": 7,
     "metadata": {},
     "output_type": "execute_result"
    }
   ],
   "source": [
    "# from 모듈이름 import 함수 -2\n",
    "from mod2 import add\n",
    "\n",
    "add(2,8)"
   ]
  },
  {
   "cell_type": "code",
   "execution_count": null,
   "id": "b01f48d1",
   "metadata": {},
   "outputs": [],
   "source": []
  }
 ],
 "metadata": {
  "kernelspec": {
   "display_name": "Python 3 (ipykernel)",
   "language": "python",
   "name": "python3"
  },
  "language_info": {
   "codemirror_mode": {
    "name": "ipython",
    "version": 3
   },
   "file_extension": ".py",
   "mimetype": "text/x-python",
   "name": "python",
   "nbconvert_exporter": "python",
   "pygments_lexer": "ipython3",
   "version": "3.9.7"
  }
 },
 "nbformat": 4,
 "nbformat_minor": 5
}
