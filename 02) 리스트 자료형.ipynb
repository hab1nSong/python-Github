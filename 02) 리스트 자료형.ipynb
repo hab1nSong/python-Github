{
 "cells": [
  {
   "cell_type": "markdown",
   "id": "02011df2",
   "metadata": {},
   "source": [
    "# 리스트 생성법"
   ]
  },
  {
   "cell_type": "code",
   "execution_count": 2,
   "id": "e195ae55",
   "metadata": {},
   "outputs": [],
   "source": [
    "abc = [1,3,5,7,9]"
   ]
  },
  {
   "cell_type": "code",
   "execution_count": 5,
   "id": "ea4d8e8b",
   "metadata": {},
   "outputs": [],
   "source": [
    "l1 = []  # l1 = list()\n",
    "l2 = [1,2,3]\n",
    "l3 = ['Life', 'is', 'too', 'short']\n",
    "l4 = [1,2,3,'a','b','c']\n",
    "l5 = [1,2,['x','y']]"
   ]
  },
  {
   "cell_type": "markdown",
   "id": "8a8d4563",
   "metadata": {},
   "source": [
    "### list indexing"
   ]
  },
  {
   "cell_type": "code",
   "execution_count": 23,
   "id": "23fe2905",
   "metadata": {},
   "outputs": [
    {
     "name": "stdout",
     "output_type": "stream",
     "text": [
      "3\n"
     ]
    },
    {
     "data": {
      "text/plain": [
       "[1, 2, ['x', 'y']]"
      ]
     },
     "execution_count": 23,
     "metadata": {},
     "output_type": "execute_result"
    }
   ],
   "source": [
    "print(len(l5))\n",
    "l5"
   ]
  },
  {
   "cell_type": "code",
   "execution_count": 10,
   "id": "3d8a9e2a",
   "metadata": {},
   "outputs": [
    {
     "data": {
      "text/plain": [
       "3"
      ]
     },
     "execution_count": 10,
     "metadata": {},
     "output_type": "execute_result"
    }
   ],
   "source": [
    "l5[0]+l5[1]"
   ]
  },
  {
   "cell_type": "code",
   "execution_count": 17,
   "id": "f01c1386",
   "metadata": {},
   "outputs": [
    {
     "data": {
      "text/plain": [
       "'x'"
      ]
     },
     "execution_count": 17,
     "metadata": {},
     "output_type": "execute_result"
    }
   ],
   "source": [
    "l5_rev = l5[2]\n",
    "l5_rev[0]"
   ]
  },
  {
   "cell_type": "code",
   "execution_count": 20,
   "id": "e311fa2f",
   "metadata": {
    "scrolled": true
   },
   "outputs": [
    {
     "name": "stdout",
     "output_type": "stream",
     "text": [
      "x\n"
     ]
    },
    {
     "data": {
      "text/plain": [
       "'x'"
      ]
     },
     "execution_count": 20,
     "metadata": {},
     "output_type": "execute_result"
    }
   ],
   "source": [
    "print(l5[2][0])\n",
    "l5[-1][0]"
   ]
  },
  {
   "cell_type": "code",
   "execution_count": 28,
   "id": "37c43485",
   "metadata": {},
   "outputs": [
    {
     "data": {
      "text/plain": [
       "'Life'"
      ]
     },
     "execution_count": 28,
     "metadata": {},
     "output_type": "execute_result"
    }
   ],
   "source": [
    "# 삼중 리스트에서 인덱싱하기\n",
    "a=[1,2,['a','b',['Life','is']]]\n",
    "len(a)\n",
    "a[2]\n",
    "a[-1][-1][0]"
   ]
  },
  {
   "cell_type": "markdown",
   "id": "a3f71f80",
   "metadata": {},
   "source": [
    "## list slicing"
   ]
  },
  {
   "cell_type": "code",
   "execution_count": 31,
   "id": "47b42ca1",
   "metadata": {},
   "outputs": [
    {
     "data": {
      "text/plain": [
       "'12'"
      ]
     },
     "execution_count": 31,
     "metadata": {},
     "output_type": "execute_result"
    }
   ],
   "source": [
    "a=[1,2,3,4,5]\n",
    "a[0:2]\n",
    "\n",
    "# cf) 문자열과의 비교\n",
    "str_1 = '12345'\n",
    "str_1[0:2]"
   ]
  },
  {
   "cell_type": "code",
   "execution_count": 40,
   "id": "ecb97a00",
   "metadata": {},
   "outputs": [
    {
     "data": {
      "text/plain": [
       "['a', 'b']"
      ]
     },
     "execution_count": 40,
     "metadata": {},
     "output_type": "execute_result"
    }
   ],
   "source": [
    "# 중첩된 리스트에서 슬라이싱\n",
    "test_l1 = [1,2,3,['a','b','c'],4,5]\n",
    "len(test_l1)\n",
    "test_l1[3][:2]"
   ]
  },
  {
   "cell_type": "markdown",
   "id": "046ff571",
   "metadata": {},
   "source": [
    "## list cal"
   ]
  },
  {
   "cell_type": "code",
   "execution_count": 43,
   "id": "586ddcb7",
   "metadata": {},
   "outputs": [
    {
     "data": {
      "text/plain": [
       "[1, 2, 3, 4, 5, 6]"
      ]
     },
     "execution_count": 43,
     "metadata": {},
     "output_type": "execute_result"
    }
   ],
   "source": [
    "# 리스트 덧셈\n",
    "# concatenatation (연결)\n",
    "a = [1,2,3]\n",
    "b = [4,5,6]\n",
    "\n",
    "a+b"
   ]
  },
  {
   "cell_type": "code",
   "execution_count": 46,
   "id": "2bb01439",
   "metadata": {},
   "outputs": [
    {
     "data": {
      "text/plain": [
       "array([5, 7, 9])"
      ]
     },
     "execution_count": 46,
     "metadata": {},
     "output_type": "execute_result"
    }
   ],
   "source": [
    "# 행렬 및 선형대수의 개념\n",
    "import numpy as np\n",
    "\n",
    "array_a = np.array(a) # 리스트 아님\n",
    "array_b = np.array(b) # 리스트 아님\n",
    "array_a + array_b"
   ]
  },
  {
   "cell_type": "code",
   "execution_count": 50,
   "id": "b59fdd21",
   "metadata": {},
   "outputs": [
    {
     "data": {
      "text/plain": [
       "3"
      ]
     },
     "execution_count": 50,
     "metadata": {},
     "output_type": "execute_result"
    }
   ],
   "source": [
    "# 리스트 곱셈\n",
    "# repeat\n",
    "a = [1,2,3]\n",
    "a*3\n",
    "\n",
    "# 리스트 길이\n",
    "len(a)"
   ]
  },
  {
   "cell_type": "code",
   "execution_count": 56,
   "id": "bce68560",
   "metadata": {},
   "outputs": [
    {
     "data": {
      "text/plain": [
       "'20hi'"
      ]
     },
     "execution_count": 56,
     "metadata": {},
     "output_type": "execute_result"
    }
   ],
   "source": [
    "# 초보자가 하기 쉬운 실수\n",
    "l1 = [10,20,30]\n",
    "# l1[1]+'hi' -> 형변환 필요\n",
    "\n",
    "# Answer\n",
    "str(l1[1])+'hi'"
   ]
  },
  {
   "cell_type": "markdown",
   "id": "8137e152",
   "metadata": {},
   "source": [
    "## 리스트의 수정과 삭제"
   ]
  },
  {
   "cell_type": "code",
   "execution_count": 64,
   "id": "2f8708b6",
   "metadata": {
    "scrolled": true
   },
   "outputs": [
    {
     "data": {
      "text/plain": [
       "[10, 100, 30]"
      ]
     },
     "execution_count": 64,
     "metadata": {},
     "output_type": "execute_result"
    }
   ],
   "source": [
    "# 리스트의 수정\n",
    "l1[1] = 100\n",
    "l1"
   ]
  },
  {
   "cell_type": "code",
   "execution_count": 67,
   "id": "499435ee",
   "metadata": {
    "scrolled": true
   },
   "outputs": [
    {
     "ename": "TypeError",
     "evalue": "'str' object does not support item assignment",
     "output_type": "error",
     "traceback": [
      "\u001b[1;31m---------------------------------------------------------------------------\u001b[0m",
      "\u001b[1;31mTypeError\u001b[0m                                 Traceback (most recent call last)",
      "\u001b[1;32m~\\AppData\\Local\\Temp/ipykernel_18612/207966205.py\u001b[0m in \u001b[0;36m<module>\u001b[1;34m\u001b[0m\n\u001b[0;32m      1\u001b[0m \u001b[1;31m# str ??\u001b[0m\u001b[1;33m\u001b[0m\u001b[1;33m\u001b[0m\u001b[0m\n\u001b[0;32m      2\u001b[0m \u001b[0mtest_str\u001b[0m \u001b[1;33m=\u001b[0m \u001b[1;34m'habin'\u001b[0m\u001b[1;33m\u001b[0m\u001b[1;33m\u001b[0m\u001b[0m\n\u001b[1;32m----> 3\u001b[1;33m \u001b[0mtest_str\u001b[0m\u001b[1;33m[\u001b[0m\u001b[1;33m-\u001b[0m\u001b[1;36m1\u001b[0m\u001b[1;33m]\u001b[0m\u001b[1;33m=\u001b[0m\u001b[1;34m'c'\u001b[0m\u001b[1;33m\u001b[0m\u001b[1;33m\u001b[0m\u001b[0m\n\u001b[0m",
      "\u001b[1;31mTypeError\u001b[0m: 'str' object does not support item assignment"
     ]
    }
   ],
   "source": [
    "# str 안됨\n",
    "test_str = 'habin'\n",
    "test_str[-1]='c'"
   ]
  },
  {
   "cell_type": "code",
   "execution_count": 63,
   "id": "c89f5634",
   "metadata": {},
   "outputs": [
    {
     "ename": "TypeError",
     "evalue": "'tuple' object does not support item assignment",
     "output_type": "error",
     "traceback": [
      "\u001b[1;31m---------------------------------------------------------------------------\u001b[0m",
      "\u001b[1;31mTypeError\u001b[0m                                 Traceback (most recent call last)",
      "\u001b[1;32m~\\AppData\\Local\\Temp/ipykernel_18612/2978492303.py\u001b[0m in \u001b[0;36m<module>\u001b[1;34m\u001b[0m\n\u001b[0;32m      1\u001b[0m \u001b[0mt1\u001b[0m \u001b[1;33m=\u001b[0m \u001b[1;33m(\u001b[0m\u001b[1;36m1\u001b[0m\u001b[1;33m,\u001b[0m\u001b[1;36m2\u001b[0m\u001b[1;33m,\u001b[0m\u001b[1;36m3\u001b[0m\u001b[1;33m)\u001b[0m\u001b[1;33m\u001b[0m\u001b[1;33m\u001b[0m\u001b[0m\n\u001b[1;32m----> 2\u001b[1;33m \u001b[0mt1\u001b[0m\u001b[1;33m[\u001b[0m\u001b[1;36m1\u001b[0m\u001b[1;33m]\u001b[0m \u001b[1;33m=\u001b[0m \u001b[1;36m100\u001b[0m\u001b[1;33m\u001b[0m\u001b[1;33m\u001b[0m\u001b[0m\n\u001b[0m",
      "\u001b[1;31mTypeError\u001b[0m: 'tuple' object does not support item assignment"
     ]
    }
   ],
   "source": [
    "# tuple은 안됨\n",
    "\n",
    "t1 = (1,2,3)\n",
    "t1[1] = 100 "
   ]
  },
  {
   "cell_type": "code",
   "execution_count": 71,
   "id": "f5e85cda",
   "metadata": {},
   "outputs": [
    {
     "data": {
      "text/plain": [
       "[1, 3]"
      ]
     },
     "execution_count": 71,
     "metadata": {},
     "output_type": "execute_result"
    }
   ],
   "source": [
    "# 리스트의 값 지우기\n",
    "\n",
    "a = [1,2,3]\n",
    "del a[1]\n",
    "\n",
    "a"
   ]
  },
  {
   "cell_type": "code",
   "execution_count": 73,
   "id": "5a6e1571",
   "metadata": {},
   "outputs": [
    {
     "data": {
      "text/plain": [
       "[1, 2]"
      ]
     },
     "execution_count": 73,
     "metadata": {},
     "output_type": "execute_result"
    }
   ],
   "source": [
    "b = [1,2,3,4,5,6,7]\n",
    "del b[2:]\n",
    "b\n",
    "\n",
    "# del을 제외하고 list 를 지우는 방식에는\n",
    "# remove 함수와 pop 가 있습니다.\n",
    "\n",
    "# 단, pop가 실무에서는 더 많이 쓰입니다."
   ]
  },
  {
   "cell_type": "markdown",
   "id": "9bba5854",
   "metadata": {},
   "source": [
    "## 리스트 관련 함수들"
   ]
  },
  {
   "cell_type": "code",
   "execution_count": 81,
   "id": "e408e0d0",
   "metadata": {},
   "outputs": [
    {
     "data": {
      "text/plain": [
       "[10, 20, 30, [4, 5]]"
      ]
     },
     "execution_count": 81,
     "metadata": {},
     "output_type": "execute_result"
    }
   ],
   "source": [
    "# append :: 덧붙이다, 첨부하다.\n",
    "a = [10,20,30] # 섭동 -> 1,2,3 * 10 -> 10,20,30\n",
    "a.append([4,5])\n",
    "a"
   ]
  },
  {
   "cell_type": "code",
   "execution_count": 83,
   "id": "87874602",
   "metadata": {},
   "outputs": [
    {
     "data": {
      "text/plain": [
       "[10, 20, 30, 4, 5]"
      ]
     },
     "execution_count": 83,
     "metadata": {},
     "output_type": "execute_result"
    }
   ],
   "source": [
    "# extend :: 확장하다.\n",
    "a = [10,20,30] # 섭동 -> 1,2,3 * 10 -> 10,20,30\n",
    "a.extend([4,5])\n",
    "a"
   ]
  },
  {
   "cell_type": "code",
   "execution_count": 92,
   "id": "65cf064d",
   "metadata": {},
   "outputs": [
    {
     "ename": "IndexError",
     "evalue": "pop from empty list",
     "output_type": "error",
     "traceback": [
      "\u001b[1;31m---------------------------------------------------------------------------\u001b[0m",
      "\u001b[1;31mIndexError\u001b[0m                                Traceback (most recent call last)",
      "\u001b[1;32m~\\AppData\\Local\\Temp/ipykernel_18612/1793054232.py\u001b[0m in \u001b[0;36m<module>\u001b[1;34m\u001b[0m\n\u001b[0;32m      4\u001b[0m \u001b[0mx\u001b[0m\u001b[1;33m.\u001b[0m\u001b[0mpop\u001b[0m\u001b[1;33m(\u001b[0m\u001b[1;33m)\u001b[0m\u001b[1;33m\u001b[0m\u001b[1;33m\u001b[0m\u001b[0m\n\u001b[0;32m      5\u001b[0m \u001b[0mx\u001b[0m\u001b[1;33m.\u001b[0m\u001b[0mpop\u001b[0m\u001b[1;33m(\u001b[0m\u001b[1;33m)\u001b[0m\u001b[1;33m\u001b[0m\u001b[1;33m\u001b[0m\u001b[0m\n\u001b[1;32m----> 6\u001b[1;33m \u001b[0mx\u001b[0m\u001b[1;33m.\u001b[0m\u001b[0mpop\u001b[0m\u001b[1;33m(\u001b[0m\u001b[1;33m)\u001b[0m\u001b[1;33m\u001b[0m\u001b[1;33m\u001b[0m\u001b[0m\n\u001b[0m",
      "\u001b[1;31mIndexError\u001b[0m: pop from empty list"
     ]
    }
   ],
   "source": [
    "# pop 리스트의 맨 뒤의 요소를 끄집어내고 삭제\n",
    "x = ['a','b','c'] # text mining을 할 때 \n",
    "x.pop()\n",
    "x.pop()\n",
    "x.pop()\n",
    "x.pop()"
   ]
  },
  {
   "cell_type": "code",
   "execution_count": 85,
   "id": "bee93c55",
   "metadata": {},
   "outputs": [
    {
     "data": {
      "text/plain": [
       "[1, 2, 3, 4]"
      ]
     },
     "execution_count": 85,
     "metadata": {},
     "output_type": "execute_result"
    }
   ],
   "source": [
    "# 리스트 정렬 (sort)\n",
    "x = [1,3,2,4]\n",
    "x.sort()\n",
    "x"
   ]
  },
  {
   "cell_type": "code",
   "execution_count": 93,
   "id": "f3e226f3",
   "metadata": {},
   "outputs": [
    {
     "data": {
      "text/plain": [
       "['c', 'a', 'b', 'x', 'z']"
      ]
     },
     "execution_count": 93,
     "metadata": {},
     "output_type": "execute_result"
    }
   ],
   "source": [
    "# 리스트 뒤집기 (reverse)\n",
    "y = ['z','x','b','a','c']\n",
    "y.reverse()\n",
    "y"
   ]
  },
  {
   "cell_type": "code",
   "execution_count": 96,
   "id": "2f0d4b20",
   "metadata": {},
   "outputs": [
    {
     "data": {
      "text/plain": [
       "2"
      ]
     },
     "execution_count": 96,
     "metadata": {},
     "output_type": "execute_result"
    }
   ],
   "source": [
    "# 위치 반환(index)\n",
    "a = [1,2,3]\n",
    "a.index(3)"
   ]
  },
  {
   "cell_type": "code",
   "execution_count": 102,
   "id": "c0901fab",
   "metadata": {},
   "outputs": [
    {
     "data": {
      "text/plain": [
       "[1, 100, 2, 3]"
      ]
     },
     "execution_count": 102,
     "metadata": {},
     "output_type": "execute_result"
    }
   ],
   "source": [
    "# 위치를 지정해서 리스트에 요소를 삽입(insert)\n",
    "a = [1,2,3]\n",
    "a.insert(1,100)\n",
    "a"
   ]
  },
  {
   "cell_type": "code",
   "execution_count": 105,
   "id": "ce91d321",
   "metadata": {},
   "outputs": [
    {
     "data": {
      "text/plain": [
       "[1, 2, 1, 2]"
      ]
     },
     "execution_count": 105,
     "metadata": {},
     "output_type": "execute_result"
    }
   ],
   "source": [
    "# 리스트의 요소를 제거(remove)\n",
    "a = [1,2,3,1,2,3]\n",
    "a.remove(3)\n",
    "a.remove(3)\n",
    "a"
   ]
  }
 ],
 "metadata": {
  "kernelspec": {
   "display_name": "Python 3 (ipykernel)",
   "language": "python",
   "name": "python3"
  },
  "language_info": {
   "codemirror_mode": {
    "name": "ipython",
    "version": 3
   },
   "file_extension": ".py",
   "mimetype": "text/x-python",
   "name": "python",
   "nbconvert_exporter": "python",
   "pygments_lexer": "ipython3",
   "version": "3.9.7"
  }
 },
 "nbformat": 4,
 "nbformat_minor": 5
}
