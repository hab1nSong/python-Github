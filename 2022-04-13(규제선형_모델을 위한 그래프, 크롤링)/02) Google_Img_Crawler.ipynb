{
 "cells": [
  {
   "cell_type": "code",
   "execution_count": null,
   "id": "b1985b71",
   "metadata": {},
   "outputs": [],
   "source": [
    "!pip install selenium"
   ]
  },
  {
   "cell_type": "code",
   "execution_count": null,
   "id": "dac772ef",
   "metadata": {},
   "outputs": [],
   "source": [
    "from selenium import webdriver\n",
    "from selenium.webdriver.common.keys import Keys\n",
    "import time\n",
    "import urllib.request\n",
    "\n",
    "driver = webdriver.Chrome()\n",
    "driver.get(\"https://www.google.co.kr/imghp?hl=ko&ogbl\")\n",
    "elem = driver.find_element_by_name(\"q\")\n",
    "elem.clear()\n",
    "elem.send_keys(\"빅데이터\")\n",
    "elem.send_keys(Keys.RETURN)\n",
    "\n",
    "SCROLL_PAUSE_TIME = 1.5\n",
    "\n",
    "# Get scroll height\n",
    "last_height = driver.execute_script(\"return document.body.scrollHeight\")\n",
    "\n",
    "while True:\n",
    "    # Scroll down to bottom\n",
    "    driver.execute_script(\"window.scrollTo(0, document.body.scrollHeight);\")\n",
    "\n",
    "    # Wait to load page\n",
    "    time.sleep(SCROLL_PAUSE_TIME)\n",
    "\n",
    "    # Calculate new scroll height and compare with last scroll height\n",
    "    new_height = driver.execute_script(\"return document.body.scrollHeight\")\n",
    "    if new_height == last_height:\n",
    "        try:\n",
    "            driver.find_element_by_css_selector('.mye4qd').click()\n",
    "        except:\n",
    "            break\n",
    "    last_height = new_height\n",
    "    \n",
    "images = driver.find_elements_by_css_selector('.rg_i.Q4LuWd')\n",
    "\n",
    "cnt = 0\n",
    "for img in images:\n",
    "    try:\n",
    "        cnt+=1\n",
    "        img.click()\n",
    "        time.sleep(2.9)\n",
    "        img_url = driver.find_element_by_css_selector('.n3VNCb').get_attribute(\"src\")\n",
    "        urllib.request.urlretrieve(img_url, './pics/test{0}.png'.format(cnt))\n",
    "    except:\n",
    "        pass\n",
    "\n",
    "driver.close()\n",
    "    "
   ]
  }
 ],
 "metadata": {
  "kernelspec": {
   "display_name": "Python 3 (ipykernel)",
   "language": "python",
   "name": "python3"
  },
  "language_info": {
   "codemirror_mode": {
    "name": "ipython",
    "version": 3
   },
   "file_extension": ".py",
   "mimetype": "text/x-python",
   "name": "python",
   "nbconvert_exporter": "python",
   "pygments_lexer": "ipython3",
   "version": "3.9.7"
  }
 },
 "nbformat": 4,
 "nbformat_minor": 5
}
