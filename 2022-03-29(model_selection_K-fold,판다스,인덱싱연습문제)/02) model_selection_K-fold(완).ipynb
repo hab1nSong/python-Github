{
 "cells": [
  {
   "cell_type": "code",
   "execution_count": 31,
   "id": "df1d04a0",
   "metadata": {},
   "outputs": [],
   "source": [
    "# iris data 가져와주시고     :: datasets\n",
    "# 의사결정나무 가져와주시고  :: tree\n",
    "# k-fold가져와주시고         :: model_selection\n",
    "# 정확도 지표 가져와주세요~  :: metrics \n",
    "\n",
    "from sklearn.datasets import load_iris \n",
    "from sklearn.tree import DecisionTreeClassifier\n",
    "from sklearn.model_selection import train_test_split\n",
    "from sklearn.model_selection import KFold\n",
    "from sklearn.metrics import accuracy_score as acc_sc\n",
    "\n",
    "import numpy as np\n",
    "import pandas as pd"
   ]
  },
  {
   "cell_type": "code",
   "execution_count": 32,
   "id": "c5763c3f",
   "metadata": {},
   "outputs": [],
   "source": [
    "## 원래는 150개의 iris데이터에서 30개를 test\n",
    "## train을 120개로 사용해야하나,\n",
    "## 데이터의 수가 극히 작으므로,\n",
    "## 그냥 150개 전체가 train_datasets라고 가정하여 분석을 수행하겠다.\n",
    "\n",
    "iris = load_iris()\n",
    "features = iris.data # X값\n",
    "target = iris.target # y값\n",
    "dt_clf = DecisionTreeClassifier(random_state= 156)"
   ]
  },
  {
   "cell_type": "code",
   "execution_count": 33,
   "id": "b9e041b6",
   "metadata": {},
   "outputs": [
    {
     "name": "stdout",
     "output_type": "stream",
     "text": [
      "iris datasets shape: 150\n"
     ]
    }
   ],
   "source": [
    "# 5개의 fold 세트로 분리하는 KFold 객체와 \n",
    "# 세트별 정확도를 담을 리스트 객체를 생성.\n",
    "kfold = KFold(n_splits=5) # K가 5개입니다\n",
    "print('iris datasets shape:', features.shape[0])"
   ]
  },
  {
   "cell_type": "code",
   "execution_count": 34,
   "id": "076799a5",
   "metadata": {},
   "outputs": [
    {
     "name": "stdout",
     "output_type": "stream",
     "text": [
      "1\n",
      "3\n",
      "5\n"
     ]
    }
   ],
   "source": [
    "for i,j in [(1,2),(3,4),(5,6)]:\n",
    "    print(i)"
   ]
  },
  {
   "cell_type": "code",
   "execution_count": 35,
   "id": "5f3aeb92",
   "metadata": {},
   "outputs": [
    {
     "name": "stdout",
     "output_type": "stream",
     "text": [
      "[ 0  1  2  3  4  5  6  7  8  9 10 11 12 13 14 15 16 17 18 19 20 21 22 23\n",
      " 24 25 26 27 28 29]\n",
      "[30 31 32 33 34 35 36 37 38 39 40 41 42 43 44 45 46 47 48 49 50 51 52 53\n",
      " 54 55 56 57 58 59]\n",
      "[60 61 62 63 64 65 66 67 68 69 70 71 72 73 74 75 76 77 78 79 80 81 82 83\n",
      " 84 85 86 87 88 89]\n",
      "[ 90  91  92  93  94  95  96  97  98  99 100 101 102 103 104 105 106 107\n",
      " 108 109 110 111 112 113 114 115 116 117 118 119]\n",
      "[120 121 122 123 124 125 126 127 128 129 130 131 132 133 134 135 136 137\n",
      " 138 139 140 141 142 143 144 145 146 147 148 149]\n"
     ]
    }
   ],
   "source": [
    "for train_index, val_index in kfold.split(features):\n",
    "    print(val_index)"
   ]
  },
  {
   "cell_type": "code",
   "execution_count": 39,
   "id": "e9b56129",
   "metadata": {
    "scrolled": false
   },
   "outputs": [
    {
     "name": "stdout",
     "output_type": "stream",
     "text": [
      "\n",
      " ##1 CV정확도: 1.0, train 크기:120, val데이터:30\n",
      "#1 val데이터 인덱스:[ 0  1  2  3  4  5  6  7  8  9 10 11 12 13 14 15 16 17 18 19 20 21 22 23\n",
      " 24 25 26 27 28 29]\n",
      "\n",
      " ##2 CV정확도: 0.9667, train 크기:120, val데이터:30\n",
      "#2 val데이터 인덱스:[30 31 32 33 34 35 36 37 38 39 40 41 42 43 44 45 46 47 48 49 50 51 52 53\n",
      " 54 55 56 57 58 59]\n",
      "\n",
      " ##3 CV정확도: 0.8667, train 크기:120, val데이터:30\n",
      "#3 val데이터 인덱스:[60 61 62 63 64 65 66 67 68 69 70 71 72 73 74 75 76 77 78 79 80 81 82 83\n",
      " 84 85 86 87 88 89]\n",
      "\n",
      " ##4 CV정확도: 0.9333, train 크기:120, val데이터:30\n",
      "#4 val데이터 인덱스:[ 90  91  92  93  94  95  96  97  98  99 100 101 102 103 104 105 106 107\n",
      " 108 109 110 111 112 113 114 115 116 117 118 119]\n",
      "\n",
      " ##5 CV정확도: 0.7333, train 크기:120, val데이터:30\n",
      "#5 val데이터 인덱스:[120 121 122 123 124 125 126 127 128 129 130 131 132 133 134 135 136 137\n",
      " 138 139 140 141 142 143 144 145 146 147 148 149]\n",
      "\n",
      " ##평균 val정확도: 0.9\n"
     ]
    }
   ],
   "source": [
    "## K-fold를 적용한 학습 알고리즘\n",
    "cv_acc_result = []\n",
    "n_iter = 0\n",
    "\n",
    "for train_index, val_index in kfold.split(features):  # features 는 iris.data :: 전체의 X값\n",
    "    # Kfold.split()으로 반환된 인덱스를 이용해 학습용, 검증용 테스테 데이터 추출\n",
    "    X_train, X_val = features[train_index], features[val_index]\n",
    "    y_train, y_val = target[train_index], target[val_index]\n",
    "    \n",
    "    # 학습 및 예측\n",
    "    dt_clf.fit(X_train,y_train) # 학습알고리즘을 통해서 train 데이터로 쓰임 \n",
    "    pred_dt = dt_clf.predict(X_val) # 예측값 y\n",
    "    n_iter=n_iter+1\n",
    "    \n",
    "    ## 반복할 때마다 정확도 측정\n",
    "    accuracy_score = np.round(acc_sc(y_val,pred_dt),4)\n",
    "    train_size = y_train.shape[0]\n",
    "    test_size= y_val.shape[0]\n",
    "    print('\\n ##{0} CV정확도: {1}, train 크기:{2}, val데이터:{3}'.format(n_iter,accuracy_score,train_size,test_size))    \n",
    "    print('#{0} val데이터 인덱스:{1}'.format(n_iter,val_index))\n",
    "    cv_acc_result.append(accuracy_score)\n",
    "    \n",
    "print('\\n ##평균 val정확도:', np.mean(cv_acc_result))"
   ]
  },
  {
   "cell_type": "markdown",
   "id": "c692c994",
   "metadata": {},
   "source": [
    "## Stratified K-fold\n",
    "####  층화 K-fold :: 층화라는 표현은 층화표본추출에서 배웠음\n"
   ]
  },
  {
   "cell_type": "markdown",
   "id": "1376ab37",
   "metadata": {},
   "source": [
    "* Stratified K 폴드는 불균형한(imbalanced) 분포도를 가진 레이블(결정 클래스) 데이터 집합을 위한 K폴드 방식입니다. 불균형한 분포도를 가진 레이블 데이터 집합은 특정 레이블 값이 특이하게 많거나 매우 적어서 값의 분포가 한쪽으로 치우치는 것을 말한다. "
   ]
  },
  {
   "cell_type": "markdown",
   "id": "d6392093",
   "metadata": {},
   "source": [
    "가령 대출 사기 데이터를 예측한다고 가정해보자. 이 데이터 셋은 1억 건이고, 수십 개의 피처와 대출사기 여부를 뜻하는 레이블(대출사기:1, 정상대출:0)로 구성돼 있다. 그런데 대부분의 데이터는 정상 대출일 것이다.그리고 대출 사기가 약 1000건이 있다고 한다면 전체의 0.0001%의 아주 작은 확률로 대출 사기 레이블이 존재한다. 이렇게 작은 비율로 1 레이블 값이 있다면 K 폴드로 랜덤하게 학습 및 테스트 세트의 인덱스를 고르더라도 레이블 값인 0과 1의 비율을 제대로 반영하지 못하는 경우가 쉽게 발생한다.   "
   ]
  },
  {
   "cell_type": "markdown",
   "id": "45d6bfb2",
   "metadata": {},
   "source": [
    "이를 위해 붓꽃 데이터 세트를 간단하게 DataFrame으로 생성하고 레이블 값의 분포도를 확인하자. "
   ]
  },
  {
   "cell_type": "code",
   "execution_count": 40,
   "id": "c241cfbc",
   "metadata": {},
   "outputs": [],
   "source": [
    "import pandas as pd"
   ]
  },
  {
   "cell_type": "code",
   "execution_count": 42,
   "id": "da6ffb91",
   "metadata": {},
   "outputs": [
    {
     "data": {
      "text/plain": [
       "0    50\n",
       "1    50\n",
       "2    50\n",
       "Name: label, dtype: int64"
      ]
     },
     "execution_count": 42,
     "metadata": {},
     "output_type": "execute_result"
    }
   ],
   "source": [
    "iris = load_iris()\n",
    "iris_df = pd.DataFrame(iris.data, columns= iris.feature_names)\n",
    "iris_df['label'] = iris.target\n",
    "iris_df['label'].value_counts()"
   ]
  },
  {
   "cell_type": "code",
   "execution_count": 74,
   "id": "04ef214e",
   "metadata": {},
   "outputs": [
    {
     "name": "stdout",
     "output_type": "stream",
     "text": [
      "## CV:1\n",
      "학습 label 분포:\n",
      " 1    50\n",
      "2    50\n",
      "Name: label, dtype: int64\n",
      "검증 label 분포:\n",
      " 0    50\n",
      "Name: label, dtype: int64\n",
      "## CV:2\n",
      "학습 label 분포:\n",
      " 0    50\n",
      "2    50\n",
      "Name: label, dtype: int64\n",
      "검증 label 분포:\n",
      " 1    50\n",
      "Name: label, dtype: int64\n",
      "## CV:3\n",
      "학습 label 분포:\n",
      " 0    50\n",
      "1    50\n",
      "Name: label, dtype: int64\n",
      "검증 label 분포:\n",
      " 2    50\n",
      "Name: label, dtype: int64\n"
     ]
    }
   ],
   "source": [
    "# k= 3인 채로 만들어보자.\n",
    "Kfold = KFold(n_splits=3)\n",
    "n_iter = 0\n",
    "for train_index, val_index in  Kfold.split(iris_df):\n",
    "    n_iter = n_iter+1\n",
    "    label_train = iris_df['label'][train_index] # iloc를 빼도 되고요\n",
    "    label_val = iris_df['label'].iloc[val_index] # iloc를 넣어도 됩니다\n",
    "    print('## CV:{0}'.format(n_iter))\n",
    "    print('학습 label 분포:\\n',label_train.value_counts())\n",
    "    print('검증 label 분포:\\n',label_val.value_counts())"
   ]
  },
  {
   "cell_type": "code",
   "execution_count": 75,
   "id": "f58fae2a",
   "metadata": {},
   "outputs": [],
   "source": [
    "# 위와 같은 문제가 발생하므로 Stratified k-fold를 활용하자.\n",
    "from sklearn.model_selection import StratifiedKFold"
   ]
  },
  {
   "cell_type": "code",
   "execution_count": 77,
   "id": "fbb4d8a1",
   "metadata": {},
   "outputs": [
    {
     "name": "stdout",
     "output_type": "stream",
     "text": [
      "## CV:1\n",
      "학습 label 분포:\n",
      " 2    34\n",
      "0    33\n",
      "1    33\n",
      "Name: label, dtype: int64\n",
      "검증 label 분포:\n",
      " 0    17\n",
      "1    17\n",
      "2    16\n",
      "Name: label, dtype: int64\n",
      "## CV:2\n",
      "학습 label 분포:\n",
      " 1    34\n",
      "0    33\n",
      "2    33\n",
      "Name: label, dtype: int64\n",
      "검증 label 분포:\n",
      " 0    17\n",
      "2    17\n",
      "1    16\n",
      "Name: label, dtype: int64\n",
      "## CV:3\n",
      "학습 label 분포:\n",
      " 0    34\n",
      "1    33\n",
      "2    33\n",
      "Name: label, dtype: int64\n",
      "검증 label 분포:\n",
      " 1    17\n",
      "2    17\n",
      "0    16\n",
      "Name: label, dtype: int64\n"
     ]
    }
   ],
   "source": [
    "# k= 3인 채로 만들어보자.\n",
    "skf = StratifiedKFold(n_splits=3)\n",
    "n_iter = 0\n",
    "for train_index, val_index in  skf.split(iris_df, iris_df['label']):\n",
    "    n_iter = n_iter+1\n",
    "    label_train = iris_df['label'][train_index] # iloc를 빼도 되고요\n",
    "    label_val = iris_df['label'].iloc[val_index] # iloc를 넣어도 됩니다\n",
    "    print('## CV:{0}'.format(n_iter))\n",
    "    print('학습 label 분포:\\n',label_train.value_counts())\n",
    "    print('검증 label 분포:\\n',label_val.value_counts())"
   ]
  },
  {
   "cell_type": "code",
   "execution_count": 82,
   "id": "e593351d",
   "metadata": {},
   "outputs": [
    {
     "name": "stdout",
     "output_type": "stream",
     "text": [
      "\n",
      " ##1 CV정확도: 0.98, train 크기:100, val데이터:50\n",
      "#1 val데이터 인덱스:[  0   1   2   3   4   5   6   7   8   9  10  11  12  13  14  15  16  50\n",
      "  51  52  53  54  55  56  57  58  59  60  61  62  63  64  65  66 100 101\n",
      " 102 103 104 105 106 107 108 109 110 111 112 113 114 115]\n",
      "\n",
      " ##2 CV정확도: 0.94, train 크기:100, val데이터:50\n",
      "#2 val데이터 인덱스:[ 17  18  19  20  21  22  23  24  25  26  27  28  29  30  31  32  33  67\n",
      "  68  69  70  71  72  73  74  75  76  77  78  79  80  81  82 116 117 118\n",
      " 119 120 121 122 123 124 125 126 127 128 129 130 131 132]\n",
      "\n",
      " ##3 CV정확도: 0.98, train 크기:100, val데이터:50\n",
      "#3 val데이터 인덱스:[ 34  35  36  37  38  39  40  41  42  43  44  45  46  47  48  49  83  84\n",
      "  85  86  87  88  89  90  91  92  93  94  95  96  97  98  99 133 134 135\n",
      " 136 137 138 139 140 141 142 143 144 145 146 147 148 149]\n",
      "\n",
      " ## CV별 정확도: [0.98 0.94 0.98]\n",
      "\n",
      " ##평균 val정확도: 0.9667\n"
     ]
    }
   ],
   "source": [
    "dt_clf = DecisionTreeClassifier(random_state=156)\n",
    "\n",
    "## K-fold를 적용한 학습 알고리즘\n",
    "skfold = StratifiedKFold(n_splits=3)\n",
    "cv_acc_result = []\n",
    "n_iter = 0\n",
    "\n",
    "for train_index, val_index in skfold.split(features, target):  # features 는 iris.data :: 전체의 X값\n",
    "    # Kfold.split()으로 반환된 인덱스를 이용해 학습용, 검증용 테스테 데이터 추출\n",
    "    X_train, X_val = features[train_index], features[val_index]\n",
    "    y_train, y_val = target[train_index], target[val_index]\n",
    "    \n",
    "    # 학습 및 예측\n",
    "    dt_clf.fit(X_train,y_train) # 학습알고리즘을 통해서 train 데이터로 쓰임 \n",
    "    pred_dt = dt_clf.predict(X_val) # 예측값 y\n",
    "    n_iter=n_iter+1\n",
    "    \n",
    "    ## 반복할 때마다 정확도 측정\n",
    "    accuracy_score = np.round(acc_sc(y_val,pred_dt),4)\n",
    "    train_size = y_train.shape[0]\n",
    "    test_size= y_val.shape[0]\n",
    "    print('\\n ##{0} CV정확도: {1}, train 크기:{2}, val데이터:{3}'.format(n_iter,accuracy_score,train_size,test_size))    \n",
    "    print('#{0} val데이터 인덱스:{1}'.format(n_iter,val_index))\n",
    "    cv_acc_result.append(accuracy_score)\n",
    "\n",
    "# CV별 정확도 및 평귱 정확도 계산\n",
    "print('\\n ## CV별 정확도:', np.round(cv_acc_result,4))\n",
    "print('\\n ##평균 val정확도:', np.round(np.mean(cv_acc_result),4))"
   ]
  },
  {
   "cell_type": "markdown",
   "id": "ffa27509",
   "metadata": {},
   "source": [
    "### 교차검증을 편리하게 해주자 - cross_val_score() #함수"
   ]
  },
  {
   "cell_type": "markdown",
   "id": "39b45d37",
   "metadata": {},
   "source": [
    "사이킷런은 교차 검증을 좀 더 편리하게 수행할 수 있게 해주는 API를 제공한다. 대표적인 것이 cross_val_score()이다. KFold로 데이터를 학습하고 예측하는 코드를 보면 먼저 (1)폴드 세트를 설정하고 (2)for 루프에서 반복으로 학습 및 테스트 데이터의 인덱스를 추출한 뒤 (3)반복적으로 학습과 예측을 수행하고 예측 성능을 반환했다."
   ]
  },
  {
   "cell_type": "markdown",
   "id": "45afad19",
   "metadata": {},
   "source": [
    "cross_val_score()는 이런 일련의 과정을 한꺼번에 수행해주는 API이다. 다음은 cross_val_score()API의 선언 형태이다. \n",
    "cross_val_score(estimator, X, y=None, scoring=None, cv=None, n_jobs=1, verbose=0, fit_params=None, pre_dispatch='2*n_jobs'). 이 중 estimator, X, y, scoring, cv가 주요 파라미터이다.\n",
    " "
   ]
  },
  {
   "cell_type": "code",
   "execution_count": 84,
   "id": "f9ab4747",
   "metadata": {},
   "outputs": [],
   "source": [
    "## 처음부터 분석한다고 가정하자 ^^\n",
    "from sklearn.datasets import load_iris\n",
    "from sklearn.model_selection import train_test_split, KFold, cross_val_score, StratifiedKFold\n",
    "from sklearn.tree import DecisionTreeClassifier, DecisionTreeRegressor\n",
    "\n",
    "import warnings\n",
    "warnings.filterwarnings('ignore')"
   ]
  },
  {
   "cell_type": "code",
   "execution_count": 88,
   "id": "ef46e7b7",
   "metadata": {},
   "outputs": [
    {
     "name": "stdout",
     "output_type": "stream",
     "text": [
      "cv별 정확도: [0.98 0.94 0.98]\n",
      "cv별 평균정확도: 0.9667\n"
     ]
    }
   ],
   "source": [
    "# 이미 iris와 dt_clf는 정의되었음 :: 이미 assignment가 끝남\n",
    "\n",
    "data_X = iris.data # :: X값\n",
    "label_y = iris.target # :: y값\n",
    "\n",
    "# 성능 지표는 정확도(accuracy), cv= 3\n",
    "scores = cross_val_score(dt_clf,data_X,label_y,scoring='accuracy', cv=3)\n",
    "print('cv별 정확도:', np.round(scores,4))\n",
    "print('cv별 평균정확도:', np.round(np.mean(scores),4))"
   ]
  },
  {
   "cell_type": "code",
   "execution_count": null,
   "id": "2ce09544",
   "metadata": {},
   "outputs": [],
   "source": []
  }
 ],
 "metadata": {
  "kernelspec": {
   "display_name": "Python 3 (ipykernel)",
   "language": "python",
   "name": "python3"
  },
  "language_info": {
   "codemirror_mode": {
    "name": "ipython",
    "version": 3
   },
   "file_extension": ".py",
   "mimetype": "text/x-python",
   "name": "python",
   "nbconvert_exporter": "python",
   "pygments_lexer": "ipython3",
   "version": "3.9.7"
  }
 },
 "nbformat": 4,
 "nbformat_minor": 5
}
