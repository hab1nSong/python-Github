{
 "cells": [
  {
   "cell_type": "code",
   "execution_count": 2,
   "id": "6f046fed",
   "metadata": {},
   "outputs": [],
   "source": [
    "import numpy as np"
   ]
  },
  {
   "cell_type": "code",
   "execution_count": 12,
   "id": "1767de0b",
   "metadata": {},
   "outputs": [
    {
     "name": "stdout",
     "output_type": "stream",
     "text": [
      "<class 'list'>\n",
      "<class 'numpy.ndarray'>\n"
     ]
    }
   ],
   "source": [
    "l2 = [1,2,'a']\n",
    "print(type(l2))\n",
    "array2 = np.array(l2)\n",
    "print(type(array2))"
   ]
  },
  {
   "cell_type": "code",
   "execution_count": 25,
   "id": "77da9be5",
   "metadata": {},
   "outputs": [
    {
     "name": "stdout",
     "output_type": "stream",
     "text": [
      "[1. 2. 3.] float64\n",
      "[1 1 3] int32\n"
     ]
    }
   ],
   "source": [
    "# dtype 을 변경해보기\n",
    "array_int = np.array([1,2,3])\n",
    "array_float = array_int.astype('float64') # float64 bit 를 많이 활용한다\n",
    "print(array_float, array_float.dtype)\n",
    "\n",
    "# array float -> array int\n",
    "array_float1 = np.array([1.1,1.2,3.3])\n",
    "array_int2 = array_float1.astype('int32')\n",
    "print(array_int2, array_int2.dtype)"
   ]
  },
  {
   "cell_type": "markdown",
   "id": "72ffa069",
   "metadata": {},
   "source": [
    "### arange,zeros,ones 살펴보기"
   ]
  },
  {
   "cell_type": "code",
   "execution_count": 31,
   "id": "9e736a4a",
   "metadata": {},
   "outputs": [
    {
     "name": "stdout",
     "output_type": "stream",
     "text": [
      "0 1 2 "
     ]
    }
   ],
   "source": [
    "for i in range(3):\n",
    "    print(i, end=' ')"
   ]
  },
  {
   "cell_type": "code",
   "execution_count": 29,
   "id": "02b2d363",
   "metadata": {},
   "outputs": [],
   "source": [
    "# 기준셀 위에 추가:: a(above)\n",
    "# 기준셀 아래 추가:: b(below)\n",
    "# 선택된 셀을 지우고 싶다면:: x\n",
    "# 실수로 선택된 셀을 지웠다면:: z"
   ]
  },
  {
   "cell_type": "code",
   "execution_count": 34,
   "id": "83962a75",
   "metadata": {},
   "outputs": [
    {
     "name": "stdout",
     "output_type": "stream",
     "text": [
      "[0 1 2 3 4 5 6 7 8 9]\n",
      "int32 (10,)\n"
     ]
    }
   ],
   "source": [
    "# np.arange를 살펴보기\n",
    "sq_array = np.arange(10)\n",
    "print(sq_array)\n",
    "print(sq_array.dtype, sq_array.shape)\n",
    "\n",
    "## 위의 자료를 2차원으로 표현하고 싶다면?\n",
    "# np.array([[0,1,2,3,4,5,6,7,8,9]]).shape"
   ]
  },
  {
   "cell_type": "code",
   "execution_count": 36,
   "id": "6452797f",
   "metadata": {},
   "outputs": [
    {
     "name": "stdout",
     "output_type": "stream",
     "text": [
      "int32 (3, 2)\n"
     ]
    }
   ],
   "source": [
    "# zeros 함수\n",
    "zero_array = np.zeros((3,2),dtype='int32')\n",
    "print(zero_array.dtype, zero_array.shape)"
   ]
  },
  {
   "cell_type": "code",
   "execution_count": 45,
   "id": "3869c9c2",
   "metadata": {},
   "outputs": [
    {
     "ename": "ValueError",
     "evalue": "cannot reshape array of size 10 into shape (3,3)",
     "output_type": "error",
     "traceback": [
      "\u001b[1;31m---------------------------------------------------------------------------\u001b[0m",
      "\u001b[1;31mValueError\u001b[0m                                Traceback (most recent call last)",
      "\u001b[1;32m~\\AppData\\Local\\Temp/ipykernel_18704/2153473568.py\u001b[0m in \u001b[0;36m<module>\u001b[1;34m\u001b[0m\n\u001b[0;32m      5\u001b[0m \u001b[1;33m\u001b[0m\u001b[0m\n\u001b[0;32m      6\u001b[0m \u001b[1;31m# 의도적 오류\u001b[0m\u001b[1;33m\u001b[0m\u001b[1;33m\u001b[0m\u001b[0m\n\u001b[1;32m----> 7\u001b[1;33m \u001b[0marray3\u001b[0m\u001b[1;33m.\u001b[0m\u001b[0mreshape\u001b[0m\u001b[1;33m(\u001b[0m\u001b[1;36m3\u001b[0m\u001b[1;33m,\u001b[0m\u001b[1;36m3\u001b[0m\u001b[1;33m)\u001b[0m\u001b[1;33m\u001b[0m\u001b[1;33m\u001b[0m\u001b[0m\n\u001b[0m",
      "\u001b[1;31mValueError\u001b[0m: cannot reshape array of size 10 into shape (3,3)"
     ]
    }
   ],
   "source": [
    "# reshape 함수 실습\n",
    "array2 = sq_array.reshape(2,5) # 고정된 상수 2와 5로 변환\n",
    "array3 = array2.reshape(-1,1) # 하나의 컬럼에 데이터가 달린 형태\n",
    "array3.reshape(-1,2)\n",
    "\n",
    "# 의도적 오류\n",
    "array3.reshape(3,3)"
   ]
  },
  {
   "cell_type": "code",
   "execution_count": 58,
   "id": "557c4532",
   "metadata": {},
   "outputs": [
    {
     "name": "stdout",
     "output_type": "stream",
     "text": [
      "array3d\n",
      " [[[0, 1], [2, 3]], [[4, 5], [6, 7]]]\n",
      "\n",
      " [[[0 1]\n",
      "  [2 3]]\n",
      "\n",
      " [[4 5]\n",
      "  [6 7]]]\n"
     ]
    },
    {
     "data": {
      "text/plain": [
       "[[0, 1, 2, 3], [4, 5, 6, 7]]"
      ]
     },
     "execution_count": 58,
     "metadata": {},
     "output_type": "execute_result"
    }
   ],
   "source": [
    "# 3차원 ndarray 를 생성\n",
    "array1 = np.arange(8)\n",
    "array3d = array1.reshape((2,2,2)) # 3차원의 데이터\n",
    "print('array3d\\n', array3d.tolist()) # array -> list \n",
    "print('\\n', array3d)\n",
    "\n",
    "## 3차원 ndarray 를 2차원 ndarray 로 변환\n",
    "array3d.reshape(-1,4).tolist()"
   ]
  },
  {
   "cell_type": "markdown",
   "id": "4bb32937",
   "metadata": {},
   "source": [
    "### ndarray 데이터 셋 인덱싱"
   ]
  },
  {
   "cell_type": "markdown",
   "id": "1659c741",
   "metadata": {},
   "source": [
    "* numpy 에서의 ndarray 내에서 특정 데이터 혹은 일부를 선택"
   ]
  },
  {
   "cell_type": "markdown",
   "id": "64026372",
   "metadata": {},
   "source": [
    "#### 1. 특정 데이터 추출\n",
    "#### 2. 슬라이싱(slicing)\n",
    "#### 3. fancy indexing\n",
    "#### 4. boolean indexing"
   ]
  },
  {
   "cell_type": "code",
   "execution_count": 64,
   "id": "bc076bb9",
   "metadata": {},
   "outputs": [
    {
     "name": "stdout",
     "output_type": "stream",
     "text": [
      "value: 3\n",
      "<class 'numpy.int32'>\n"
     ]
    }
   ],
   "source": [
    "# 1~9 까지의 데이터 생성\n",
    "array1 = np.arange(start=1, stop=10)\n",
    "\n",
    "# index [0]부터 시작\n",
    "array1\n",
    "value = array1[2]\n",
    "print('value:', value)\n",
    "print(type(value))"
   ]
  },
  {
   "cell_type": "code",
   "execution_count": 68,
   "id": "70d56cc7",
   "metadata": {},
   "outputs": [
    {
     "name": "stdout",
     "output_type": "stream",
     "text": [
      "맨 뒤의 값: 9 맨 뒤의 두번째 값: 8\n"
     ]
    },
    {
     "data": {
      "text/plain": [
       "array([9, 2, 3, 4, 5, 6, 7, 8, 0])"
      ]
     },
     "execution_count": 68,
     "metadata": {},
     "output_type": "execute_result"
    }
   ],
   "source": [
    "print('맨 뒤의 값:', array1[-1],'맨 뒤의 두번째 값:', array1[-2])\n",
    "array1[0]=9\n",
    "array1[8]=0\n",
    "array1"
   ]
  },
  {
   "cell_type": "code",
   "execution_count": 77,
   "id": "a887cc3e",
   "metadata": {
    "scrolled": true
   },
   "outputs": [
    {
     "name": "stdout",
     "output_type": "stream",
     "text": [
      "[[1 2 3]\n",
      " [4 5 6]\n",
      " [7 8 9]]\n",
      "(row=0, col=0) index 가리키는 값: 1\n",
      "(row=0, col=1) index 가리키는 값: 2\n",
      "(row=1, col=0) index 가리키는 값: 4\n",
      "(row=2, col=2) index 가리키는 값: 9\n"
     ]
    }
   ],
   "source": [
    "# 2차원에 해당하는 인덱싱 :: 특정값 출력\n",
    "array1d = np.arange(1,10)\n",
    "array2d = array1d.reshape(3,3)\n",
    "print(array2d)\n",
    "\n",
    "print('(row=0, col=0) index 가리키는 값:', array2d[0,0])\n",
    "print('(row=0, col=1) index 가리키는 값:', array2d[0,1])\n",
    "print('(row=1, col=0) index 가리키는 값:', array2d[1,0])\n",
    "print('(row=2, col=2) index 가리키는 값:', array2d[2,2])"
   ]
  },
  {
   "cell_type": "markdown",
   "id": "ad5b9f6d",
   "metadata": {},
   "source": [
    "### 1. 특정 데이터 추출"
   ]
  },
  {
   "cell_type": "code",
   "execution_count": 93,
   "id": "bbdf01ba",
   "metadata": {},
   "outputs": [
    {
     "name": "stdout",
     "output_type": "stream",
     "text": [
      "[1 2 3]\n",
      "[4 5 6 7 8 9]\n",
      "[1 2 3 4 5 6 7 8 9]\n"
     ]
    }
   ],
   "source": [
    "# 1차원에 해당하는 인덱싱 :: 슬라이싱 추출\n",
    "array1d\n",
    "array1d_1 = array1d[:3]\n",
    "print(array1d_1)\n",
    "print(array1d[3:])\n",
    "print(array1d[:])"
   ]
  },
  {
   "cell_type": "markdown",
   "id": "c68aec30",
   "metadata": {},
   "source": [
    "### 2. 슬라이싱 인덱싱"
   ]
  },
  {
   "cell_type": "code",
   "execution_count": 106,
   "id": "5fb8aa95",
   "metadata": {},
   "outputs": [
    {
     "name": "stdout",
     "output_type": "stream",
     "text": [
      "[[1 2 3]\n",
      " [4 5 6]\n",
      " [7 8 9]]\n",
      "array2d:\n",
      " [[1 2]\n",
      " [4 5]]\n",
      "array2d:\n",
      " [1 4]\n",
      "array2d:\n",
      " [[1]\n",
      " [4]]\n"
     ]
    }
   ],
   "source": [
    "# 2차원에 해당하는 인덱싱 :: 슬라이싱 추출\n",
    "array2d = array1d.reshape(3,3)\n",
    "print(array2d)\n",
    "\n",
    "# print('array2d:\\n', array2d[0:2,0:2])\n",
    "# print('array2d:\\n', array2d[1:,])\n",
    "print('array2d:\\n', array2d[0:2,0])  # 1차원\n",
    "print('array2d:\\n', array2d[0:2,:1]) # 2차원"
   ]
  },
  {
   "cell_type": "markdown",
   "id": "64c4eaf7",
   "metadata": {},
   "source": [
    "### 3. 팬시 인덱싱(Fancy indexing)"
   ]
  },
  {
   "cell_type": "code",
   "execution_count": 96,
   "id": "502e2e1c",
   "metadata": {},
   "outputs": [
    {
     "name": "stdout",
     "output_type": "stream",
     "text": [
      "[[1 2 3]\n",
      " [4 5 6]\n",
      " [7 8 9]]\n"
     ]
    }
   ],
   "source": [
    "print(array2d)"
   ]
  },
  {
   "cell_type": "code",
   "execution_count": 105,
   "id": "116d8b23",
   "metadata": {},
   "outputs": [
    {
     "name": "stdout",
     "output_type": "stream",
     "text": [
      "array2d[0:2,0]-> [1, 4]\n",
      "array2d[[0,1],0]-> [1, 4]\n",
      "array2d[[0,1],0:1]-> [[1], [4]]\n"
     ]
    },
    {
     "data": {
      "text/plain": [
       "array([[1, 2, 3],\n",
       "       [4, 5, 6]])"
      ]
     },
     "execution_count": 105,
     "metadata": {},
     "output_type": "execute_result"
    }
   ],
   "source": [
    "answer1 = array2d[0:2,0] # 슬라이싱을 활용한 인덱싱\n",
    "print('array2d[0:2,0]->', answer1.tolist())\n",
    "\n",
    "answer2 = array2d[[0,1],0] # 특정값 추출을 활용한 인덱싱\n",
    "print('array2d[[0,1],0]->', answer2.tolist())\n",
    "\n",
    "## 2차원 형태로 인덱싱\n",
    "answer3 = array2d[[0,1],0:1] # 특정값 추출을 활용한 인덱싱\n",
    "print('array2d[[0,1],0:1]->', answer3.tolist())\n",
    "\n",
    "# 핵심\n",
    "array2d[[0,1]]"
   ]
  },
  {
   "cell_type": "markdown",
   "id": "e5e64009",
   "metadata": {},
   "source": [
    "### 4. 불리언 인덱싱(Boolean Indexing)"
   ]
  },
  {
   "cell_type": "code",
   "execution_count": 115,
   "id": "cbf0b2e1",
   "metadata": {},
   "outputs": [
    {
     "name": "stdout",
     "output_type": "stream",
     "text": [
      "[1 2 3 4 5 6 7 8 9]\n",
      "[6 7 8 9]\n"
     ]
    }
   ],
   "source": [
    "# 원본 데이터\n",
    "print(array1d)\n",
    "print(array1d[array1d>5])"
   ]
  },
  {
   "cell_type": "code",
   "execution_count": 119,
   "id": "b81b97a6",
   "metadata": {},
   "outputs": [
    {
     "name": "stdout",
     "output_type": "stream",
     "text": [
      "6\n",
      "7\n",
      "8\n",
      "9\n"
     ]
    }
   ],
   "source": [
    "for i in array1d:\n",
    "    if i>5:\n",
    "        print(i)\n",
    "    else:\n",
    "        pass"
   ]
  },
  {
   "cell_type": "code",
   "execution_count": 123,
   "id": "48edc6db",
   "metadata": {},
   "outputs": [
    {
     "data": {
      "text/plain": [
       "array([6, 7, 8, 9])"
      ]
     },
     "execution_count": 123,
     "metadata": {},
     "output_type": "execute_result"
    }
   ],
   "source": [
    "# array1d[array1d>5]와의 비교\n",
    "boolean_index = np.array([False, False, False, False, False,  True,  True,  True,  True])\n",
    "array1d[boolean_index]"
   ]
  },
  {
   "cell_type": "markdown",
   "id": "65c4ff82",
   "metadata": {},
   "source": [
    "### sort()와 argsort()함수 실습"
   ]
  },
  {
   "cell_type": "markdown",
   "id": "638e2cdf",
   "metadata": {},
   "source": [
    "### summary :: 원본을 변환시키는 함수는 return 값이 없으므로 출력값이 없는 겁니다\n",
    "* 만약 원본을 유지시키는 함수라면 return 값을 받을 것이므로 출력값이 있게 됩니다"
   ]
  },
  {
   "cell_type": "code",
   "execution_count": 129,
   "id": "a24630af",
   "metadata": {},
   "outputs": [
    {
     "name": "stdout",
     "output_type": "stream",
     "text": [
      "[1, 2, 3, 4]\n"
     ]
    }
   ],
   "source": [
    "# list에 해당하는 sort()\n",
    "a = [1,4,2,3]\n",
    "a.sort()\n",
    "print(a)\n",
    "a # 원본이 변환되어 있음.."
   ]
  },
  {
   "cell_type": "code",
   "execution_count": 130,
   "id": "9d66894d",
   "metadata": {},
   "outputs": [
    {
     "name": "stdout",
     "output_type": "stream",
     "text": [
      "8\n"
     ]
    }
   ],
   "source": [
    "## 출력값이 없는 함수의 사례\n",
    "def add(x,y):\n",
    "#     print(\"%d, %d의 합은 %d입니다\" % (x,y, x+y))\n",
    "    return x+y\n",
    "result = add(x=3,y=5)\n",
    "print(result)"
   ]
  },
  {
   "cell_type": "code",
   "execution_count": 138,
   "id": "0b8372dd",
   "metadata": {},
   "outputs": [
    {
     "name": "stdout",
     "output_type": "stream",
     "text": [
      "원본 행렬: [3 1 9 5]\n",
      "np.sort() 적용 후 원본 행렬: [3 1 9 5]\n",
      "np.sort() 적용 후 정렬 행렬: [1 3 5 9]\n",
      "ndarray.sort() 적용 후 원본 행렬: [1 3 5 9]\n",
      "ndarray.sort() 적용 후 정렬 행렬: None\n"
     ]
    }
   ],
   "source": [
    "org_array = np.array([3,1,9,5])\n",
    "print('원본 행렬:', org_array)\n",
    "\n",
    "# np.sort()를 통해 정렬\n",
    "sorted_array1 = np.sort(org_array) # numpy 패키지의 sort 적용\n",
    "print('np.sort() 적용 후 원본 행렬:', org_array)\n",
    "print('np.sort() 적용 후 정렬 행렬:', sorted_array1)\n",
    "\n",
    "# ndarray.sort()를 통해 정렬\n",
    "sorted_array2 = org_array.sort() # 기본함수 sort 적용\n",
    "print('ndarray.sort() 적용 후 원본 행렬:', org_array)\n",
    "print('ndarray.sort() 적용 후 정렬 행렬:', sorted_array2)\n",
    "\n",
    "# summary :: 원본을 변환시키는 함수는 return 값이 없으므로 출력값이 없는 겁니다\n",
    "# 만약 원본을 유지시키는 함수라면 return 값을 받을 것이므로 출력값이 있게 됩니다"
   ]
  }
 ],
 "metadata": {
  "kernelspec": {
   "display_name": "Python 3 (ipykernel)",
   "language": "python",
   "name": "python3"
  },
  "language_info": {
   "codemirror_mode": {
    "name": "ipython",
    "version": 3
   },
   "file_extension": ".py",
   "mimetype": "text/x-python",
   "name": "python",
   "nbconvert_exporter": "python",
   "pygments_lexer": "ipython3",
   "version": "3.9.7"
  }
 },
 "nbformat": 4,
 "nbformat_minor": 5
}
