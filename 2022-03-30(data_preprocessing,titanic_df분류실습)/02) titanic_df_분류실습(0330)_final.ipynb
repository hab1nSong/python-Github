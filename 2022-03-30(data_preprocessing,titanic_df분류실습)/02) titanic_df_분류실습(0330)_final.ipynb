{
 "cells": [
  {
   "cell_type": "markdown",
   "id": "e210d599",
   "metadata": {},
   "source": [
    "이번 절에서는 캐글에서는 제공하는 타이타닉 탑승자 데이터를 기반으로 생존자 예측을 사이킷런으로 수행해보자.\n",
    "1장에서 판다스의 DataFrame을 설명할 때 바로 이 타이타닉 탑승자 데이터를 이용했다. 1장의 판다스 설명 부분을\n",
    "건너뛴 분들은 https://www.kaggle.com/c/titanic/data 에 접속해 데이터를 내려받기 바랍니다. 저장시 train.csv를 새로운 주피터 노트북이 위치한 디렉토리에 'titanic_train.csv'라는 이름으로 저장하면 된다.\n",
    "\n",
    "내려받은 타이타닉 탑승자 데이터에 대해 개략적으로 살펴보자. "
   ]
  },
  {
   "cell_type": "markdown",
   "id": "f1db2643",
   "metadata": {},
   "source": [
    "* Passengerid: 탑승자 데이터 일련번호\n",
    "* survived: 생존 여부, 0 = 사망, 1= 생존 :: y값이 될 녀석!!! == target 변수\n",
    "* pclass: 티켓의 선실 등급, 1=일등석, 2=이등석, 3=삼등석\n",
    "* sex: 탑승자 성별\n",
    "* name: 탑승자 이름\n",
    "* Age: 탑승자 나이\n",
    "* sibsp: 같이 탑승한 형제자매 또는 배우자 인원수\n",
    "* parch: 같이 탑승한 부모님 또는 어린이 인원수\n",
    "* ticket: 티켓 번호\n",
    "* fare: 요금\n",
    "* cabin: 선실 번호\n",
    "* embarked: 중간 정착 항구 C=Cherbourg, Q=Queenstown, S=Southampton "
   ]
  },
  {
   "cell_type": "code",
   "execution_count": 1,
   "id": "cdd65495",
   "metadata": {},
   "outputs": [],
   "source": [
    "# 데이터의 정보와 EDA를 위한 라이브러리 호출!!!\n",
    "import numpy as np\n",
    "import pandas as pd\n",
    "import matplotlib.pyplot as plt\n",
    "import seaborn as sns\n",
    "\n",
    "import warnings\n",
    "warnings.filterwarnings('ignore')"
   ]
  },
  {
   "cell_type": "code",
   "execution_count": 2,
   "id": "06877043",
   "metadata": {
    "scrolled": true
   },
   "outputs": [
    {
     "data": {
      "text/html": [
       "<div>\n",
       "<style scoped>\n",
       "    .dataframe tbody tr th:only-of-type {\n",
       "        vertical-align: middle;\n",
       "    }\n",
       "\n",
       "    .dataframe tbody tr th {\n",
       "        vertical-align: top;\n",
       "    }\n",
       "\n",
       "    .dataframe thead th {\n",
       "        text-align: right;\n",
       "    }\n",
       "</style>\n",
       "<table border=\"1\" class=\"dataframe\">\n",
       "  <thead>\n",
       "    <tr style=\"text-align: right;\">\n",
       "      <th></th>\n",
       "      <th>PassengerId</th>\n",
       "      <th>Survived</th>\n",
       "      <th>Pclass</th>\n",
       "      <th>Name</th>\n",
       "      <th>Sex</th>\n",
       "      <th>Age</th>\n",
       "      <th>SibSp</th>\n",
       "      <th>Parch</th>\n",
       "      <th>Ticket</th>\n",
       "      <th>Fare</th>\n",
       "      <th>Cabin</th>\n",
       "      <th>Embarked</th>\n",
       "    </tr>\n",
       "  </thead>\n",
       "  <tbody>\n",
       "    <tr>\n",
       "      <th>0</th>\n",
       "      <td>1</td>\n",
       "      <td>0</td>\n",
       "      <td>3</td>\n",
       "      <td>Braund, Mr. Owen Harris</td>\n",
       "      <td>male</td>\n",
       "      <td>22.0</td>\n",
       "      <td>1</td>\n",
       "      <td>0</td>\n",
       "      <td>A/5 21171</td>\n",
       "      <td>7.2500</td>\n",
       "      <td>NaN</td>\n",
       "      <td>S</td>\n",
       "    </tr>\n",
       "    <tr>\n",
       "      <th>1</th>\n",
       "      <td>2</td>\n",
       "      <td>1</td>\n",
       "      <td>1</td>\n",
       "      <td>Cumings, Mrs. John Bradley (Florence Briggs Th...</td>\n",
       "      <td>female</td>\n",
       "      <td>38.0</td>\n",
       "      <td>1</td>\n",
       "      <td>0</td>\n",
       "      <td>PC 17599</td>\n",
       "      <td>71.2833</td>\n",
       "      <td>C85</td>\n",
       "      <td>C</td>\n",
       "    </tr>\n",
       "  </tbody>\n",
       "</table>\n",
       "</div>"
      ],
      "text/plain": [
       "   PassengerId  Survived  Pclass  \\\n",
       "0            1         0       3   \n",
       "1            2         1       1   \n",
       "\n",
       "                                                Name     Sex   Age  SibSp  \\\n",
       "0                            Braund, Mr. Owen Harris    male  22.0      1   \n",
       "1  Cumings, Mrs. John Bradley (Florence Briggs Th...  female  38.0      1   \n",
       "\n",
       "   Parch     Ticket     Fare Cabin Embarked  \n",
       "0      0  A/5 21171   7.2500   NaN        S  \n",
       "1      0   PC 17599  71.2833   C85        C  "
      ]
     },
     "execution_count": 2,
     "metadata": {},
     "output_type": "execute_result"
    }
   ],
   "source": [
    "# 데이터 로드\n",
    "titan_df = pd.read_csv('D:/pythonTest/train.csv')\n",
    "titan_df.head(2)"
   ]
  },
  {
   "cell_type": "code",
   "execution_count": 3,
   "id": "d80370ba",
   "metadata": {},
   "outputs": [
    {
     "name": "stdout",
     "output_type": "stream",
     "text": [
      "\n",
      "### 학습 데이터 정보 ###\n",
      "\n",
      "<class 'pandas.core.frame.DataFrame'>\n",
      "RangeIndex: 891 entries, 0 to 890\n",
      "Data columns (total 12 columns):\n",
      " #   Column       Non-Null Count  Dtype  \n",
      "---  ------       --------------  -----  \n",
      " 0   PassengerId  891 non-null    int64  \n",
      " 1   Survived     891 non-null    int64  \n",
      " 2   Pclass       891 non-null    int64  \n",
      " 3   Name         891 non-null    object \n",
      " 4   Sex          891 non-null    object \n",
      " 5   Age          714 non-null    float64\n",
      " 6   SibSp        891 non-null    int64  \n",
      " 7   Parch        891 non-null    int64  \n",
      " 8   Ticket       891 non-null    object \n",
      " 9   Fare         891 non-null    float64\n",
      " 10  Cabin        204 non-null    object \n",
      " 11  Embarked     889 non-null    object \n",
      "dtypes: float64(2), int64(5), object(5)\n",
      "memory usage: 83.7+ KB\n",
      "None\n"
     ]
    }
   ],
   "source": [
    "print('\\n### 학습 데이터 정보 ###\\n')\n",
    "print(titan_df.info())"
   ]
  },
  {
   "cell_type": "code",
   "execution_count": 4,
   "id": "83b0299e",
   "metadata": {},
   "outputs": [
    {
     "data": {
      "text/plain": [
       "866"
      ]
     },
     "execution_count": 4,
     "metadata": {},
     "output_type": "execute_result"
    }
   ],
   "source": [
    "# 결측값을 확인해보자.\n",
    "titan_df.isnull().sum().sum()"
   ]
  },
  {
   "cell_type": "code",
   "execution_count": 5,
   "id": "b17f857a",
   "metadata": {},
   "outputs": [
    {
     "name": "stdout",
     "output_type": "stream",
     "text": [
      "데이터셋의 null값: 0\n"
     ]
    }
   ],
   "source": [
    "# missing value를 처리\n",
    "titan_df['Age'] = titan_df.Age.fillna(np.mean(titan_df.Age))\n",
    "titan_df['Cabin'] = titan_df.Cabin.fillna('N')\n",
    "titan_df['Embarked'] = titan_df.Embarked.fillna('N')\n",
    "print('데이터셋의 null값:', titan_df.isnull().sum().sum())"
   ]
  },
  {
   "cell_type": "markdown",
   "id": "6fd297f6",
   "metadata": {},
   "source": [
    "문자열 중에서 Sex, Cabin, Embarked의 분포 혹은 분류를 살펴보자. "
   ]
  },
  {
   "cell_type": "code",
   "execution_count": 6,
   "id": "aedbf8bc",
   "metadata": {},
   "outputs": [
    {
     "name": "stdout",
     "output_type": "stream",
     "text": [
      "Sex 값 분포:\n",
      " male      577\n",
      "female    314\n",
      "Name: Sex, dtype: int64\n",
      "Cabin 값 분포:\n",
      " N              687\n",
      "C23 C25 C27      4\n",
      "G6               4\n",
      "B96 B98          4\n",
      "C22 C26          3\n",
      "              ... \n",
      "E34              1\n",
      "C7               1\n",
      "C54              1\n",
      "E36              1\n",
      "C148             1\n",
      "Name: Cabin, Length: 148, dtype: int64\n",
      "Embarked 값 분포:\n",
      " S    644\n",
      "C    168\n",
      "Q     77\n",
      "N      2\n",
      "Name: Embarked, dtype: int64\n"
     ]
    }
   ],
   "source": [
    "print('Sex 값 분포:\\n', titan_df.Sex.value_counts())\n",
    "print('Cabin 값 분포:\\n', titan_df.Cabin.value_counts())\n",
    "print('Embarked 값 분포:\\n', titan_df.Embarked.value_counts())"
   ]
  },
  {
   "cell_type": "code",
   "execution_count": 7,
   "id": "007e5ff0",
   "metadata": {},
   "outputs": [
    {
     "name": "stdout",
     "output_type": "stream",
     "text": [
      "N    687\n",
      "C     59\n",
      "B     47\n",
      "D     33\n",
      "E     32\n",
      "A     15\n",
      "F     13\n",
      "G      4\n",
      "T      1\n",
      "Name: Cabin, dtype: int64\n"
     ]
    }
   ],
   "source": [
    "titan_df['Cabin']=titan_df.Cabin.str[0]\n",
    "print(titan_df.Cabin.value_counts())"
   ]
  },
  {
   "cell_type": "code",
   "execution_count": 8,
   "id": "df006091",
   "metadata": {},
   "outputs": [
    {
     "name": "stdout",
     "output_type": "stream",
     "text": [
      "0.18890814558058924\n"
     ]
    }
   ],
   "source": [
    "# 성별에 따른 생존확률을 분석해봅시다.\n",
    "\n",
    "titan_df.groupby(by=['Sex','Survived'])['Survived'].count()\n",
    "# s_rate_f = 233/(233+81)\n",
    "# print(s_rate_f) # 여성의 생존률\n",
    "s_rate_m = 109/(468+109)\n",
    "print(s_rate_m) # 남성의 생존률"
   ]
  },
  {
   "cell_type": "code",
   "execution_count": 9,
   "id": "0ea0e648",
   "metadata": {},
   "outputs": [
    {
     "data": {
      "text/plain": [
       "<AxesSubplot:xlabel='Sex', ylabel='Survived'>"
      ]
     },
     "execution_count": 9,
     "metadata": {},
     "output_type": "execute_result"
    },
    {
     "data": {
      "image/png": "[encoded data removed]",
      "text/plain": [
       "<Figure size 432x288 with 1 Axes>"
      ]
     },
     "metadata": {
      "needs_background": "light"
     },
     "output_type": "display_data"
    }
   ],
   "source": [
    "sns.barplot(x='Sex',y='Survived', data=titan_df)"
   ]
  },
  {
   "cell_type": "markdown",
   "id": "02baa4a8",
   "metadata": {},
   "source": [
    "부자와 가난한 사람 간의 생존확률은 어떨까? 부를 측정할 수 있는 속성으로 적당한 것은 객실 등급일 것이다. 일등실, 이등실, 마지막으로 삼등실에 따라 생존 확률을 살펴보자. 단순히 객실 등급별 성별에 따른 생존 확률을 표현해보도록 하자. 앞의 barplot()함수에 x좌표에 'Pclass'를 , 그리고 hue 파라미터를 추가해서 hue='Sex'와 같이 입력하면 간단하게 할 수 있다.  "
   ]
  },
  {
   "cell_type": "code",
   "execution_count": 10,
   "id": "e7b4675e",
   "metadata": {},
   "outputs": [
    {
     "data": {
      "text/plain": [
       "<AxesSubplot:xlabel='Pclass', ylabel='Survived'>"
      ]
     },
     "execution_count": 10,
     "metadata": {},
     "output_type": "execute_result"
    },
    {
     "data": {
      "image/png": "[encoded data removed]",
      "text/plain": [
       "<Figure size 432x288 with 1 Axes>"
      ]
     },
     "metadata": {
      "needs_background": "light"
     },
     "output_type": "display_data"
    }
   ],
   "source": [
    "sns.barplot(x='Pclass', y='Survived', hue='Sex', data=titan_df)"
   ]
  },
  {
   "cell_type": "markdown",
   "id": "7f17c477",
   "metadata": {},
   "source": [
    "여성의 경우 일, 이등실에 따른 생존 확률의 차이는 크지 않으나, 삼등실의 경우 생존 확률이 상대적으로 많이 떨어짐을 알 수 있다. 남성의 경우는 일등실의 생존 확률이 이, 삼등실의 생존 확률보다 월등히 높다. 이번에는 Age에 따른 생존 확률을 알아보겠습니다. Age의 경우 값 종류가 많기 때문에 범위별로 분류해 카테고리 값을 할당하자.\n",
    "\n",
    "    0~5세는 baby\n",
    "    6~12세는 child\n",
    "    13~18세는 teen\n",
    "    19~25세는 student\n",
    "    26~35세는 young Adult\n",
    "    36~60세는 adult\n",
    "    61세 이상은 elderly\n",
    "\n",
    "-1이하의 오류 값은 Unknown으로 분류 "
   ]
  },
  {
   "cell_type": "code",
   "execution_count": 11,
   "id": "2622745b",
   "metadata": {},
   "outputs": [],
   "source": [
    "def get_category(age):\n",
    "    capital = ''\n",
    "    if age <=-1: capital='unknown'\n",
    "    elif age<=5: capital='baby'\n",
    "    elif age<=12: capital='child'\n",
    "    elif age<=18: capital= 'teen'\n",
    "    elif age<=25: capital='student'\n",
    "    elif age<=35: capital='y_adult'\n",
    "    elif age<=60: capital='adult'        \n",
    "    else: capital = 'elderly'\n",
    "    return capital"
   ]
  },
  {
   "cell_type": "code",
   "execution_count": 12,
   "id": "c56366f5",
   "metadata": {},
   "outputs": [
    {
     "data": {
      "text/plain": [
       "<AxesSubplot:xlabel='Age_cat', ylabel='Survived'>"
      ]
     },
     "execution_count": 12,
     "metadata": {},
     "output_type": "execute_result"
    },
    {
     "data": {
      "image/png": "[encoded data removed]",
      "text/plain": [
       "<Figure size 720x432 with 1 Axes>"
      ]
     },
     "metadata": {
      "needs_background": "light"
     },
     "output_type": "display_data"
    }
   ],
   "source": [
    "# 막대그래프의 크기 :: figure를 더 크게 설정\n",
    "plt.figure(figsize=(10,6))\n",
    "\n",
    "# X축의 값을 정렬하기 위한 list를 생성\n",
    "group_names = ['unknown','baby','child','teen','student','y_adult','adult','elderly']\n",
    "\n",
    "# get_category(x)는 입력값으로 'Age'의 value들을 받아서 Capital로 반환\n",
    "titan_df['Age_cat'] = titan_df['Age'].apply(lambda x: get_category(x)) # 파생변수\n",
    "sns.barplot(x='Age_cat', y='Survived', hue='Sex', data=titan_df, order=group_names)"
   ]
  },
  {
   "cell_type": "markdown",
   "id": "761819a2",
   "metadata": {},
   "source": [
    " 여성_baby와 elderly의 경우 비교적 생존확률이 높았다. 이제까지의 분석을 보면 Sex,Age,Pclass 등이 주요 피처(feature)임을 깨달았다."
   ]
  },
  {
   "cell_type": "code",
   "execution_count": 13,
   "id": "96472d1e",
   "metadata": {},
   "outputs": [
    {
     "name": "stdout",
     "output_type": "stream",
     "text": [
      "<class 'pandas.core.frame.DataFrame'>\n",
      "RangeIndex: 891 entries, 0 to 890\n",
      "Data columns (total 13 columns):\n",
      " #   Column       Non-Null Count  Dtype  \n",
      "---  ------       --------------  -----  \n",
      " 0   PassengerId  891 non-null    int64  \n",
      " 1   Survived     891 non-null    int64  \n",
      " 2   Pclass       891 non-null    int64  \n",
      " 3   Name         891 non-null    object \n",
      " 4   Sex          891 non-null    object \n",
      " 5   Age          891 non-null    float64\n",
      " 6   SibSp        891 non-null    int64  \n",
      " 7   Parch        891 non-null    int64  \n",
      " 8   Ticket       891 non-null    object \n",
      " 9   Fare         891 non-null    float64\n",
      " 10  Cabin        891 non-null    object \n",
      " 11  Embarked     891 non-null    object \n",
      " 12  Age_cat      891 non-null    object \n",
      "dtypes: float64(2), int64(5), object(6)\n",
      "memory usage: 90.6+ KB\n"
     ]
    },
    {
     "data": {
      "text/plain": [
       "Index(['Name', 'Sex', 'Ticket', 'Cabin', 'Embarked', 'Age_cat'], dtype='object')"
      ]
     },
     "execution_count": 13,
     "metadata": {},
     "output_type": "execute_result"
    }
   ],
   "source": [
    "titan_df.info() #데이터 정보를 보는 code문\n",
    "titan_df.select_dtypes(include='object').columns # 컬럼들만 가지고 오는 code문"
   ]
  },
  {
   "cell_type": "code",
   "execution_count": 14,
   "id": "21b63be5",
   "metadata": {},
   "outputs": [],
   "source": [
    "# 결측값 처리 함수\n",
    "def fillna(data_df):\n",
    "    data_df['Age'].fillna(np.mean(data_df['Age']),inplace=True)\n",
    "    data_df['Cabin'].fillna('N',inplace=True)\n",
    "    data_df['Embarked'].fillna('N',inplace=True)    \n",
    "    return data_df"
   ]
  },
  {
   "cell_type": "code",
   "execution_count": 15,
   "id": "ea5b7289",
   "metadata": {},
   "outputs": [],
   "source": [
    "# 머신러닝 알고리즘에 불필요 속성(attr:: col)제거\n",
    "# 'Ticket', 'Name', 'PassengerId', 'Cabin', 'Embarked' 컬럼들 삭제\n",
    "def drop_ftr(data_df):\n",
    "    data_df.drop(['Ticket', 'Name', 'PassengerId', 'Cabin', 'Embarked'], axis=1, inplace=True)\n",
    "    return data_df"
   ]
  },
  {
   "cell_type": "code",
   "execution_count": 16,
   "id": "6a18e787",
   "metadata": {},
   "outputs": [],
   "source": [
    "# 레이블 인코딩 수행\n",
    "from sklearn.preprocessing import LabelEncoder\n",
    "\n",
    "def le_encode_ftrs(data_df):    \n",
    "    features = ['Sex']\n",
    "    for ftr in features:\n",
    "        le=LabelEncoder() # 위의 LabelEncoder를 객체화\n",
    "        le=le.fit(data_df[ftr])\n",
    "        data_df[ftr]=le.transform(data_df[ftr])       \n",
    "    return data_df"
   ]
  },
  {
   "cell_type": "code",
   "execution_count": 17,
   "id": "a708cffb",
   "metadata": {},
   "outputs": [],
   "source": [
    "# 위에서 설정한 함수들을 다 통합\n",
    "def preprocessing_ftrs(data_df):\n",
    "    data_df = fillna(data_df)\n",
    "    data_df = drop_ftr(data_df)\n",
    "    data_df = le_encode_ftrs(data_df)\n",
    "    return data_df"
   ]
  },
  {
   "cell_type": "code",
   "execution_count": 18,
   "id": "81cfae81",
   "metadata": {},
   "outputs": [
    {
     "data": {
      "text/html": [
       "<div>\n",
       "<style scoped>\n",
       "    .dataframe tbody tr th:only-of-type {\n",
       "        vertical-align: middle;\n",
       "    }\n",
       "\n",
       "    .dataframe tbody tr th {\n",
       "        vertical-align: top;\n",
       "    }\n",
       "\n",
       "    .dataframe thead th {\n",
       "        text-align: right;\n",
       "    }\n",
       "</style>\n",
       "<table border=\"1\" class=\"dataframe\">\n",
       "  <thead>\n",
       "    <tr style=\"text-align: right;\">\n",
       "      <th></th>\n",
       "      <th>Pclass</th>\n",
       "      <th>Sex</th>\n",
       "      <th>Age</th>\n",
       "      <th>SibSp</th>\n",
       "      <th>Parch</th>\n",
       "      <th>Fare</th>\n",
       "    </tr>\n",
       "  </thead>\n",
       "  <tbody>\n",
       "    <tr>\n",
       "      <th>0</th>\n",
       "      <td>3</td>\n",
       "      <td>1</td>\n",
       "      <td>22.000000</td>\n",
       "      <td>1</td>\n",
       "      <td>0</td>\n",
       "      <td>7.2500</td>\n",
       "    </tr>\n",
       "    <tr>\n",
       "      <th>1</th>\n",
       "      <td>1</td>\n",
       "      <td>0</td>\n",
       "      <td>38.000000</td>\n",
       "      <td>1</td>\n",
       "      <td>0</td>\n",
       "      <td>71.2833</td>\n",
       "    </tr>\n",
       "    <tr>\n",
       "      <th>2</th>\n",
       "      <td>3</td>\n",
       "      <td>0</td>\n",
       "      <td>26.000000</td>\n",
       "      <td>0</td>\n",
       "      <td>0</td>\n",
       "      <td>7.9250</td>\n",
       "    </tr>\n",
       "    <tr>\n",
       "      <th>3</th>\n",
       "      <td>1</td>\n",
       "      <td>0</td>\n",
       "      <td>35.000000</td>\n",
       "      <td>1</td>\n",
       "      <td>0</td>\n",
       "      <td>53.1000</td>\n",
       "    </tr>\n",
       "    <tr>\n",
       "      <th>4</th>\n",
       "      <td>3</td>\n",
       "      <td>1</td>\n",
       "      <td>35.000000</td>\n",
       "      <td>0</td>\n",
       "      <td>0</td>\n",
       "      <td>8.0500</td>\n",
       "    </tr>\n",
       "    <tr>\n",
       "      <th>...</th>\n",
       "      <td>...</td>\n",
       "      <td>...</td>\n",
       "      <td>...</td>\n",
       "      <td>...</td>\n",
       "      <td>...</td>\n",
       "      <td>...</td>\n",
       "    </tr>\n",
       "    <tr>\n",
       "      <th>886</th>\n",
       "      <td>2</td>\n",
       "      <td>1</td>\n",
       "      <td>27.000000</td>\n",
       "      <td>0</td>\n",
       "      <td>0</td>\n",
       "      <td>13.0000</td>\n",
       "    </tr>\n",
       "    <tr>\n",
       "      <th>887</th>\n",
       "      <td>1</td>\n",
       "      <td>0</td>\n",
       "      <td>19.000000</td>\n",
       "      <td>0</td>\n",
       "      <td>0</td>\n",
       "      <td>30.0000</td>\n",
       "    </tr>\n",
       "    <tr>\n",
       "      <th>888</th>\n",
       "      <td>3</td>\n",
       "      <td>0</td>\n",
       "      <td>29.699118</td>\n",
       "      <td>1</td>\n",
       "      <td>2</td>\n",
       "      <td>23.4500</td>\n",
       "    </tr>\n",
       "    <tr>\n",
       "      <th>889</th>\n",
       "      <td>1</td>\n",
       "      <td>1</td>\n",
       "      <td>26.000000</td>\n",
       "      <td>0</td>\n",
       "      <td>0</td>\n",
       "      <td>30.0000</td>\n",
       "    </tr>\n",
       "    <tr>\n",
       "      <th>890</th>\n",
       "      <td>3</td>\n",
       "      <td>1</td>\n",
       "      <td>32.000000</td>\n",
       "      <td>0</td>\n",
       "      <td>0</td>\n",
       "      <td>7.7500</td>\n",
       "    </tr>\n",
       "  </tbody>\n",
       "</table>\n",
       "<p>891 rows × 6 columns</p>\n",
       "</div>"
      ],
      "text/plain": [
       "     Pclass  Sex        Age  SibSp  Parch     Fare\n",
       "0         3    1  22.000000      1      0   7.2500\n",
       "1         1    0  38.000000      1      0  71.2833\n",
       "2         3    0  26.000000      0      0   7.9250\n",
       "3         1    0  35.000000      1      0  53.1000\n",
       "4         3    1  35.000000      0      0   8.0500\n",
       "..      ...  ...        ...    ...    ...      ...\n",
       "886       2    1  27.000000      0      0  13.0000\n",
       "887       1    0  19.000000      0      0  30.0000\n",
       "888       3    0  29.699118      1      2  23.4500\n",
       "889       1    1  26.000000      0      0  30.0000\n",
       "890       3    1  32.000000      0      0   7.7500\n",
       "\n",
       "[891 rows x 6 columns]"
      ]
     },
     "execution_count": 18,
     "metadata": {},
     "output_type": "execute_result"
    }
   ],
   "source": [
    "# 원본 데이터 재로딩\n",
    "titanic_df = pd.read_csv('/pythonTest/train.csv')\n",
    "y_titanic = titanic_df['Survived']\n",
    "X_titanic = titanic_df.drop('Survived', axis=1)\n",
    "\n",
    "preprocessing_ftrs(X_titanic) # inplace = True 파라미터를 넣었으므로 원본 변형이 일어난다"
   ]
  },
  {
   "cell_type": "code",
   "execution_count": 19,
   "id": "082cec28",
   "metadata": {},
   "outputs": [],
   "source": [
    "from sklearn.model_selection import train_test_split\n",
    "X_train, X_val, y_train, y_val = train_test_split(X_titanic, y_titanic, test_size=.2,\n",
    "                                                 random_state=11)"
   ]
  },
  {
   "cell_type": "markdown",
   "id": "5cb6e36b",
   "metadata": {},
   "source": [
    "ML 알고리즘에서 의사결정나무, 랜덤포레스트, 로지스틱 회귀를 사용하여 학습기를 만들어보자. (로지스틱 회귀는 선형회귀에서 파생되었지만, 매우 강력한 분류알고리즘) "
   ]
  },
  {
   "cell_type": "code",
   "execution_count": 20,
   "id": "14acf9e8",
   "metadata": {},
   "outputs": [
    {
     "name": "stdout",
     "output_type": "stream",
     "text": [
      "dt_clf의 정확도:0.7933\n",
      "rf_clf의 정확도:0.8603\n",
      "lr_clf의 정확도:0.8436\n"
     ]
    }
   ],
   "source": [
    "from sklearn.tree import DecisionTreeClassifier\n",
    "from sklearn.ensemble import RandomForestClassifier\n",
    "from sklearn.linear_model import LogisticRegression\n",
    "from sklearn.metrics import accuracy_score as acc_sc\n",
    "\n",
    "# 의사결정나무, 랜덤포레스트, 로지스틱 회귀 객체화\n",
    "dt_clf = DecisionTreeClassifier(random_state=11)\n",
    "rf_clf = RandomForestClassifier(random_state=11)\n",
    "lr_clf = LogisticRegression(random_state=11)\n",
    "\n",
    "#DecisionTreeClassifier 학습/예측평가\n",
    "dt_clf.fit(X_train,y_train)\n",
    "dt_pred = dt_clf.predict(X_val)\n",
    "print('dt_clf의 정확도:{0:.4f}'.format(acc_sc(y_val,dt_pred)))\n",
    "\n",
    "#RandomForestClassifier 학습/예측평가\n",
    "rf_clf.fit(X_train,y_train)\n",
    "rf_pred = rf_clf.predict(X_val)\n",
    "print('rf_clf의 정확도:{0:.4f}'.format(acc_sc(y_val,rf_pred)))\n",
    "\n",
    "#LogisticRegression 학습/예측평가\n",
    "lr_clf.fit(X_train,y_train)\n",
    "lr_pred = lr_clf.predict(X_val)\n",
    "print('lr_clf의 정확도:{0:.4f}'.format(acc_sc(y_val,lr_pred)))"
   ]
  },
  {
   "cell_type": "markdown",
   "id": "7622fac9",
   "metadata": {},
   "source": [
    "이번에는 교차검증을 cross_val_score()를 통해서 수행해봅시다. "
   ]
  },
  {
   "cell_type": "code",
   "execution_count": 21,
   "id": "b323e185",
   "metadata": {},
   "outputs": [
    {
     "name": "stdout",
     "output_type": "stream",
     "text": [
      "0 ysp\n",
      "1 jh\n",
      "2 yh\n",
      "3 yj\n",
      "4 sm\n",
      "5 es\n"
     ]
    }
   ],
   "source": [
    "for i,j in enumerate(['ysp','jh','yh','yj','sm','es']):\n",
    "    print(i,j)"
   ]
  },
  {
   "cell_type": "code",
   "execution_count": 22,
   "id": "075f33c3",
   "metadata": {},
   "outputs": [
    {
     "name": "stdout",
     "output_type": "stream",
     "text": [
      "0번째 cv 정확도:0.7151\n",
      "1번째 cv 정확도:0.8034\n",
      "2번째 cv 정확도:0.8034\n",
      "3번째 cv 정확도:0.7472\n",
      "4번째 cv 정확도:0.7921\n",
      "평균 정확도:0.7722\n"
     ]
    }
   ],
   "source": [
    "# decision_tree cv\n",
    "from sklearn.model_selection import cross_val_score\n",
    "\n",
    "score_dt = cross_val_score(dt_clf,X_titanic, y_titanic, cv=5)\n",
    "for n_iter, accuracy in enumerate(score_dt):\n",
    "    print('{0}번째 cv 정확도:{1:.4f}'.format(n_iter, accuracy))\n",
    "    \n",
    "print('평균 정확도:{0:.4f}'.format(np.mean(score_dt)))"
   ]
  },
  {
   "cell_type": "code",
   "execution_count": 23,
   "id": "22888dff",
   "metadata": {},
   "outputs": [
    {
     "name": "stdout",
     "output_type": "stream",
     "text": [
      "0번째 cv 정확도:0.7709\n",
      "1번째 cv 정확도:0.8090\n",
      "2번째 cv 정확도:0.8539\n",
      "3번째 cv 정확도:0.7753\n",
      "4번째 cv 정확도:0.8483\n",
      "평균 정확도:0.8115\n"
     ]
    }
   ],
   "source": [
    "# RandomForest cv\n",
    "from sklearn.model_selection import cross_val_score\n",
    "\n",
    "score_rf = cross_val_score(rf_clf,X_titanic, y_titanic, cv=5)\n",
    "for n_iter, accuracy in enumerate(score_rf):\n",
    "    print('{0}번째 cv 정확도:{1:.4f}'.format(n_iter, accuracy))\n",
    "    \n",
    "print('평균 정확도:{0:.4f}'.format(np.mean(score_rf)))"
   ]
  },
  {
   "cell_type": "code",
   "execution_count": 24,
   "id": "be392f61",
   "metadata": {},
   "outputs": [
    {
     "name": "stdout",
     "output_type": "stream",
     "text": [
      "0번째 cv 정확도:0.7877\n",
      "1번째 cv 정확도:0.7753\n",
      "2번째 cv 정확도:0.7809\n",
      "3번째 cv 정확도:0.7640\n",
      "4번째 cv 정확도:0.8146\n",
      "평균 정확도:0.7845\n"
     ]
    }
   ],
   "source": [
    "# LogisticRegression cv\n",
    "from sklearn.model_selection import cross_val_score\n",
    "\n",
    "score_lr = cross_val_score(lr_clf,X_titanic, y_titanic, cv=5)\n",
    "for n_iter, accuracy in enumerate(score_lr):\n",
    "    print('{0}번째 cv 정확도:{1:.4f}'.format(n_iter, accuracy))\n",
    "    \n",
    "print('평균 정확도:{0:.4f}'.format(np.mean(score_lr)))"
   ]
  },
  {
   "cell_type": "code",
   "execution_count": 26,
   "id": "a1ec0b00",
   "metadata": {},
   "outputs": [],
   "source": [
    "# 최종 테스트 제출\n",
    "X_titanic # train에서 전체 X\n",
    "y_titanic # train에서 전체 y\n",
    "\n",
    "X_titan_test = pd.read_csv('/pythonTest/test.csv') # 전체 데이터에서의 test"
   ]
  },
  {
   "cell_type": "code",
   "execution_count": 27,
   "id": "a66b0def",
   "metadata": {},
   "outputs": [
    {
     "data": {
      "text/html": [
       "<div>\n",
       "<style scoped>\n",
       "    .dataframe tbody tr th:only-of-type {\n",
       "        vertical-align: middle;\n",
       "    }\n",
       "\n",
       "    .dataframe tbody tr th {\n",
       "        vertical-align: top;\n",
       "    }\n",
       "\n",
       "    .dataframe thead th {\n",
       "        text-align: right;\n",
       "    }\n",
       "</style>\n",
       "<table border=\"1\" class=\"dataframe\">\n",
       "  <thead>\n",
       "    <tr style=\"text-align: right;\">\n",
       "      <th></th>\n",
       "      <th>Pclass</th>\n",
       "      <th>Sex</th>\n",
       "      <th>Age</th>\n",
       "      <th>SibSp</th>\n",
       "      <th>Parch</th>\n",
       "      <th>Fare</th>\n",
       "    </tr>\n",
       "  </thead>\n",
       "  <tbody>\n",
       "    <tr>\n",
       "      <th>0</th>\n",
       "      <td>3</td>\n",
       "      <td>1</td>\n",
       "      <td>34.50000</td>\n",
       "      <td>0</td>\n",
       "      <td>0</td>\n",
       "      <td>7.8292</td>\n",
       "    </tr>\n",
       "    <tr>\n",
       "      <th>1</th>\n",
       "      <td>3</td>\n",
       "      <td>0</td>\n",
       "      <td>47.00000</td>\n",
       "      <td>1</td>\n",
       "      <td>0</td>\n",
       "      <td>7.0000</td>\n",
       "    </tr>\n",
       "    <tr>\n",
       "      <th>2</th>\n",
       "      <td>2</td>\n",
       "      <td>1</td>\n",
       "      <td>62.00000</td>\n",
       "      <td>0</td>\n",
       "      <td>0</td>\n",
       "      <td>9.6875</td>\n",
       "    </tr>\n",
       "    <tr>\n",
       "      <th>3</th>\n",
       "      <td>3</td>\n",
       "      <td>1</td>\n",
       "      <td>27.00000</td>\n",
       "      <td>0</td>\n",
       "      <td>0</td>\n",
       "      <td>8.6625</td>\n",
       "    </tr>\n",
       "    <tr>\n",
       "      <th>4</th>\n",
       "      <td>3</td>\n",
       "      <td>0</td>\n",
       "      <td>22.00000</td>\n",
       "      <td>1</td>\n",
       "      <td>1</td>\n",
       "      <td>12.2875</td>\n",
       "    </tr>\n",
       "    <tr>\n",
       "      <th>...</th>\n",
       "      <td>...</td>\n",
       "      <td>...</td>\n",
       "      <td>...</td>\n",
       "      <td>...</td>\n",
       "      <td>...</td>\n",
       "      <td>...</td>\n",
       "    </tr>\n",
       "    <tr>\n",
       "      <th>413</th>\n",
       "      <td>3</td>\n",
       "      <td>1</td>\n",
       "      <td>30.27259</td>\n",
       "      <td>0</td>\n",
       "      <td>0</td>\n",
       "      <td>8.0500</td>\n",
       "    </tr>\n",
       "    <tr>\n",
       "      <th>414</th>\n",
       "      <td>1</td>\n",
       "      <td>0</td>\n",
       "      <td>39.00000</td>\n",
       "      <td>0</td>\n",
       "      <td>0</td>\n",
       "      <td>108.9000</td>\n",
       "    </tr>\n",
       "    <tr>\n",
       "      <th>415</th>\n",
       "      <td>3</td>\n",
       "      <td>1</td>\n",
       "      <td>38.50000</td>\n",
       "      <td>0</td>\n",
       "      <td>0</td>\n",
       "      <td>7.2500</td>\n",
       "    </tr>\n",
       "    <tr>\n",
       "      <th>416</th>\n",
       "      <td>3</td>\n",
       "      <td>1</td>\n",
       "      <td>30.27259</td>\n",
       "      <td>0</td>\n",
       "      <td>0</td>\n",
       "      <td>8.0500</td>\n",
       "    </tr>\n",
       "    <tr>\n",
       "      <th>417</th>\n",
       "      <td>3</td>\n",
       "      <td>1</td>\n",
       "      <td>30.27259</td>\n",
       "      <td>1</td>\n",
       "      <td>1</td>\n",
       "      <td>22.3583</td>\n",
       "    </tr>\n",
       "  </tbody>\n",
       "</table>\n",
       "<p>418 rows × 6 columns</p>\n",
       "</div>"
      ],
      "text/plain": [
       "     Pclass  Sex       Age  SibSp  Parch      Fare\n",
       "0         3    1  34.50000      0      0    7.8292\n",
       "1         3    0  47.00000      1      0    7.0000\n",
       "2         2    1  62.00000      0      0    9.6875\n",
       "3         3    1  27.00000      0      0    8.6625\n",
       "4         3    0  22.00000      1      1   12.2875\n",
       "..      ...  ...       ...    ...    ...       ...\n",
       "413       3    1  30.27259      0      0    8.0500\n",
       "414       1    0  39.00000      0      0  108.9000\n",
       "415       3    1  38.50000      0      0    7.2500\n",
       "416       3    1  30.27259      0      0    8.0500\n",
       "417       3    1  30.27259      1      1   22.3583\n",
       "\n",
       "[418 rows x 6 columns]"
      ]
     },
     "execution_count": 27,
     "metadata": {},
     "output_type": "execute_result"
    }
   ],
   "source": [
    "preprocessing_ftrs(X_titan_test)"
   ]
  },
  {
   "cell_type": "code",
   "execution_count": 28,
   "id": "d621626f",
   "metadata": {},
   "outputs": [],
   "source": [
    "X_titan_test.isna().sum()\n",
    "# 마지막 fare의 결측값 대체하기\n",
    "\n",
    "X_titan_test.Fare.fillna(np.mean(X_titan_test.Fare),inplace=True)"
   ]
  },
  {
   "cell_type": "code",
   "execution_count": 29,
   "id": "a2cccb32",
   "metadata": {},
   "outputs": [
    {
     "name": "stdout",
     "output_type": "stream",
     "text": [
      "[0 0 1 1 0 0 0 0 1 0 0 0 1 0 1 1 0 1 0 0 0 0 1 0 1 0 1 1 1 0 0 0 1 0 1 0 0\n",
      " 0 0 1 0 0 0 1 1 0 0 0 1 0 1 0 1 1 0 0 0 0 0 1 0 0 0 1 1 1 1 0 0 1 1 0 1 0\n",
      " 1 0 0 1 0 1 1 0 0 0 0 0 1 0 0 1 0 0 1 0 0 0 1 1 1 0 1 0 0 0 0 0 0 0 0 0 0\n",
      " 0 1 1 1 0 0 1 0 1 1 0 1 0 0 0 0 1 0 0 1 0 0 0 0 0 0 0 0 0 0 1 0 0 1 0 0 0\n",
      " 0 0 1 0 0 0 0 0 1 1 1 1 0 1 1 0 0 1 0 0 1 0 0 0 0 0 0 1 1 0 1 1 0 1 1 0 1\n",
      " 0 1 0 0 0 0 0 1 0 1 0 1 0 0 0 1 1 0 1 0 0 0 0 1 0 0 0 0 0 0 0 0 0 1 0 1 0\n",
      " 1 1 1 0 0 0 0 0 0 1 0 0 0 0 1 1 1 1 1 1 0 0 0 0 1 0 1 0 1 0 0 0 0 0 0 0 1\n",
      " 0 0 0 1 1 0 0 0 0 0 0 0 0 1 1 0 1 0 0 0 0 0 1 0 0 1 0 0 0 0 0 0 0 0 0 0 0\n",
      " 1 0 0 0 0 0 0 0 0 1 1 1 0 0 0 1 0 0 1 1 0 0 0 0 0 0 0 1 1 0 1 0 0 0 1 1 0\n",
      " 0 0 0 1 0 0 0 0 0 0 1 1 1 0 0 0 1 1 0 0 0 1 0 1 0 0 1 0 1 1 1 1 0 0 0 1 1\n",
      " 0 1 0 0 1 1 0 0 0 0 0 0 0 0 0 1 0 0 0 0 0 1 0 0 0 1 0 1 0 0 1 0 1 0 0 0 0\n",
      " 0 0 1 0 1 1 0 1 0 0 0]\n"
     ]
    }
   ],
   "source": [
    "## 전체의 데이터로 학습\n",
    "rf_clf.fit(X_titanic,y_titanic)\n",
    "pred_final_rf = rf_clf.predict(X_titan_test)\n",
    "print(pred_final_rf)"
   ]
  },
  {
   "cell_type": "code",
   "execution_count": 32,
   "id": "b39f1db7",
   "metadata": {},
   "outputs": [],
   "source": [
    "result_df = pd.DataFrame(pred_final_rf.reshape(-1,1))\n",
    "result_df1 = result_df.rename(columns={0:'Survived'})\n",
    "result_df1.to_csv('D:/pythonTest/first_titan.csv')"
   ]
  },
  {
   "cell_type": "code",
   "execution_count": 31,
   "id": "e87c6df0",
   "metadata": {},
   "outputs": [
    {
     "data": {
      "text/plain": [
       "0.8038277511961722"
      ]
     },
     "execution_count": 31,
     "metadata": {},
     "output_type": "execute_result"
    }
   ],
   "source": [
    "gender_df = pd.read_csv('D:/pythonTest/gender_submission.csv')\n",
    "actual_y = gender_df.Survived\n",
    "acc_sc(actual_y,pred_final_rf)"
   ]
  }
 ],
 "metadata": {
  "kernelspec": {
   "display_name": "Python 3 (ipykernel)",
   "language": "python",
   "name": "python3"
  },
  "language_info": {
   "codemirror_mode": {
    "name": "ipython",
    "version": 3
   },
   "file_extension": ".py",
   "mimetype": "text/x-python",
   "name": "python",
   "nbconvert_exporter": "python",
   "pygments_lexer": "ipython3",
   "version": "3.9.7"
  }
 },
 "nbformat": 4,
 "nbformat_minor": 5
}
