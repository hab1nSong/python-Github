{
 "cells": [
  {
   "cell_type": "code",
   "execution_count": 5,
   "id": "85009d18",
   "metadata": {
    "scrolled": true
   },
   "outputs": [
    {
     "name": "stdout",
     "output_type": "stream",
     "text": [
      "Requirement already satisfied: sklearn in c:\\programdata\\anaconda3\\lib\\site-packages (0.0)\n",
      "Requirement already satisfied: scikit-learn in c:\\programdata\\anaconda3\\lib\\site-packages (from sklearn) (1.0.2)\n",
      "Requirement already satisfied: numpy>=1.14.6 in c:\\programdata\\anaconda3\\lib\\site-packages (from scikit-learn->sklearn) (1.20.3)\n",
      "Requirement already satisfied: threadpoolctl>=2.0.0 in c:\\programdata\\anaconda3\\lib\\site-packages (from scikit-learn->sklearn) (2.2.0)\n",
      "Requirement already satisfied: joblib>=0.11 in c:\\programdata\\anaconda3\\lib\\site-packages (from scikit-learn->sklearn) (1.1.0)\n",
      "Requirement already satisfied: scipy>=1.1.0 in c:\\programdata\\anaconda3\\lib\\site-packages (from scikit-learn->sklearn) (1.7.3)\n"
     ]
    },
    {
     "name": "stderr",
     "output_type": "stream",
     "text": [
      "WARNING: You are using pip version 21.3.1; however, version 22.0.4 is available.\n",
      "You should consider upgrading via the 'C:\\ProgramData\\Anaconda3\\python.exe -m pip install --upgrade pip' command.\n"
     ]
    }
   ],
   "source": [
    "#!pip 문법 :: python 문법\n",
    "!pip install sklearn"
   ]
  },
  {
   "cell_type": "code",
   "execution_count": null,
   "id": "cfb48a74",
   "metadata": {},
   "outputs": [],
   "source": [
    "#anaconda 명령 :: <-- 얘를 통해서 설치를 권장\n",
    "conda install scikit-learn"
   ]
  },
  {
   "cell_type": "code",
   "execution_count": 8,
   "id": "46865ff6",
   "metadata": {},
   "outputs": [
    {
     "data": {
      "text/plain": [
       "[1, 2, 3, 4, 5, 6]"
      ]
     },
     "execution_count": 8,
     "metadata": {},
     "output_type": "execute_result"
    }
   ],
   "source": [
    "l1 =[1,2,3]\n",
    "l2 =[4,5,6]\n",
    "l1+l2"
   ]
  },
  {
   "cell_type": "markdown",
   "id": "93105a50",
   "metadata": {},
   "source": [
    "# 넘파이:ML 주요 알고리즘 -선형대수와 통계에 기반\n",
    "\n",
    "* Numpy는  Numerical Python을 의미하며 파이썬에서 선형대수 기반의 프로그램을 쉽게 만들 수 있도록 지원하는 대표 패키지\n",
    "\n",
    "\n",
    "* 루프를 사용치 않고 대량 데이터의 배열 연산이 가능\n",
    "\n",
    "\n",
    "* C/C++과 같은 저수준 언어 기반의 호환 API제공"
   ]
  },
  {
   "cell_type": "markdown",
   "id": "88625b4d",
   "metadata": {},
   "source": [
    "###  def 함수 ---> class ---> module ---> package ---> library"
   ]
  },
  {
   "cell_type": "code",
   "execution_count": 13,
   "id": "146355d9",
   "metadata": {},
   "outputs": [],
   "source": [
    "import numpy as np"
   ]
  },
  {
   "cell_type": "code",
   "execution_count": 19,
   "id": "eeb21c21",
   "metadata": {},
   "outputs": [
    {
     "name": "stdout",
     "output_type": "stream",
     "text": [
      "<class 'numpy.ndarray'>\n",
      "<class 'list'>\n"
     ]
    }
   ],
   "source": [
    "a=[1,2,3]\n",
    "array_a=np.array(a)\n",
    "print(type(array_a))\n",
    "print(type(a))"
   ]
  },
  {
   "cell_type": "code",
   "execution_count": 24,
   "id": "866d4902",
   "metadata": {},
   "outputs": [
    {
     "name": "stdout",
     "output_type": "stream",
     "text": [
      "[1, 2, 3]\n",
      "[1 2 3]\n"
     ]
    }
   ],
   "source": [
    "print(a) # list\n",
    "print(array_a) # array :: 배열/ 행렬 "
   ]
  },
  {
   "cell_type": "code",
   "execution_count": 44,
   "id": "dfb88866",
   "metadata": {},
   "outputs": [
    {
     "name": "stdout",
     "output_type": "stream",
     "text": [
      "array_a의 형태: [1 2 3]\n",
      "array_a는 1차원입니다\n",
      "array_a의 shape:(3,)\n"
     ]
    }
   ],
   "source": [
    "array_a.shape # property \n",
    "array_a[1] # 최소첨자\n",
    "print(\"array_a의 형태:\", array_a)\n",
    "print(\"array_a는 {0}차원입니다\".format(array_a.ndim))\n",
    "print(\"array_a의 shape:{0}\".format(array_a.shape))"
   ]
  },
  {
   "cell_type": "code",
   "execution_count": 46,
   "id": "851260a9",
   "metadata": {},
   "outputs": [
    {
     "name": "stdout",
     "output_type": "stream",
     "text": [
      "array_a2의 형태: \n",
      " [[ 1  2  3]\n",
      " [11 22 33]]\n",
      "array_a2는 2차원입니다\n",
      "array_a2의 shape:(2, 3)\n"
     ]
    }
   ],
   "source": [
    "array_a2 = np.array([[1,2,3],[11,22,33]]) # (,3) --(3,)??\n",
    "                                          # (2,3)                                          \n",
    "array_a2\n",
    "\n",
    "print(\"array_a2의 형태:\",'\\n', array_a2)\n",
    "print(\"array_a2는 {0}차원입니다\".format(array_a2.ndim))\n",
    "print(\"array_a2의 shape:{0}\".format(array_a2.shape))"
   ]
  },
  {
   "cell_type": "code",
   "execution_count": 53,
   "id": "4e603f42",
   "metadata": {},
   "outputs": [
    {
     "data": {
      "text/plain": [
       "2"
      ]
     },
     "execution_count": 53,
     "metadata": {},
     "output_type": "execute_result"
    }
   ],
   "source": [
    "l1 = [[1,2],[3,4]]\n",
    "l1[1]\n",
    "len(l1)"
   ]
  },
  {
   "cell_type": "code",
   "execution_count": 50,
   "id": "da0ed56e",
   "metadata": {},
   "outputs": [
    {
     "name": "stdout",
     "output_type": "stream",
     "text": [
      "(2,)\n",
      "1\n"
     ]
    },
    {
     "name": "stderr",
     "output_type": "stream",
     "text": [
      "C:\\Users\\user\\AppData\\Local\\Temp/ipykernel_6396/1766131746.py:1: VisibleDeprecationWarning: Creating an ndarray from ragged nested sequences (which is a list-or-tuple of lists-or-tuples-or ndarrays with different lengths or shapes) is deprecated. If you meant to do this, you must specify 'dtype=object' when creating the ndarray.\n",
      "  array_a2 = np.array([[1,3],[11,22,33]])\n"
     ]
    }
   ],
   "source": [
    "#Q1.\n",
    "\n",
    "array_a2 = np.array([[a],[b]]) #(\n",
    "# array_a2.shape은 뭐가 나올까요?\n",
    "print(array_a2.shape)\n",
    "# array_a2의 차원은 어떻게 될까요?\n",
    "print(array_a2.ndim)"
   ]
  },
  {
   "cell_type": "code",
   "execution_count": 58,
   "id": "028af1e2",
   "metadata": {},
   "outputs": [
    {
     "data": {
      "text/plain": [
       "(1, 1, 3)"
      ]
     },
     "execution_count": 58,
     "metadata": {},
     "output_type": "execute_result"
    }
   ],
   "source": [
    "# 3차원의 데이터 생성\n",
    "l3 = [[[1,2,3]]]\n",
    "array_3 =np.array(l3) \n",
    "array_3.ndim\n",
    "\n",
    "# shape:: (1,3,1) vs shape:: 다르게 나온다???\n",
    "#                      (1,1,3)\n",
    "array_3.shape"
   ]
  },
  {
   "cell_type": "code",
   "execution_count": null,
   "id": "2447961e",
   "metadata": {},
   "outputs": [],
   "source": [
    "# 문제 1 (1, 1, 3) -> (2,1,3)\n",
    "# 문제 2 (1,1,3) -> (1,2,3)"
   ]
  },
  {
   "cell_type": "markdown",
   "id": "498dbe67",
   "metadata": {},
   "source": [
    "## summary :: 넘파이 기초 요약"
   ]
  },
  {
   "cell_type": "code",
   "execution_count": 62,
   "id": "20134d07",
   "metadata": {},
   "outputs": [
    {
     "name": "stdout",
     "output_type": "stream",
     "text": [
      "array1의 type: <class 'numpy.ndarray'>\n",
      "array1의 shape: (3,)\n"
     ]
    }
   ],
   "source": [
    "import numpy as np # 축약어\n",
    "\n",
    "a = [1,2,3]\n",
    "array1 = np.array(a)\n",
    "print('array1의 type:', type(array1))\n",
    "print('array1의 shape:', array1.shape) # (3,)"
   ]
  },
  {
   "cell_type": "code",
   "execution_count": 67,
   "id": "db7586ea",
   "metadata": {},
   "outputs": [
    {
     "name": "stdout",
     "output_type": "stream",
     "text": [
      "array2d의 type: <class 'numpy.ndarray'>\n",
      "array2d의 shape: (2, 3)\n",
      "array3d의 type: <class 'numpy.ndarray'>\n",
      "array3d의 shape: (1, 1, 3)\n"
     ]
    },
    {
     "data": {
      "text/plain": [
       "(1, 2, 3)"
      ]
     },
     "execution_count": 67,
     "metadata": {},
     "output_type": "execute_result"
    }
   ],
   "source": [
    "array2d = np.array([[1,2,3,],\n",
    "                   [11,22,33]])\n",
    "\n",
    "print('array2d의 type:', type(array2d))\n",
    "print('array2d의 shape:', array2d.shape) # (2,3)\n",
    "\n",
    "array3d = np.array([[[1,2,3]]])\n",
    "\n",
    "print('array3d의 type:', type(array3d))\n",
    "print('array3d의 shape:', array3d.shape) # (1,1,3)\n",
    "\n",
    "# 예제풀이\n",
    "문제 = np.array([[[1,2,3],[4,5,6]]])\n",
    "문제.shape"
   ]
  },
  {
   "cell_type": "code",
   "execution_count": 73,
   "id": "338dcaed",
   "metadata": {},
   "outputs": [
    {
     "name": "stdout",
     "output_type": "stream",
     "text": [
      "['1' '2' 'test'] <U11\n",
      "[1.  2.  3.5] float64\n"
     ]
    }
   ],
   "source": [
    "# 데이터 타입을 살펴보기\n",
    "l1 = [1,2,'test']\n",
    "array2 = np.array(l1)\n",
    "print(array2, array2.dtype)\n",
    "\n",
    "l2 = [1,2,3.5]\n",
    "array3 = np.array(l2)\n",
    "print(array3, array3.dtype)"
   ]
  },
  {
   "cell_type": "code",
   "execution_count": 83,
   "id": "0e8512e9",
   "metadata": {},
   "outputs": [
    {
     "name": "stdout",
     "output_type": "stream",
     "text": [
      "[1. 2. 3.] float64\n",
      "[1 2 3] int32\n",
      "[1 2 3]\n"
     ]
    }
   ],
   "source": [
    "# 데이터 타입을 살펴보기\n",
    "array_int = np.array([1,2,3])\n",
    "array_float = array_int.astype('float64') \n",
    "print(array_float,array_float.dtype) # int32 -> float64\n",
    "\n",
    "array_int1 = array_float.astype('int32')\n",
    "print(array_int1,array_int1.dtype) # float64 -> int32 \n",
    "\n",
    "array_float1 = np.array([1.1,2.2,3.3])\n",
    "print(array_float1.astype('int32'))"
   ]
  },
  {
   "cell_type": "markdown",
   "id": "5218816a",
   "metadata": {},
   "source": [
    "## ndarray에도 편리하게 생성하는 - arange, zeros, ones"
   ]
  },
  {
   "cell_type": "code",
   "execution_count": 87,
   "id": "4146f98a",
   "metadata": {},
   "outputs": [
    {
     "name": "stdout",
     "output_type": "stream",
     "text": [
      "3 4 5 6 7 8 9 "
     ]
    }
   ],
   "source": [
    "# 파이썬 for문을 공부할 때 \n",
    "# 우리는 range라는 코드를 살펴봄\n",
    "for i in range(3,10):\n",
    "    print(i, end=' ')"
   ]
  },
  {
   "cell_type": "code",
   "execution_count": 94,
   "id": "c63b4d44",
   "metadata": {},
   "outputs": [
    {
     "name": "stdout",
     "output_type": "stream",
     "text": [
      "int32 (10,)\n"
     ]
    }
   ],
   "source": [
    "# 시퀀스 array \n",
    "sq_array = np.arange(10)\n",
    "print(sq_array.dtype, sq_array.shape)"
   ]
  },
  {
   "cell_type": "code",
   "execution_count": 101,
   "id": "2c9297bd",
   "metadata": {},
   "outputs": [
    {
     "name": "stdout",
     "output_type": "stream",
     "text": [
      "[[0 0]\n",
      " [0 0]\n",
      " [0 0]]\n",
      "int32 (3, 2) \n",
      "\n",
      "[[1 1]\n",
      " [1 1]\n",
      " [1 1]]\n",
      "int32 (3, 2)\n"
     ]
    }
   ],
   "source": [
    "# zeros 활용\n",
    "zero_array = np.zeros((3,2),dtype='int32')\n",
    "print(zero_array)\n",
    "print(zero_array.dtype, zero_array.shape,'\\n')\n",
    "\n",
    "# ones 활용\n",
    "one_array = np.ones((3,2),dtype='int32')\n",
    "print(one_array)\n",
    "print(one_array.dtype, one_array.shape)"
   ]
  },
  {
   "cell_type": "code",
   "execution_count": 110,
   "id": "fe565e56",
   "metadata": {},
   "outputs": [
    {
     "name": "stdout",
     "output_type": "stream",
     "text": [
      "[0 1 2 3 4 5 6 7 8 9]\n",
      "[[0 1 2 3 4]\n",
      " [5 6 7 8 9]]\n",
      "[[0 1]\n",
      " [2 3]\n",
      " [4 5]\n",
      " [6 7]\n",
      " [8 9]]\n"
     ]
    }
   ],
   "source": [
    "#reshape :: 지금 여러분이 갖고 있는 행렬의 모양을 바꿔줍니다.\n",
    "\n",
    "array1 = np.arange(10)\n",
    "print(array1) # 몇 차원????\n",
    "\n",
    "#reshape :: 지금 행렬의 모양을 바꿔줌\n",
    "print(array1.reshape(-1,5))\n",
    "print(array1.reshape(-1,2))"
   ]
  },
  {
   "cell_type": "code",
   "execution_count": 133,
   "id": "21c7bab2",
   "metadata": {},
   "outputs": [
    {
     "data": {
      "text/plain": [
       "array([[0, 1],\n",
       "       [2, 3]])"
      ]
     },
     "execution_count": 133,
     "metadata": {},
     "output_type": "execute_result"
    }
   ],
   "source": [
    "array_3 = np.arange(4)\n",
    "array_3.shape\n",
    "array_3.reshape(-1,2) # -1을 쓰는 이유는 시인성 및 가독성이 떨어지기 때문..."
   ]
  }
 ],
 "metadata": {
  "kernelspec": {
   "display_name": "Python 3 (ipykernel)",
   "language": "python",
   "name": "python3"
  },
  "language_info": {
   "codemirror_mode": {
    "name": "ipython",
    "version": 3
   },
   "file_extension": ".py",
   "mimetype": "text/x-python",
   "name": "python",
   "nbconvert_exporter": "python",
   "pygments_lexer": "ipython3",
   "version": "3.8.12"
  }
 },
 "nbformat": 4,
 "nbformat_minor": 5
}
