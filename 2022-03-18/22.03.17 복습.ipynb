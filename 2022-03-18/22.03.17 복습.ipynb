{
 "cells": [
  {
   "cell_type": "code",
   "execution_count": 1,
   "id": "57257519",
   "metadata": {},
   "outputs": [
    {
     "data": {
      "text/plain": [
       "'hello world'"
      ]
     },
     "execution_count": 1,
     "metadata": {},
     "output_type": "execute_result"
    }
   ],
   "source": [
    "\"hello world\"\n",
    "'hello world'\n",
    "'''hello world'''\n",
    "\"\"\"hello world\"\"\""
   ]
  },
  {
   "cell_type": "code",
   "execution_count": 5,
   "id": "50336f63",
   "metadata": {},
   "outputs": [
    {
     "data": {
      "text/plain": [
       "\"python's favorite food is pizza\""
      ]
     },
     "execution_count": 5,
     "metadata": {},
     "output_type": "execute_result"
    }
   ],
   "source": [
    "'python\"s favorite food is pizza'\n",
    "\"python's favorite food is pizza\""
   ]
  },
  {
   "cell_type": "code",
   "execution_count": 8,
   "id": "3affac82",
   "metadata": {},
   "outputs": [
    {
     "data": {
      "text/plain": [
       "\"python's favorite food is pizza\""
      ]
     },
     "execution_count": 8,
     "metadata": {},
     "output_type": "execute_result"
    }
   ],
   "source": [
    "'python\\'s favorite food is pizza'"
   ]
  },
  {
   "cell_type": "code",
   "execution_count": 12,
   "id": "dd57cadc",
   "metadata": {},
   "outputs": [
    {
     "name": "stdout",
     "output_type": "stream",
     "text": [
      "Life is too short\n",
      " you need python\n"
     ]
    },
    {
     "data": {
      "text/plain": [
       "'Life is too short\\n you need python'"
      ]
     },
     "execution_count": 12,
     "metadata": {},
     "output_type": "execute_result"
    }
   ],
   "source": [
    "# 내려쓰기 \\n 을 쓸 때는 프린트를 해줘야된다\n",
    "print('Life is too short\\n you need python')\n",
    "\n",
    "'Life is too short\\n you need python'"
   ]
  },
  {
   "cell_type": "code",
   "execution_count": 16,
   "id": "5d5727fd",
   "metadata": {},
   "outputs": [],
   "source": [
    "multiline=\"\"\"Life is too short,\n",
    "You need python\"\"\""
   ]
  },
  {
   "cell_type": "code",
   "execution_count": 19,
   "id": "2f74f32c",
   "metadata": {},
   "outputs": [
    {
     "name": "stdout",
     "output_type": "stream",
     "text": [
      "Life is too short,\n",
      "You need python\n"
     ]
    },
    {
     "data": {
      "text/plain": [
       "'Life is too short,\\nYou need python'"
      ]
     },
     "execution_count": 19,
     "metadata": {},
     "output_type": "execute_result"
    }
   ],
   "source": [
    "print(multiline)\n",
    "multiline"
   ]
  },
  {
   "cell_type": "code",
   "execution_count": 25,
   "id": "e3e8ee15",
   "metadata": {},
   "outputs": [
    {
     "name": "stdout",
     "output_type": "stream",
     "text": [
      "현재 온도는 18도 입니다\n",
      "현재 온도는 18도 입니다\n"
     ]
    }
   ],
   "source": [
    "# 포매팅-숫자\n",
    "\n",
    "print(\"현재 온도는 %d도 입니다\" % (18))\n",
    "print(\"현재 온도는 {0}도 입니다\".format(18))"
   ]
  },
  {
   "cell_type": "code",
   "execution_count": 32,
   "id": "90162fa4",
   "metadata": {},
   "outputs": [
    {
     "name": "stdout",
     "output_type": "stream",
     "text": [
      "사과 개수는 five개 입니다\n",
      "사과 개수는 five도 입니다\n"
     ]
    }
   ],
   "source": [
    "# 포매팅-문자\n",
    "\n",
    "print(\"사과 개수는 %s개 입니다\" % ('five'))\n",
    "print(\"사과 개수는 {0}도 입니다\".format('five'))"
   ]
  },
  {
   "cell_type": "code",
   "execution_count": 34,
   "id": "a9a86088",
   "metadata": {},
   "outputs": [
    {
     "name": "stdout",
     "output_type": "stream",
     "text": [
      "정확도는 95%\n"
     ]
    }
   ],
   "source": [
    "# 포매팅- %유의  \n",
    "print('정확도는 %d%%' % 95) # %d%% 퍼센트가 하나 더 들어가야함"
   ]
  },
  {
   "cell_type": "markdown",
   "id": "539fd0ee",
   "metadata": {},
   "source": [
    "## 정렬과 공백"
   ]
  },
  {
   "cell_type": "code",
   "execution_count": 44,
   "id": "aa9bb630",
   "metadata": {},
   "outputs": [
    {
     "data": {
      "text/plain": [
       "'hi        '"
      ]
     },
     "execution_count": 44,
     "metadata": {},
     "output_type": "execute_result"
    }
   ],
   "source": [
    "\"%10s\" % '수업'  # 오른쪽\n",
    "\"%-10s\" % '수업' # 왼쪽\n",
    "\n",
    "\"{0:>10}\".format('hi') # 오른쪽\n",
    "\"{0:^10}\".format('hi') # 가운데\n",
    "\"{0:<10}\".format('hi') # 왼쪽"
   ]
  },
  {
   "cell_type": "code",
   "execution_count": 45,
   "id": "618b7796",
   "metadata": {},
   "outputs": [
    {
     "data": {
      "text/plain": [
       "'3.141'"
      ]
     },
     "execution_count": 45,
     "metadata": {},
     "output_type": "execute_result"
    }
   ],
   "source": [
    "# 소수점 표현하기\n",
    "\"%0.4f\" % 3.14123456789\n",
    "\"%0.3f\" % 3.14123456789"
   ]
  },
  {
   "cell_type": "code",
   "execution_count": 51,
   "id": "065a3898",
   "metadata": {},
   "outputs": [
    {
     "data": {
      "text/plain": [
       "'나 알아??????'"
      ]
     },
     "execution_count": 51,
     "metadata": {},
     "output_type": "execute_result"
    }
   ],
   "source": [
    "# 공백채우기\n",
    "'{0:=^10}'.format('hi')\n",
    "'{0:?<10}'.format('나 알아')"
   ]
  },
  {
   "cell_type": "code",
   "execution_count": 57,
   "id": "debfda93",
   "metadata": {},
   "outputs": [
    {
     "data": {
      "text/plain": [
       "'나의 이름은 박영식 입니다. 나이는 100 입니다.'"
      ]
     },
     "execution_count": 57,
     "metadata": {},
     "output_type": "execute_result"
    }
   ],
   "source": [
    "name = '박영식'\n",
    "age = 98\n",
    "f'나의 이름은 {name} 입니다. 나이는 {age+2} 입니다.'"
   ]
  },
  {
   "cell_type": "code",
   "execution_count": 59,
   "id": "e77132e5",
   "metadata": {},
   "outputs": [
    {
     "data": {
      "text/plain": [
       "3"
      ]
     },
     "execution_count": 59,
     "metadata": {},
     "output_type": "execute_result"
    }
   ],
   "source": [
    "# 문자 갯수 세기(count)\n",
    "a = '야야야김정호'\n",
    "a.count('야')"
   ]
  },
  {
   "cell_type": "code",
   "execution_count": 62,
   "id": "4c068563",
   "metadata": {},
   "outputs": [
    {
     "data": {
      "text/plain": [
       "-1"
      ]
     },
     "execution_count": 62,
     "metadata": {},
     "output_type": "execute_result"
    }
   ],
   "source": [
    "# 위치 알려주기1 (find)\n",
    "a = \"python is the best choice\"\n",
    "a.find('b')\n",
    "a.find('k') # error가 안납니다."
   ]
  },
  {
   "cell_type": "code",
   "execution_count": 64,
   "id": "c0fb78ad",
   "metadata": {},
   "outputs": [
    {
     "ename": "ValueError",
     "evalue": "substring not found",
     "output_type": "error",
     "traceback": [
      "\u001b[1;31m---------------------------------------------------------------------------\u001b[0m",
      "\u001b[1;31mValueError\u001b[0m                                Traceback (most recent call last)",
      "\u001b[1;32m~\\AppData\\Local\\Temp/ipykernel_2716/2188032458.py\u001b[0m in \u001b[0;36m<module>\u001b[1;34m\u001b[0m\n\u001b[0;32m      2\u001b[0m \u001b[0ma\u001b[0m \u001b[1;33m=\u001b[0m \u001b[1;34m\"python is the best choice\"\u001b[0m\u001b[1;33m\u001b[0m\u001b[1;33m\u001b[0m\u001b[0m\n\u001b[0;32m      3\u001b[0m \u001b[0ma\u001b[0m\u001b[1;33m.\u001b[0m\u001b[0mindex\u001b[0m\u001b[1;33m(\u001b[0m\u001b[1;34m'b'\u001b[0m\u001b[1;33m)\u001b[0m\u001b[1;33m\u001b[0m\u001b[1;33m\u001b[0m\u001b[0m\n\u001b[1;32m----> 4\u001b[1;33m \u001b[0ma\u001b[0m\u001b[1;33m.\u001b[0m\u001b[0mindex\u001b[0m\u001b[1;33m(\u001b[0m\u001b[1;34m'k'\u001b[0m\u001b[1;33m)\u001b[0m \u001b[1;31m# error가 난다.\u001b[0m\u001b[1;33m\u001b[0m\u001b[1;33m\u001b[0m\u001b[0m\n\u001b[0m",
      "\u001b[1;31mValueError\u001b[0m: substring not found"
     ]
    }
   ],
   "source": [
    "# 위치 알려주기2 (index)\n",
    "a = \"python is the best choice\"\n",
    "a.index('b')\n",
    "a.index('k') # error가 난다."
   ]
  },
  {
   "cell_type": "code",
   "execution_count": 66,
   "id": "f8a9eff9",
   "metadata": {},
   "outputs": [
    {
     "data": {
      "text/plain": [
       "'ysp,jeg,jhk,yhk,esj'"
      ]
     },
     "execution_count": 66,
     "metadata": {},
     "output_type": "execute_result"
    }
   ],
   "source": [
    "# 문자열 삽입(join)\n",
    "a = ['ysp','jeg','jhk','yhk','esj']\n",
    "\",\".join(a)"
   ]
  },
  {
   "cell_type": "code",
   "execution_count": 67,
   "id": "d02281c2",
   "metadata": {},
   "outputs": [],
   "source": [
    "result=[]\n",
    "for i in a:\n",
    "    j=\",\".join(i)\n",
    "    result.append(j)"
   ]
  },
  {
   "cell_type": "code",
   "execution_count": 69,
   "id": "97251b92",
   "metadata": {},
   "outputs": [
    {
     "data": {
      "text/plain": [
       "['y,s,p', 'j,e,g', 'j,h,k', 'y,h,k', 'e,s,j']"
      ]
     },
     "execution_count": 69,
     "metadata": {},
     "output_type": "execute_result"
    }
   ],
   "source": [
    "result # Reqular_Expression (정규표현식) - 문자열"
   ]
  },
  {
   "cell_type": "code",
   "execution_count": 71,
   "id": "06e1bafa",
   "metadata": {},
   "outputs": [
    {
     "data": {
      "text/plain": [
       "'YSP'"
      ]
     },
     "execution_count": 71,
     "metadata": {},
     "output_type": "execute_result"
    }
   ],
   "source": [
    "# 소문자를 대문자로\n",
    "a = 'ysp'\n",
    "a.upper()"
   ]
  },
  {
   "cell_type": "code",
   "execution_count": 73,
   "id": "656c2cc9",
   "metadata": {},
   "outputs": [
    {
     "data": {
      "text/plain": [
       "'ysp'"
      ]
     },
     "execution_count": 73,
     "metadata": {},
     "output_type": "execute_result"
    }
   ],
   "source": [
    "# 대문자를 소문자로\n",
    "A = 'YSP'\n",
    "A.lower()"
   ]
  },
  {
   "cell_type": "code",
   "execution_count": 76,
   "id": "106c4724",
   "metadata": {},
   "outputs": [
    {
     "data": {
      "text/plain": [
       "'my leg is too short'"
      ]
     },
     "execution_count": 76,
     "metadata": {},
     "output_type": "execute_result"
    }
   ],
   "source": [
    "# 문자열 바꾸기(replace)\n",
    "a = \"Life is too short\"\n",
    "a.replace('Life','my leg') # Life -> my leg"
   ]
  },
  {
   "cell_type": "markdown",
   "id": "90ee68c0",
   "metadata": {},
   "source": [
    "## List 자료형"
   ]
  },
  {
   "cell_type": "code",
   "execution_count": 99,
   "id": "1d50d929",
   "metadata": {},
   "outputs": [],
   "source": [
    "l1 = []\n",
    "l2 = [1,2,3]\n",
    "l3 = ['a','b','c']\n",
    "l4 = [1,2,'a','b']\n",
    "l5 = [1,2,['a','b']]"
   ]
  },
  {
   "cell_type": "code",
   "execution_count": 102,
   "id": "01694f5e",
   "metadata": {},
   "outputs": [
    {
     "data": {
      "text/plain": [
       "''"
      ]
     },
     "execution_count": 102,
     "metadata": {},
     "output_type": "execute_result"
    }
   ],
   "source": [
    "a = list()\n",
    "c = str()\n",
    "c"
   ]
  },
  {
   "cell_type": "code",
   "execution_count": 104,
   "id": "391705d7",
   "metadata": {},
   "outputs": [
    {
     "data": {
      "text/plain": [
       "[1, 2, 3]"
      ]
     },
     "execution_count": 104,
     "metadata": {},
     "output_type": "execute_result"
    }
   ],
   "source": [
    "# list // indexing\n",
    "a = [1,2,3]\n",
    "a"
   ]
  },
  {
   "cell_type": "code",
   "execution_count": 111,
   "id": "8d08edfa",
   "metadata": {},
   "outputs": [
    {
     "name": "stdout",
     "output_type": "stream",
     "text": [
      "1 2 3\n"
     ]
    },
    {
     "data": {
      "text/plain": [
       "3"
      ]
     },
     "execution_count": 111,
     "metadata": {},
     "output_type": "execute_result"
    }
   ],
   "source": [
    "print(a[0],a[1],a[2])\n",
    "a[0]+a[2] # 덧셈연산\n",
    "a[-1]\n",
    "a[len(a)-1]"
   ]
  },
  {
   "cell_type": "code",
   "execution_count": 117,
   "id": "cda98b3b",
   "metadata": {},
   "outputs": [
    {
     "data": {
      "text/plain": [
       "'b'"
      ]
     },
     "execution_count": 117,
     "metadata": {},
     "output_type": "execute_result"
    }
   ],
   "source": [
    "l5[2][1]"
   ]
  },
  {
   "cell_type": "code",
   "execution_count": 118,
   "id": "b4f22a01",
   "metadata": {},
   "outputs": [
    {
     "data": {
      "text/plain": [
       "'b'"
      ]
     },
     "execution_count": 118,
     "metadata": {},
     "output_type": "execute_result"
    }
   ],
   "source": [
    "l5_1 = l5[2]\n",
    "l5_1[1]"
   ]
  },
  {
   "cell_type": "code",
   "execution_count": 125,
   "id": "dc9ec84a",
   "metadata": {},
   "outputs": [
    {
     "data": {
      "text/plain": [
       "[0, 1, 2, 3, 4]"
      ]
     },
     "execution_count": 125,
     "metadata": {},
     "output_type": "execute_result"
    }
   ],
   "source": [
    "result = []\n",
    "for i in range(10):\n",
    "    result.append(i)\n",
    "    \n",
    "result[:5]"
   ]
  },
  {
   "cell_type": "code",
   "execution_count": 127,
   "id": "6def8962",
   "metadata": {},
   "outputs": [
    {
     "data": {
      "text/plain": [
       "[1, 2, 3, 'a', 'b', 'c']"
      ]
     },
     "execution_count": 127,
     "metadata": {},
     "output_type": "execute_result"
    }
   ],
   "source": [
    "l1 = [1,2,3]\n",
    "l2 = ['a','b','c']\n",
    "l1+l2"
   ]
  },
  {
   "cell_type": "code",
   "execution_count": 136,
   "id": "338feea8",
   "metadata": {},
   "outputs": [
    {
     "data": {
      "text/plain": [
       "[1, 1000, 3, 1, 2, 3, 1, 2, 3]"
      ]
     },
     "execution_count": 136,
     "metadata": {},
     "output_type": "execute_result"
    }
   ],
   "source": [
    "l13 = l1 *3\n",
    "l13[1] = 1000\n",
    "l13"
   ]
  },
  {
   "cell_type": "code",
   "execution_count": 137,
   "id": "43da805a",
   "metadata": {},
   "outputs": [
    {
     "data": {
      "text/plain": [
       "[1, 3, 1, 2, 3, 1, 2, 3]"
      ]
     },
     "execution_count": 137,
     "metadata": {},
     "output_type": "execute_result"
    }
   ],
   "source": [
    "# 삭제-1 remove 함수를 사용\n",
    "l13.remove(1000)\n",
    "l13"
   ]
  },
  {
   "cell_type": "code",
   "execution_count": 138,
   "id": "16a4d4f1",
   "metadata": {},
   "outputs": [
    {
     "data": {
      "text/plain": [
       "[1, 1, 2, 3, 1, 2, 3]"
      ]
     },
     "execution_count": 138,
     "metadata": {},
     "output_type": "execute_result"
    }
   ],
   "source": [
    "# 삭제-2 del 사용\n",
    "del l13[1]\n",
    "l13"
   ]
  },
  {
   "cell_type": "code",
   "execution_count": 144,
   "id": "adea8dbd",
   "metadata": {},
   "outputs": [
    {
     "data": {
      "text/plain": [
       "3"
      ]
     },
     "execution_count": 144,
     "metadata": {},
     "output_type": "execute_result"
    }
   ],
   "source": [
    "# 삭제-3 함수 pop을 사용\n",
    "a = [1,2,3]\n",
    "a.pop()"
   ]
  },
  {
   "cell_type": "code",
   "execution_count": 147,
   "id": "77d1de01",
   "metadata": {},
   "outputs": [
    {
     "data": {
      "text/plain": [
       "[1, 2]"
      ]
     },
     "execution_count": 147,
     "metadata": {},
     "output_type": "execute_result"
    }
   ],
   "source": [
    "a"
   ]
  },
  {
   "cell_type": "code",
   "execution_count": 154,
   "id": "f457d81e",
   "metadata": {},
   "outputs": [
    {
     "data": {
      "text/plain": [
       "[1, 2, 3]"
      ]
     },
     "execution_count": 154,
     "metadata": {},
     "output_type": "execute_result"
    }
   ],
   "source": [
    "# append 함수\n",
    "# 뒤에 특정한 값이나 형태를 이어서 붙히는 것\n",
    "a=[1,2]\n",
    "a.append([3,4,5])\n",
    "a"
   ]
  },
  {
   "cell_type": "code",
   "execution_count": 156,
   "id": "8cbac2a1",
   "metadata": {},
   "outputs": [
    {
     "data": {
      "text/plain": [
       "[1, 2, 3, 4, 5]"
      ]
     },
     "execution_count": 156,
     "metadata": {},
     "output_type": "execute_result"
    }
   ],
   "source": [
    "# extend 함수\n",
    "a=[1,2]\n",
    "a.extend([3,4,5])\n",
    "a"
   ]
  }
 ],
 "metadata": {
  "kernelspec": {
   "display_name": "Python 3 (ipykernel)",
   "language": "python",
   "name": "python3"
  },
  "language_info": {
   "codemirror_mode": {
    "name": "ipython",
    "version": 3
   },
   "file_extension": ".py",
   "mimetype": "text/x-python",
   "name": "python",
   "nbconvert_exporter": "python",
   "pygments_lexer": "ipython3",
   "version": "3.9.7"
  }
 },
 "nbformat": 4,
 "nbformat_minor": 5
}
