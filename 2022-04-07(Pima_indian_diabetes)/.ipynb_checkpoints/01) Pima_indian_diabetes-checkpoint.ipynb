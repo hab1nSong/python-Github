{
 "cells": [
  {
   "cell_type": "code",
   "execution_count": 1,
   "id": "c5638634",
   "metadata": {},
   "outputs": [],
   "source": [
    "# 피마 인디언 당뇨병 예측"
   ]
  },
  {
   "cell_type": "code",
   "execution_count": null,
   "id": "7d83132d",
   "metadata": {},
   "outputs": [],
   "source": []
  },
  {
   "cell_type": "code",
   "execution_count": null,
   "id": "c45a9dd3",
   "metadata": {},
   "outputs": [],
   "source": []
  }
 ],
 "metadata": {
  "kernelspec": {
   "display_name": "Python 3 (ipykernel)",
   "language": "python",
   "name": "python3"
  },
  "language_info": {
   "codemirror_mode": {
    "name": "ipython",
    "version": 3
   },
   "file_extension": ".py",
   "mimetype": "text/x-python",
   "name": "python",
   "nbconvert_exporter": "python",
   "pygments_lexer": "ipython3",
   "version": "3.9.7"
  }
 },
 "nbformat": 4,
 "nbformat_minor": 5
}
