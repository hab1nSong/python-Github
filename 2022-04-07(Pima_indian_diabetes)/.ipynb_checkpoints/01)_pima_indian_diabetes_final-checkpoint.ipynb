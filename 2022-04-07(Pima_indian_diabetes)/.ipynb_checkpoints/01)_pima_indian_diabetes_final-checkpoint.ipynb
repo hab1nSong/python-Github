{
 "cells": [
  {
   "cell_type": "code",
   "execution_count": 1,
   "id": "794807e2",
   "metadata": {},
   "outputs": [],
   "source": [
    "# 피마 인디언 당뇨병 예측"
   ]
  },
  {
   "cell_type": "markdown",
   "id": "8cb050b5",
   "metadata": {},
   "source": [
    "* Pregnancies: 임신횟수\n",
    "\n",
    "\n",
    "* Glucose: 포도당 부하 검사 수치\n",
    "\n",
    "\n",
    "* BloodPressure: 혈압\n",
    "\n",
    "\n",
    "* SkinThickness: 팔 삼두근 뒤쪽의 피하지방 측정값(mm)\n",
    "\n",
    "\n",
    "* Insulin: 혈청 인슐린\n",
    "\n",
    "\n",
    "* BMI: 체질량지수(체중(kg)/키(m))^2)\n",
    "\n",
    "\n",
    "* DiabetesPedigreeFunction: 당뇨 내력 가중치값\n",
    "\n",
    "\n",
    "* Age: 나이\n",
    "\n",
    "\n",
    "* Outcome: 클래스 결정 값(0또는 1)"
   ]
  },
  {
   "cell_type": "code",
   "execution_count": 18,
   "id": "d7eca3ad",
   "metadata": {},
   "outputs": [],
   "source": [
    "import numpy as np\n",
    "import pandas as pd\n",
    "import matplotlib.pyplot as plt\n",
    "import warnings\n",
    "warnings.filterwarnings('ignore')"
   ]
  },
  {
   "cell_type": "code",
   "execution_count": 19,
   "id": "ae4c4872",
   "metadata": {},
   "outputs": [],
   "source": [
    "# 로지스틱 회귀\n",
    "# 의사결정나무\n",
    "# 랜덤포레스트\n",
    "\n",
    "from sklearn.linear_model import LogisticRegression\n",
    "from sklearn.tree import DecisionTreeClassifier\n",
    "from sklearn.ensemble import RandomForestClassifier\n",
    "\n",
    "# train_test_split\n",
    "# 정확도, 재현율, 정밀도, 혼동행렬, f1, roc_auc 호출\n",
    "\n",
    "from sklearn.model_selection import train_test_split\n",
    "from sklearn.metrics import accuracy_score, precision_score, recall_score, f1_score, confusion_matrix, roc_auc_score"
   ]
  },
  {
   "cell_type": "code",
   "execution_count": 20,
   "id": "2985a85f",
   "metadata": {},
   "outputs": [],
   "source": [
    "diabetes_df = pd.read_csv('D:/pythonTest/diabetes.csv')"
   ]
  },
  {
   "cell_type": "code",
   "execution_count": 21,
   "id": "68074ac5",
   "metadata": {},
   "outputs": [
    {
     "name": "stdout",
     "output_type": "stream",
     "text": [
      "<class 'pandas.core.frame.DataFrame'>\n",
      "RangeIndex: 768 entries, 0 to 767\n",
      "Data columns (total 9 columns):\n",
      " #   Column                    Non-Null Count  Dtype  \n",
      "---  ------                    --------------  -----  \n",
      " 0   Pregnancies               768 non-null    int64  \n",
      " 1   Glucose                   768 non-null    int64  \n",
      " 2   BloodPressure             768 non-null    int64  \n",
      " 3   SkinThickness             768 non-null    int64  \n",
      " 4   Insulin                   768 non-null    int64  \n",
      " 5   BMI                       768 non-null    float64\n",
      " 6   DiabetesPedigreeFunction  768 non-null    float64\n",
      " 7   Age                       768 non-null    int64  \n",
      " 8   Outcome                   768 non-null    int64  \n",
      "dtypes: float64(2), int64(7)\n",
      "memory usage: 54.1 KB\n"
     ]
    }
   ],
   "source": [
    "diabetes_df.info()"
   ]
  },
  {
   "cell_type": "code",
   "execution_count": 22,
   "id": "d0215992",
   "metadata": {},
   "outputs": [
    {
     "data": {
      "text/plain": [
       "0    500\n",
       "1    268\n",
       "Name: Outcome, dtype: int64"
      ]
     },
     "execution_count": 22,
     "metadata": {},
     "output_type": "execute_result"
    }
   ],
   "source": [
    "diabetes_df.Outcome.value_counts()"
   ]
  },
  {
   "cell_type": "code",
   "execution_count": 23,
   "id": "4731d0af",
   "metadata": {},
   "outputs": [],
   "source": [
    "def get_metrics(y_test,pred):\n",
    "    confusion = confusion_matrix(y_test,pred)\n",
    "    accuracy = accuracy_score(y_test,pred)\n",
    "    p_score = precision_score(y_test,pred)\n",
    "    r_score = recall_score(y_test,pred)\n",
    "    roc_auc = roc_auc_score(y_test,pred)\n",
    "    f1 = f1_score(y_test,pred)\n",
    "    \n",
    "    # 혼동행렬부터 출력하기\n",
    "    print('혼동행렬')\n",
    "    print(confusion)\n",
    "    \n",
    "    # 결과지표 print문 \n",
    "    print('accuracy:', np.round(accuracy,4),\n",
    "         'precision:', np.round(p_score,4),\n",
    "         'recall:', np.round(r_score,4),\n",
    "         'roc_auc:', np.round(roc_auc,4),\n",
    "         'f1_score:', np.round(f1,4))"
   ]
  },
  {
   "cell_type": "code",
   "execution_count": 24,
   "id": "9831ebe5",
   "metadata": {},
   "outputs": [],
   "source": [
    "X = diabetes_df.drop('Outcome',axis=1)\n",
    "\n",
    "# y = diabetes_df['Outcome']\n",
    "# y = diabetes_df.Outcome\n",
    "y = diabetes_df.iloc[:,-1]"
   ]
  },
  {
   "cell_type": "code",
   "execution_count": 40,
   "id": "6fa31a3a",
   "metadata": {},
   "outputs": [
    {
     "name": "stdout",
     "output_type": "stream",
     "text": [
      "### 로지스틱회귀\n",
      "\n",
      "혼동행렬\n",
      "[[88 12]\n",
      " [19 35]]\n",
      "accuracy: 0.7987 precision: 0.7447 recall: 0.6481 roc_auc: 0.7641 f1_score: 0.6931\n",
      "\n",
      "###의사결정나무\n",
      "\n",
      "혼동행렬\n",
      "[[81 19]\n",
      " [23 31]]\n",
      "accuracy: 0.7273 precision: 0.62 recall: 0.5741 roc_auc: 0.692 f1_score: 0.5962\n",
      "\n",
      "###랜덤포레스트\n",
      "\n",
      "혼동행렬\n",
      "[[86 14]\n",
      " [17 37]]\n",
      "accuracy: 0.7987 precision: 0.7255 recall: 0.6852 roc_auc: 0.7726 f1_score: 0.7048\n"
     ]
    }
   ],
   "source": [
    "# train_test_split\n",
    "\n",
    "X_train, X_test, y_train, y_test = train_test_split(X,y, test_size=0.2, stratify=y) \n",
    "\n",
    "# fitting 시작\n",
    "# lr_clf\n",
    "print('### 로지스틱회귀\\n')\n",
    "lr_clf = LogisticRegression()\n",
    "lr_clf.fit(X_train,y_train)\n",
    "pred_lr = lr_clf.predict(X_test)\n",
    "get_metrics(y_test,pred_lr)\n",
    "\n",
    "# dt_clf\n",
    "print('\\n###의사결정나무\\n')\n",
    "dt_clf = DecisionTreeClassifier()\n",
    "dt_clf.fit(X_train,y_train)\n",
    "pred_dt = dt_clf.predict(X_test)\n",
    "get_metrics(y_test,pred_dt)\n",
    "\n",
    "# rf_clf\n",
    "print('\\n###랜덤포레스트\\n')\n",
    "rf_clf = RandomForestClassifier()\n",
    "rf_clf.fit(X_train,y_train)\n",
    "pred_rf = rf_clf.predict(X_test)\n",
    "get_metrics(y_test,pred_rf)"
   ]
  },
  {
   "cell_type": "code",
   "execution_count": 41,
   "id": "21cb1b50",
   "metadata": {},
   "outputs": [],
   "source": [
    "def p_r_curve_plot(y_test, pred_proba):\n",
    "    # threshold ndarray로 가져와보고 \n",
    "    # 위의 threshold에 따른 정밀도, 재현율의 ndarray를 추출\n",
    "    precisions, recalls, thresholds = precision_recall_curve(y_test, pred_proba)\n",
    "    \n",
    "    # X축 = threshold\n",
    "    # y축은 precision(점선) 및 recall(주황선) 설정\n",
    "    # 각 곡선을 중첩되게 graph화\n",
    "    plt.figure(figsize=(8,6))\n",
    "    threshold_boudary = thresholds.shape[0]\n",
    "    plt.plot(thresholds, precisions[0:threshold_boudary], linestyle='--', label='precison')\n",
    "    plt.plot(thresholds, recalls[0:threshold_boudary], label='recall')\n",
    "    \n",
    "    # threshold 값 x 축의 scale을 0,1으로 scaling\n",
    "    start, end = plt.xlim()\n",
    "    plt.xticks(np.round(np.arange(start,end,0.10),2))\n",
    "    \n",
    "    # X축, y축 label 및 legend 추가\n",
    "    # grid도 추가\n",
    "    plt.xlabel('Threshold_value')\n",
    "    plt.ylabel('Precision and Recall')\n",
    "    plt.legend()\n",
    "    plt.grid()\n",
    "    plt.show() "
   ]
  },
  {
   "cell_type": "code",
   "execution_count": 43,
   "id": "c2b5019b",
   "metadata": {},
   "outputs": [
    {
     "data": {
      "image/png": "[encoded data removed]",
      "text/plain": [
       "<Figure size 576x432 with 1 Axes>"
      ]
     },
     "metadata": {
      "needs_background": "light"
     },
     "output_type": "display_data"
    }
   ],
   "source": [
    "from sklearn.metrics import precision_recall_curve\n",
    "\n",
    "pred_proba = lr_clf.predict_proba(X_test)[:,1]\n",
    "p_r_curve_plot(y_test,pred_proba)"
   ]
  },
  {
   "cell_type": "code",
   "execution_count": 44,
   "id": "4730c29f",
   "metadata": {},
   "outputs": [
    {
     "data": {
      "text/html": [
       "<div>\n",
       "<style scoped>\n",
       "    .dataframe tbody tr th:only-of-type {\n",
       "        vertical-align: middle;\n",
       "    }\n",
       "\n",
       "    .dataframe tbody tr th {\n",
       "        vertical-align: top;\n",
       "    }\n",
       "\n",
       "    .dataframe thead th {\n",
       "        text-align: right;\n",
       "    }\n",
       "</style>\n",
       "<table border=\"1\" class=\"dataframe\">\n",
       "  <thead>\n",
       "    <tr style=\"text-align: right;\">\n",
       "      <th></th>\n",
       "      <th>Pregnancies</th>\n",
       "      <th>Glucose</th>\n",
       "      <th>BloodPressure</th>\n",
       "      <th>SkinThickness</th>\n",
       "      <th>Insulin</th>\n",
       "      <th>BMI</th>\n",
       "      <th>DiabetesPedigreeFunction</th>\n",
       "      <th>Age</th>\n",
       "      <th>Outcome</th>\n",
       "    </tr>\n",
       "  </thead>\n",
       "  <tbody>\n",
       "    <tr>\n",
       "      <th>count</th>\n",
       "      <td>768.000000</td>\n",
       "      <td>768.000000</td>\n",
       "      <td>768.000000</td>\n",
       "      <td>768.000000</td>\n",
       "      <td>768.000000</td>\n",
       "      <td>768.000000</td>\n",
       "      <td>768.000000</td>\n",
       "      <td>768.000000</td>\n",
       "      <td>768.000000</td>\n",
       "    </tr>\n",
       "    <tr>\n",
       "      <th>mean</th>\n",
       "      <td>3.845052</td>\n",
       "      <td>120.894531</td>\n",
       "      <td>69.105469</td>\n",
       "      <td>20.536458</td>\n",
       "      <td>79.799479</td>\n",
       "      <td>31.992578</td>\n",
       "      <td>0.471876</td>\n",
       "      <td>33.240885</td>\n",
       "      <td>0.348958</td>\n",
       "    </tr>\n",
       "    <tr>\n",
       "      <th>std</th>\n",
       "      <td>3.369578</td>\n",
       "      <td>31.972618</td>\n",
       "      <td>19.355807</td>\n",
       "      <td>15.952218</td>\n",
       "      <td>115.244002</td>\n",
       "      <td>7.884160</td>\n",
       "      <td>0.331329</td>\n",
       "      <td>11.760232</td>\n",
       "      <td>0.476951</td>\n",
       "    </tr>\n",
       "    <tr>\n",
       "      <th>min</th>\n",
       "      <td>0.000000</td>\n",
       "      <td>0.000000</td>\n",
       "      <td>0.000000</td>\n",
       "      <td>0.000000</td>\n",
       "      <td>0.000000</td>\n",
       "      <td>0.000000</td>\n",
       "      <td>0.078000</td>\n",
       "      <td>21.000000</td>\n",
       "      <td>0.000000</td>\n",
       "    </tr>\n",
       "    <tr>\n",
       "      <th>25%</th>\n",
       "      <td>1.000000</td>\n",
       "      <td>99.000000</td>\n",
       "      <td>62.000000</td>\n",
       "      <td>0.000000</td>\n",
       "      <td>0.000000</td>\n",
       "      <td>27.300000</td>\n",
       "      <td>0.243750</td>\n",
       "      <td>24.000000</td>\n",
       "      <td>0.000000</td>\n",
       "    </tr>\n",
       "    <tr>\n",
       "      <th>50%</th>\n",
       "      <td>3.000000</td>\n",
       "      <td>117.000000</td>\n",
       "      <td>72.000000</td>\n",
       "      <td>23.000000</td>\n",
       "      <td>30.500000</td>\n",
       "      <td>32.000000</td>\n",
       "      <td>0.372500</td>\n",
       "      <td>29.000000</td>\n",
       "      <td>0.000000</td>\n",
       "    </tr>\n",
       "    <tr>\n",
       "      <th>75%</th>\n",
       "      <td>6.000000</td>\n",
       "      <td>140.250000</td>\n",
       "      <td>80.000000</td>\n",
       "      <td>32.000000</td>\n",
       "      <td>127.250000</td>\n",
       "      <td>36.600000</td>\n",
       "      <td>0.626250</td>\n",
       "      <td>41.000000</td>\n",
       "      <td>1.000000</td>\n",
       "    </tr>\n",
       "    <tr>\n",
       "      <th>max</th>\n",
       "      <td>17.000000</td>\n",
       "      <td>199.000000</td>\n",
       "      <td>122.000000</td>\n",
       "      <td>99.000000</td>\n",
       "      <td>846.000000</td>\n",
       "      <td>67.100000</td>\n",
       "      <td>2.420000</td>\n",
       "      <td>81.000000</td>\n",
       "      <td>1.000000</td>\n",
       "    </tr>\n",
       "  </tbody>\n",
       "</table>\n",
       "</div>"
      ],
      "text/plain": [
       "       Pregnancies     Glucose  BloodPressure  SkinThickness     Insulin  \\\n",
       "count   768.000000  768.000000     768.000000     768.000000  768.000000   \n",
       "mean      3.845052  120.894531      69.105469      20.536458   79.799479   \n",
       "std       3.369578   31.972618      19.355807      15.952218  115.244002   \n",
       "min       0.000000    0.000000       0.000000       0.000000    0.000000   \n",
       "25%       1.000000   99.000000      62.000000       0.000000    0.000000   \n",
       "50%       3.000000  117.000000      72.000000      23.000000   30.500000   \n",
       "75%       6.000000  140.250000      80.000000      32.000000  127.250000   \n",
       "max      17.000000  199.000000     122.000000      99.000000  846.000000   \n",
       "\n",
       "              BMI  DiabetesPedigreeFunction         Age     Outcome  \n",
       "count  768.000000                768.000000  768.000000  768.000000  \n",
       "mean    31.992578                  0.471876   33.240885    0.348958  \n",
       "std      7.884160                  0.331329   11.760232    0.476951  \n",
       "min      0.000000                  0.078000   21.000000    0.000000  \n",
       "25%     27.300000                  0.243750   24.000000    0.000000  \n",
       "50%     32.000000                  0.372500   29.000000    0.000000  \n",
       "75%     36.600000                  0.626250   41.000000    1.000000  \n",
       "max     67.100000                  2.420000   81.000000    1.000000  "
      ]
     },
     "execution_count": 44,
     "metadata": {},
     "output_type": "execute_result"
    }
   ],
   "source": [
    "diabetes_df.describe()"
   ]
  },
  {
   "cell_type": "code",
   "execution_count": 45,
   "id": "12a7f9ab",
   "metadata": {},
   "outputs": [
    {
     "data": {
      "text/plain": [
       "(array([ 35.,   1.,   2.,  13., 107., 261., 243.,  87.,  14.,   5.]),\n",
       " array([  0. ,  12.2,  24.4,  36.6,  48.8,  61. ,  73.2,  85.4,  97.6,\n",
       "        109.8, 122. ]),\n",
       " <BarContainer object of 10 artists>)"
      ]
     },
     "execution_count": 45,
     "metadata": {},
     "output_type": "execute_result"
    },
    {
     "data": {
      "image/png": "[encoded data removed]",
      "text/plain": [
       "<Figure size 432x288 with 1 Axes>"
      ]
     },
     "metadata": {
      "needs_background": "light"
     },
     "output_type": "display_data"
    }
   ],
   "source": [
    "plt.hist(diabetes_df['BloodPressure'], bins=10)"
   ]
  },
  {
   "cell_type": "code",
   "execution_count": null,
   "id": "7a810cac",
   "metadata": {},
   "outputs": [],
   "source": [
    "# 위의 데이터는 혈압이라는 컬럼의 histogram인데 값을 살펴보면 0에서 값이 도출됨\n",
    "# 이상한 현상이어서 Null값의 imputation인지를 살펴보기 위하여 \n",
    "# 0값이 있는 몇몇의 ftrs 확인 :: "
   ]
  },
  {
   "cell_type": "code",
   "execution_count": 48,
   "id": "4ae9ecbd",
   "metadata": {},
   "outputs": [
    {
     "data": {
      "text/plain": [
       "Index(['Pregnancies', 'Glucose', 'BloodPressure', 'SkinThickness', 'Insulin',\n",
       "       'BMI', 'DiabetesPedigreeFunction', 'Age', 'Outcome'],\n",
       "      dtype='object')"
      ]
     },
     "execution_count": 48,
     "metadata": {},
     "output_type": "execute_result"
    }
   ],
   "source": [
    "diabetes_df[diabetes_df==0].columns"
   ]
  },
  {
   "cell_type": "code",
   "execution_count": 54,
   "id": "27bfd1cf",
   "metadata": {},
   "outputs": [
    {
     "name": "stdout",
     "output_type": "stream",
     "text": [
      "Glucose의 zero의 개수는5, percent는 0.65 %\n",
      "BloodPressure의 zero의 개수는35, percent는 4.56 %\n",
      "SkinThickness의 zero의 개수는227, percent는 29.56 %\n",
      "Insulin의 zero의 개수는374, percent는 48.70 %\n",
      "BMI의 zero의 개수는11, percent는 1.43 %\n"
     ]
    }
   ],
   "source": [
    "# 0값이 있는 ftrs의 비율 측정\n",
    "\n",
    "zero_ftrs = ['Glucose', 'BloodPressure', 'SkinThickness', 'Insulin',\n",
    "       'BMI'] \n",
    "\n",
    "total_cnt = diabetes_df.Glucose.count() # 어차피 총계의 값은 같을 것이므로\n",
    "\n",
    "for ftr in zero_ftrs:\n",
    "    z_cnt = diabetes_df[diabetes_df[ftr]==0][ftr].count()\n",
    "    print('{0}의 zero의 개수는{1}, percent는 {2:.2f} %'.format(ftr,z_cnt,(z_cnt/total_cnt)*100))\n",
    "    \n",
    "## outcome의 경우 y값이므로 제외 - 그외, pregnancies 등의 컬럼들 제외"
   ]
  },
  {
   "cell_type": "code",
   "execution_count": 60,
   "id": "e688ccf4",
   "metadata": {},
   "outputs": [
    {
     "data": {
      "text/html": [
       "<div>\n",
       "<style scoped>\n",
       "    .dataframe tbody tr th:only-of-type {\n",
       "        vertical-align: middle;\n",
       "    }\n",
       "\n",
       "    .dataframe tbody tr th {\n",
       "        vertical-align: top;\n",
       "    }\n",
       "\n",
       "    .dataframe thead th {\n",
       "        text-align: right;\n",
       "    }\n",
       "</style>\n",
       "<table border=\"1\" class=\"dataframe\">\n",
       "  <thead>\n",
       "    <tr style=\"text-align: right;\">\n",
       "      <th></th>\n",
       "      <th>Glucose</th>\n",
       "      <th>BloodPressure</th>\n",
       "      <th>SkinThickness</th>\n",
       "      <th>Insulin</th>\n",
       "      <th>BMI</th>\n",
       "    </tr>\n",
       "  </thead>\n",
       "  <tbody>\n",
       "    <tr>\n",
       "      <th>0</th>\n",
       "      <td>148.0</td>\n",
       "      <td>72.0</td>\n",
       "      <td>35.000000</td>\n",
       "      <td>79.799479</td>\n",
       "      <td>33.6</td>\n",
       "    </tr>\n",
       "    <tr>\n",
       "      <th>1</th>\n",
       "      <td>85.0</td>\n",
       "      <td>66.0</td>\n",
       "      <td>29.000000</td>\n",
       "      <td>79.799479</td>\n",
       "      <td>26.6</td>\n",
       "    </tr>\n",
       "    <tr>\n",
       "      <th>2</th>\n",
       "      <td>183.0</td>\n",
       "      <td>64.0</td>\n",
       "      <td>20.536458</td>\n",
       "      <td>79.799479</td>\n",
       "      <td>23.3</td>\n",
       "    </tr>\n",
       "    <tr>\n",
       "      <th>3</th>\n",
       "      <td>89.0</td>\n",
       "      <td>66.0</td>\n",
       "      <td>23.000000</td>\n",
       "      <td>94.000000</td>\n",
       "      <td>28.1</td>\n",
       "    </tr>\n",
       "    <tr>\n",
       "      <th>4</th>\n",
       "      <td>137.0</td>\n",
       "      <td>40.0</td>\n",
       "      <td>35.000000</td>\n",
       "      <td>168.000000</td>\n",
       "      <td>43.1</td>\n",
       "    </tr>\n",
       "  </tbody>\n",
       "</table>\n",
       "</div>"
      ],
      "text/plain": [
       "   Glucose  BloodPressure  SkinThickness     Insulin   BMI\n",
       "0    148.0           72.0      35.000000   79.799479  33.6\n",
       "1     85.0           66.0      29.000000   79.799479  26.6\n",
       "2    183.0           64.0      20.536458   79.799479  23.3\n",
       "3     89.0           66.0      23.000000   94.000000  28.1\n",
       "4    137.0           40.0      35.000000  168.000000  43.1"
      ]
     },
     "execution_count": 60,
     "metadata": {},
     "output_type": "execute_result"
    }
   ],
   "source": [
    "mean_zero_ftrs = diabetes_df[zero_ftrs].mean() # 평균값을 통한 imputation\n",
    "\n",
    "zero_ftrs = ['Glucose', 'BloodPressure', 'SkinThickness', 'Insulin', 'BMI'] \n",
    "diabetes_df[zero_ftrs] = diabetes_df[zero_ftrs].replace(0,mean_zero_ftrs)\n",
    "diabetes_df[zero_ftrs].head()"
   ]
  },
  {
   "cell_type": "code",
   "execution_count": 71,
   "id": "08fe7109",
   "metadata": {},
   "outputs": [
    {
     "name": "stdout",
     "output_type": "stream",
     "text": [
      "### 로지스틱회귀\n",
      "\n",
      "혼동행렬\n",
      "[[90 10]\n",
      " [25 29]]\n",
      "accuracy: 0.7727 precision: 0.7436 recall: 0.537 roc_auc: 0.7185 f1_score: 0.6237\n",
      "\n",
      "###의사결정나무\n",
      "\n",
      "혼동행렬\n",
      "[[72 28]\n",
      " [24 30]]\n",
      "accuracy: 0.6623 precision: 0.5172 recall: 0.5556 roc_auc: 0.6378 f1_score: 0.5357\n",
      "\n",
      "###랜덤포레스트\n",
      "\n",
      "혼동행렬\n",
      "[[82 18]\n",
      " [19 35]]\n",
      "accuracy: 0.7597 precision: 0.6604 recall: 0.6481 roc_auc: 0.7341 f1_score: 0.6542\n"
     ]
    }
   ],
   "source": [
    "X_scaled = diabetes_df.drop(['Outcome'], axis=1)\n",
    "y_scaled = diabetes_df.Outcome\n",
    "\n",
    "# train_test_split\n",
    "\n",
    "X_train, X_test, y_train, y_test = train_test_split(X_scaled, y_scaled, test_size= 0.2,\n",
    "                                                   stratify=y)\n",
    "\n",
    "# 정제된 데이터로 fitting 재시작\n",
    "# lr_clf\n",
    "print('### 로지스틱회귀\\n')\n",
    "lr_clf = LogisticRegression()\n",
    "lr_clf.fit(X_train,y_train)\n",
    "pred_lr = lr_clf.predict(X_test)\n",
    "get_metrics(y_test,pred_lr)\n",
    "\n",
    "# dt_clf\n",
    "print('\\n###의사결정나무\\n')\n",
    "dt_clf = DecisionTreeClassifier()\n",
    "dt_clf.fit(X_train,y_train)\n",
    "pred_dt = dt_clf.predict(X_test)\n",
    "get_metrics(y_test,pred_dt)\n",
    "\n",
    "# rf_clf\n",
    "print('\\n###랜덤포레스트\\n')\n",
    "rf_clf = RandomForestClassifier()\n",
    "rf_clf.fit(X_train,y_train)\n",
    "pred_rf = rf_clf.predict(X_test)\n",
    "get_metrics(y_test,pred_rf)"
   ]
  },
  {
   "cell_type": "code",
   "execution_count": 72,
   "id": "3c618a65",
   "metadata": {},
   "outputs": [],
   "source": [
    "from sklearn.preprocessing import Binarizer\n",
    "\n",
    "def get_eval_by_threshold(y_test, pred_proba_c1, thresholds):\n",
    "    Iter = 0\n",
    "    for custom_threshold in thresholds:\n",
    "        Iter +=1\n",
    "        binarizer = Binarizer(threshold=custom_threshold).fit(pred_proba_c1)\n",
    "        custom_predict = binarizer.transform(pred_proba_c1)\n",
    "        print('임계치', custom_threshold)\n",
    "        accuracy = accuracy_score(y_test, custom_predict)\n",
    "        p_score = precision_score(y_test, custom_predict)\n",
    "        r_score = recall_score(y_test, custom_predict)\n",
    "        F_score = f1_score(y_test, custom_predict)\n",
    "        ra_score = roc_auc_score(y_test, custom_predict)\n",
    "        print('{0}번째 시행\\n accuracy:{1:.4f},prescision:{2:.4f},recall:{3:.4f}, f1:{4:.4f}, roc_auc:{5:.4f} \\n'.format(Iter,accuracy,p_score,r_score,F_score,ra_score))"
   ]
  },
  {
   "cell_type": "code",
   "execution_count": 73,
   "id": "6190b7d2",
   "metadata": {},
   "outputs": [
    {
     "name": "stdout",
     "output_type": "stream",
     "text": [
      "임계치 0.1\n",
      "1번째 시행\n",
      " accuracy:0.5000,prescision:0.4122,recall:1.0000, f1:0.5838, roc_auc:0.6150 \n",
      "\n",
      "임계치 0.2\n",
      "2번째 시행\n",
      " accuracy:0.6558,prescision:0.5051,recall:0.9259, f1:0.6536, roc_auc:0.7180 \n",
      "\n",
      "임계치 0.3\n",
      "3번째 시행\n",
      " accuracy:0.7208,prescision:0.5733,recall:0.7963, f1:0.6667, roc_auc:0.7381 \n",
      "\n",
      "임계치 0.4\n",
      "4번째 시행\n",
      " accuracy:0.7468,prescision:0.6364,recall:0.6481, f1:0.6422, roc_auc:0.7241 \n",
      "\n",
      "임계치 0.45\n",
      "5번째 시행\n",
      " accuracy:0.7922,prescision:0.7500,recall:0.6111, f1:0.6735, roc_auc:0.7506 \n",
      "\n",
      "임계치 0.5\n",
      "6번째 시행\n",
      " accuracy:0.7727,prescision:0.7436,recall:0.5370, f1:0.6237, roc_auc:0.7185 \n",
      "\n",
      "임계치 0.55\n",
      "7번째 시행\n",
      " accuracy:0.7532,prescision:0.7353,recall:0.4630, f1:0.5682, roc_auc:0.6865 \n",
      "\n",
      "임계치 0.6\n",
      "8번째 시행\n",
      " accuracy:0.7597,prescision:0.7742,recall:0.4444, f1:0.5647, roc_auc:0.6872 \n",
      "\n"
     ]
    }
   ],
   "source": [
    "threshold = [0.1,0.2,0.3,0.4,0.45,0.50,0.55,0.60]\n",
    "pred_proba = lr_clf.predict_proba(X_test)\n",
    "get_eval_by_threshold(y_test, pred_proba[:,1].reshape(-1,1), threshold)"
   ]
  },
  {
   "cell_type": "code",
   "execution_count": 74,
   "id": "f348cdab",
   "metadata": {},
   "outputs": [],
   "source": [
    "# end of file"
   ]
  },
  {
   "cell_type": "code",
   "execution_count": null,
   "id": "11487871",
   "metadata": {},
   "outputs": [],
   "source": []
  }
 ],
 "metadata": {
  "kernelspec": {
   "display_name": "Python 3 (ipykernel)",
   "language": "python",
   "name": "python3"
  },
  "language_info": {
   "codemirror_mode": {
    "name": "ipython",
    "version": 3
   },
   "file_extension": ".py",
   "mimetype": "text/x-python",
   "name": "python",
   "nbconvert_exporter": "python",
   "pygments_lexer": "ipython3",
   "version": "3.9.7"
  }
 },
 "nbformat": 4,
 "nbformat_minor": 5
}
