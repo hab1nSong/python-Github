{
 "cells": [
  {
   "cell_type": "code",
   "execution_count": 1,
   "id": "215a24da",
   "metadata": {},
   "outputs": [],
   "source": [
    "# 피마 인디언 당뇨병 예측"
   ]
  },
  {
   "cell_type": "code",
   "execution_count": 42,
   "id": "8c9b23fb",
   "metadata": {},
   "outputs": [],
   "source": [
    "import numpy as np\n",
    "import pandas as pd\n",
    "import matplotlib.pyplot as plt\n",
    "import warnings\n",
    "warnings.filterwarnings('ignore')"
   ]
  },
  {
   "cell_type": "code",
   "execution_count": 43,
   "id": "fde68d22",
   "metadata": {},
   "outputs": [],
   "source": [
    "# 로지스틱 회귀\n",
    "# 의사결정 나무\n",
    "# 랜덤포레스트\n",
    "\n",
    "# train_test_split\n",
    "# 정확도, 재현율, 정밀도\n",
    "\n",
    "from sklearn.linear_model import LogisticRegression\n",
    "from sklearn.tree import DecisionTreeClassifier\n",
    "from sklearn.ensemble import RandomForestClassifier\n",
    "\n",
    "from sklearn.model_selection import train_test_split\n",
    "from sklearn.metrics import accuracy_score, precision_score, recall_score, f1_score, confusion_matrix, roc_auc_score\n"
   ]
  },
  {
   "cell_type": "code",
   "execution_count": 44,
   "id": "42e13326",
   "metadata": {},
   "outputs": [],
   "source": [
    "diabetes_df = pd.read_csv('D:/pythonTest/diabetes.csv')"
   ]
  },
  {
   "cell_type": "code",
   "execution_count": 45,
   "id": "ad534b5a",
   "metadata": {},
   "outputs": [
    {
     "name": "stdout",
     "output_type": "stream",
     "text": [
      "<class 'pandas.core.frame.DataFrame'>\n",
      "RangeIndex: 768 entries, 0 to 767\n",
      "Data columns (total 9 columns):\n",
      " #   Column                    Non-Null Count  Dtype  \n",
      "---  ------                    --------------  -----  \n",
      " 0   Pregnancies               768 non-null    int64  \n",
      " 1   Glucose                   768 non-null    int64  \n",
      " 2   BloodPressure             768 non-null    int64  \n",
      " 3   SkinThickness             768 non-null    int64  \n",
      " 4   Insulin                   768 non-null    int64  \n",
      " 5   BMI                       768 non-null    float64\n",
      " 6   DiabetesPedigreeFunction  768 non-null    float64\n",
      " 7   Age                       768 non-null    int64  \n",
      " 8   Outcome                   768 non-null    int64  \n",
      "dtypes: float64(2), int64(7)\n",
      "memory usage: 54.1 KB\n"
     ]
    }
   ],
   "source": [
    "diabetes_df.info()"
   ]
  },
  {
   "cell_type": "code",
   "execution_count": 46,
   "id": "3348041a",
   "metadata": {},
   "outputs": [
    {
     "data": {
      "text/plain": [
       "0    500\n",
       "1    268\n",
       "Name: Outcome, dtype: int64"
      ]
     },
     "execution_count": 46,
     "metadata": {},
     "output_type": "execute_result"
    }
   ],
   "source": [
    "diabetes_df.Outcome.value_counts()"
   ]
  },
  {
   "cell_type": "code",
   "execution_count": 53,
   "id": "789bc8c0",
   "metadata": {},
   "outputs": [],
   "source": [
    "def get_metrics(y_test,pred):\n",
    "    confusion = confusion_matrix(y_test,pred)\n",
    "    accuracy = accuracy_score(y_test,pred)\n",
    "    p_score = precision_score(y_test,pred)\n",
    "    r_score = recall_score(y_test,pred)\n",
    "    roc_auc = roc_auc_score(y_test,pred)\n",
    "    f1 = f1_score(y_test,pred)\n",
    "    \n",
    "    # 혼동행렬부터 출력하기\n",
    "    print('혼동행렬')\n",
    "    print(confusion)\n",
    "    \n",
    "    # 결과지표 print문\n",
    "    print('accuracy:', np.round(accuracy,4),\n",
    "         'precision:', np.round(p_score,4),\n",
    "         'recall:', np.round(r_score,4),\n",
    "         'roc_auc:', np.round(roc_auc,4),\n",
    "         'f1_score:', np.round(f1,4))"
   ]
  },
  {
   "cell_type": "code",
   "execution_count": 54,
   "id": "25e5a1c4",
   "metadata": {},
   "outputs": [],
   "source": [
    "X = diabetes_df.drop('Outcome', axis=1)\n",
    "# y = diabetes_df['Outcom']\n",
    "# y = diabetes_df.Outcom\n",
    "y = diabetes_df.iloc[:,-1]"
   ]
  },
  {
   "cell_type": "code",
   "execution_count": 60,
   "id": "a4474f67",
   "metadata": {},
   "outputs": [
    {
     "name": "stdout",
     "output_type": "stream",
     "text": [
      "### 로지스틱 회귀\n",
      "\n",
      "혼동행렬\n",
      "[[90 10]\n",
      " [22 32]]\n",
      "accuracy: 0.7922 precision: 0.7619 recall: 0.5926 roc_auc: 0.7463 f1_score: 0.6667\n",
      "\n",
      "### 의사결정나무\n",
      "\n",
      "혼동행렬\n",
      "[[73 27]\n",
      " [20 34]]\n",
      "accuracy: 0.6948 precision: 0.5574 recall: 0.6296 roc_auc: 0.6798 f1_score: 0.5913\n",
      "\n",
      "### 랜덤포레스트\n",
      "\n",
      "혼동행렬\n",
      "[[74 26]\n",
      " [22 32]]\n",
      "accuracy: 0.6883 precision: 0.5517 recall: 0.5926 roc_auc: 0.6663 f1_score: 0.5714\n"
     ]
    }
   ],
   "source": [
    "# train_test_split\n",
    "\n",
    "X_train, X_test, y_train, y_test = train_test_split(X,y, test_size=0.2, stratify=y)\n",
    "\n",
    "# fitting 시작\n",
    "# lr_clf\n",
    "print('### 로지스틱 회귀\\n')\n",
    "lr_clf = LogisticRegression()\n",
    "lr_clf.fit(X_train, y_train)\n",
    "pred_lr = lr_clf.predict(X_test)\n",
    "get_metrics(y_test,pred_lr)\n",
    "\n",
    "# dt_clf\n",
    "print('\\n### 의사결정나무\\n')\n",
    "dt_clf = DecisionTreeClassifier()\n",
    "dt_clf.fit(X_train, y_train)\n",
    "pred_dt = dt_clf.predict(X_test)\n",
    "get_metrics(y_test,pred_dt)\n",
    "\n",
    "# rf_clf\n",
    "print('\\n### 랜덤포레스트\\n')\n",
    "rf_clf = DecisionTreeClassifier()\n",
    "rf_clf.fit(X_train, y_train)\n",
    "pred_rf = rf_clf.predict(X_test)\n",
    "get_metrics(y_test,pred_rf)"
   ]
  },
  {
   "cell_type": "code",
   "execution_count": 50,
   "id": "81ed3065",
   "metadata": {},
   "outputs": [],
   "source": [
    "def p_r_curve_plot(y_test, pred_proba):\n",
    "    # threshold ndarray로 가져와보고 \n",
    "    # 위의 threshold에 따른 정밀도, 재현율의 ndarray를 추출\n",
    "    precisions, recalls, thresholds = precision_recall_curve(y_test, pred_proba)\n",
    "    \n",
    "    # X축 = threshold\n",
    "    # y축은 precision(점선) 및 recall(주황선) 설정\n",
    "    # 각 곡선을 중첩되게 graph화\n",
    "    plt.figure(figsize=(8,6))\n",
    "    threshold_boudary = thresholds.shape[0]\n",
    "    plt.plot(thresholds, precisions[0:threshold_boudary], linestyle='--', label='precison')\n",
    "    plt.plot(thresholds, recalls[0:threshold_boudary], label='recall')\n",
    "    \n",
    "    # threshold 값 x 축의 scale을 0,1으로 scaling\n",
    "    start, end = plt.xlim()\n",
    "    plt.xticks(np.round(np.arange(start,end,0.10),2))\n",
    "    \n",
    "    # X축, y축 label 및 legend 추가\n",
    "    # grid도 추가\n",
    "    plt.xlabel('Threshold_value')\n",
    "    plt.ylabel('Precision and Recall')\n",
    "    plt.legend()\n",
    "    plt.grid()\n",
    "    plt.show() "
   ]
  },
  {
   "cell_type": "code",
   "execution_count": null,
   "id": "4e579db0",
   "metadata": {},
   "outputs": [],
   "source": [
    "from sklearn.metrics"
   ]
  },
  {
   "cell_type": "code",
   "execution_count": null,
   "id": "59562165",
   "metadata": {},
   "outputs": [],
   "source": []
  },
  {
   "cell_type": "code",
   "execution_count": null,
   "id": "d8ad740c",
   "metadata": {},
   "outputs": [],
   "source": []
  },
  {
   "cell_type": "code",
   "execution_count": null,
   "id": "31564fdb",
   "metadata": {},
   "outputs": [],
   "source": []
  },
  {
   "cell_type": "code",
   "execution_count": null,
   "id": "3be1b40c",
   "metadata": {},
   "outputs": [],
   "source": []
  },
  {
   "cell_type": "code",
   "execution_count": null,
   "id": "fd044f5d",
   "metadata": {},
   "outputs": [],
   "source": []
  },
  {
   "cell_type": "code",
   "execution_count": null,
   "id": "76945aa7",
   "metadata": {},
   "outputs": [],
   "source": []
  }
 ],
 "metadata": {
  "kernelspec": {
   "display_name": "Python 3 (ipykernel)",
   "language": "python",
   "name": "python3"
  },
  "language_info": {
   "codemirror_mode": {
    "name": "ipython",
    "version": 3
   },
   "file_extension": ".py",
   "mimetype": "text/x-python",
   "name": "python",
   "nbconvert_exporter": "python",
   "pygments_lexer": "ipython3",
   "version": "3.9.7"
  }
 },
 "nbformat": 4,
 "nbformat_minor": 5
}
