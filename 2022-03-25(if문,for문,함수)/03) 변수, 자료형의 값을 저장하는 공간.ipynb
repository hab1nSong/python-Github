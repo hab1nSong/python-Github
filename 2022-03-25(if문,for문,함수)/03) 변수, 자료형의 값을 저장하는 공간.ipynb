{
 "cells": [
  {
   "cell_type": "markdown",
   "id": "71382e69",
   "metadata": {},
   "source": [
    "### 변수 만들기"
   ]
  },
  {
   "cell_type": "code",
   "execution_count": 1,
   "id": "57725d3c",
   "metadata": {},
   "outputs": [],
   "source": [
    "a = 1  #(assignment)    \n",
    "b = 'python'\n",
    "c = [1,2,3]"
   ]
  },
  {
   "cell_type": "markdown",
   "id": "fa64a3f7",
   "metadata": {},
   "source": [
    "c = [1, 2, 3] 과 같은 형태라면 [1, 2, 3]값을 가지는 리스트 자료형(객체) 자동으로 메모리에 생성되고 \n",
    "변수 c는 [1, 2, 3] 리스트가 저장된 메모리의 주소를 가리키게 됨"
   ]
  },
  {
   "cell_type": "code",
   "execution_count": 4,
   "id": "5063751a",
   "metadata": {},
   "outputs": [
    {
     "data": {
      "text/plain": [
       "3071233268736"
      ]
     },
     "execution_count": 4,
     "metadata": {},
     "output_type": "execute_result"
    }
   ],
   "source": [
    "a= [1,2,3]\n",
    "id(a) # id라는 함수는 변수가 가리키고 있는 객체 주소값을 되돌려 주는 함수"
   ]
  },
  {
   "cell_type": "markdown",
   "id": "b0233a70",
   "metadata": {},
   "source": [
    "### 리스트를 복사하고 싶을 때"
   ]
  },
  {
   "cell_type": "code",
   "execution_count": 8,
   "id": "7db3423e",
   "metadata": {},
   "outputs": [
    {
     "name": "stdout",
     "output_type": "stream",
     "text": [
      "3071233268736\n",
      "3071233268736\n"
     ]
    }
   ],
   "source": [
    "b = a # 직접적으로 넣게 되면 메모리를 공유하게 됨\n",
    "print(id(a))\n",
    "print(id(b))"
   ]
  },
  {
   "cell_type": "code",
   "execution_count": 9,
   "id": "5de00e22",
   "metadata": {},
   "outputs": [
    {
     "data": {
      "text/plain": [
       "True"
      ]
     },
     "execution_count": 9,
     "metadata": {},
     "output_type": "execute_result"
    }
   ],
   "source": [
    "a is b # a와 b가 가리키는 객체는 동일할까?"
   ]
  },
  {
   "cell_type": "code",
   "execution_count": 10,
   "id": "5fefe93d",
   "metadata": {},
   "outputs": [
    {
     "data": {
      "text/plain": [
       "[1, 10, 3]"
      ]
     },
     "execution_count": 10,
     "metadata": {},
     "output_type": "execute_result"
    }
   ],
   "source": [
    "a[1]=10\n",
    "a"
   ]
  },
  {
   "cell_type": "code",
   "execution_count": 11,
   "id": "6e498034",
   "metadata": {},
   "outputs": [
    {
     "data": {
      "text/plain": [
       "[1, 10, 3]"
      ]
     },
     "execution_count": 11,
     "metadata": {},
     "output_type": "execute_result"
    }
   ],
   "source": [
    "b"
   ]
  },
  {
   "cell_type": "code",
   "execution_count": 14,
   "id": "84c7d11e",
   "metadata": {},
   "outputs": [],
   "source": [
    "## 만약 위와 같이 동일하게 객체를 가리키고 있다면? -1\n",
    "# [:]을 활용한다\n",
    "\n",
    "a = [1,2,3]\n",
    "b = a[:]"
   ]
  },
  {
   "cell_type": "code",
   "execution_count": 15,
   "id": "b88047b1",
   "metadata": {},
   "outputs": [
    {
     "name": "stdout",
     "output_type": "stream",
     "text": [
      "[1, 100, 3]\n",
      "[1, 2, 3]\n"
     ]
    }
   ],
   "source": [
    "a[1]=100\n",
    "print(a)\n",
    "print(b)"
   ]
  },
  {
   "cell_type": "code",
   "execution_count": 18,
   "id": "d627df26",
   "metadata": {},
   "outputs": [],
   "source": [
    "## 만약 위와 같이 동일하게 객체를 가리키고 있다면? -2\n",
    "# copy 모듈을 이용 \n",
    "\n",
    "from copy import copy\n",
    "a = [1,2,3]\n",
    "b = copy(a) # 참고하자 :: pandas에서는 df.copy()가 존재함"
   ]
  },
  {
   "cell_type": "code",
   "execution_count": 19,
   "id": "5c1d0ca5",
   "metadata": {},
   "outputs": [
    {
     "data": {
      "text/plain": [
       "False"
      ]
     },
     "execution_count": 19,
     "metadata": {},
     "output_type": "execute_result"
    }
   ],
   "source": [
    "a is b"
   ]
  },
  {
   "cell_type": "markdown",
   "id": "276da8cd",
   "metadata": {},
   "source": [
    "### 변수를 만드는 방법"
   ]
  },
  {
   "cell_type": "code",
   "execution_count": 20,
   "id": "b11f7a56",
   "metadata": {},
   "outputs": [
    {
     "name": "stdout",
     "output_type": "stream",
     "text": [
      "Life python\n"
     ]
    }
   ],
   "source": [
    "a, b = ('Life','python')\n",
    "print(a, b)"
   ]
  },
  {
   "cell_type": "code",
   "execution_count": 21,
   "id": "87508167",
   "metadata": {},
   "outputs": [],
   "source": [
    "(a, b) = 'Life', 'Python'"
   ]
  },
  {
   "cell_type": "code",
   "execution_count": 26,
   "id": "ccec3f98",
   "metadata": {},
   "outputs": [
    {
     "name": "stdout",
     "output_type": "stream",
     "text": [
      "1\n",
      "2\n",
      "3\n",
      "4\n",
      "5\n",
      "6\n"
     ]
    }
   ],
   "source": [
    "test_l1 = [(1,2),(3,4),(5,6)]\n",
    "for i,j in test_l1:\n",
    "    print(i)\n",
    "    print(j)"
   ]
  },
  {
   "cell_type": "code",
   "execution_count": 27,
   "id": "ab89b317",
   "metadata": {},
   "outputs": [],
   "source": [
    "[a,b] = ['Life12','python12']"
   ]
  },
  {
   "cell_type": "code",
   "execution_count": 30,
   "id": "9e402ba7",
   "metadata": {},
   "outputs": [],
   "source": [
    "a = b ='ysp'"
   ]
  },
  {
   "cell_type": "code",
   "execution_count": 34,
   "id": "6a7f1051",
   "metadata": {},
   "outputs": [
    {
     "data": {
      "text/plain": [
       "3"
      ]
     },
     "execution_count": 34,
     "metadata": {},
     "output_type": "execute_result"
    }
   ],
   "source": [
    "# 변수 바꾸기 예제\n",
    "a = 3\n",
    "b = 5\n",
    "a,b = b,a\n",
    "a\n",
    "b"
   ]
  }
 ],
 "metadata": {
  "kernelspec": {
   "display_name": "Python 3 (ipykernel)",
   "language": "python",
   "name": "python3"
  },
  "language_info": {
   "codemirror_mode": {
    "name": "ipython",
    "version": 3
   },
   "file_extension": ".py",
   "mimetype": "text/x-python",
   "name": "python",
   "nbconvert_exporter": "python",
   "pygments_lexer": "ipython3",
   "version": "3.8.12"
  }
 },
 "nbformat": 4,
 "nbformat_minor": 5
}
