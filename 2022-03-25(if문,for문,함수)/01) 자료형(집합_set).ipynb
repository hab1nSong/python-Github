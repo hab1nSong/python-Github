{
 "cells": [
  {
   "cell_type": "markdown",
   "id": "56dea831",
   "metadata": {},
   "source": [
    "## 집합 자료형 만들기"
   ]
  },
  {
   "cell_type": "markdown",
   "id": "07b3cba8",
   "metadata": {},
   "source": [
    "* 집합(set)은 파이썬 2.3적용이 되는 자료형.. \n",
    "\n",
    "* 집합에 관련된 것을 쉽게 처리하기 위해 생성됨"
   ]
  },
  {
   "cell_type": "code",
   "execution_count": 3,
   "id": "f600887e",
   "metadata": {},
   "outputs": [
    {
     "name": "stdout",
     "output_type": "stream",
     "text": [
      "{1, 2, 3}\n"
     ]
    }
   ],
   "source": [
    "s1 = set([1,2,3])\n",
    "print(s1)"
   ]
  },
  {
   "cell_type": "code",
   "execution_count": 8,
   "id": "c205ff55",
   "metadata": {},
   "outputs": [
    {
     "name": "stdout",
     "output_type": "stream",
     "text": [
      "{'o', 'l', 'H', 'e'}\n"
     ]
    }
   ],
   "source": [
    "# 문자열 만들기\n",
    "\n",
    "s2 = set('Hello')\n",
    "print(s2)"
   ]
  },
  {
   "cell_type": "markdown",
   "id": "4a037629",
   "metadata": {},
   "source": [
    "set의 특징 :: \n",
    "    \n",
    "    1) 중복을 허용하지 않는다\n",
    "    2) 순서가 없다(Unordered)"
   ]
  },
  {
   "cell_type": "markdown",
   "id": "73865ad5",
   "metadata": {},
   "source": [
    "리스트나 튜플은 순서가 있기(ordered)때문에 인덱싱을 통해 자료형의 값을 얻을 수 있지만, set 자료형은 순서가 없어서(unordered) 인덱싱으로 값을 얻을 수 없음 "
   ]
  },
  {
   "cell_type": "code",
   "execution_count": 15,
   "id": "023f7a64",
   "metadata": {},
   "outputs": [
    {
     "data": {
      "text/plain": [
       "1"
      ]
     },
     "execution_count": 15,
     "metadata": {},
     "output_type": "execute_result"
    }
   ],
   "source": [
    "# 만약 인덱싱을 원한다면?\n",
    "s1 = set([1,2,3])\n",
    "l1 = list(s1)\n",
    "l1[1]\n",
    "# s1[0] # 너눈 인덱싱 안됨~요~\n",
    "t1 = tuple(s1)\n",
    "t1[0]"
   ]
  },
  {
   "cell_type": "markdown",
   "id": "19ddccae",
   "metadata": {},
   "source": [
    "### 교집합, 합집합, 차집합 구하기"
   ]
  },
  {
   "cell_type": "code",
   "execution_count": 16,
   "id": "e26f6139",
   "metadata": {},
   "outputs": [],
   "source": [
    "s1 = set([1,2,3,4,5,6])\n",
    "s2 = set([4,5,6,7,8,9])"
   ]
  },
  {
   "cell_type": "markdown",
   "id": "c4a66977",
   "metadata": {},
   "source": [
    "#### 1. 교집합 "
   ]
  },
  {
   "cell_type": "code",
   "execution_count": 18,
   "id": "91ca53b7",
   "metadata": {},
   "outputs": [
    {
     "data": {
      "text/plain": [
       "{4, 5, 6}"
      ]
     },
     "execution_count": 18,
     "metadata": {},
     "output_type": "execute_result"
    }
   ],
   "source": [
    "# s1과 s2의 교집합을 구해보자-1\n",
    "s1&s2"
   ]
  },
  {
   "cell_type": "code",
   "execution_count": 19,
   "id": "fff35fcc",
   "metadata": {},
   "outputs": [
    {
     "data": {
      "text/plain": [
       "{4, 5, 6}"
      ]
     },
     "execution_count": 19,
     "metadata": {},
     "output_type": "execute_result"
    }
   ],
   "source": [
    "# s1과 s2의 교집합을 구해보자-2\n",
    "s1.intersection(s2)"
   ]
  },
  {
   "cell_type": "markdown",
   "id": "c944a2b1",
   "metadata": {},
   "source": [
    "#### 2.합집합"
   ]
  },
  {
   "cell_type": "code",
   "execution_count": 21,
   "id": "2284f1a0",
   "metadata": {},
   "outputs": [
    {
     "data": {
      "text/plain": [
       "{1, 2, 3, 4, 5, 6, 7, 8, 9}"
      ]
     },
     "execution_count": 21,
     "metadata": {},
     "output_type": "execute_result"
    }
   ],
   "source": [
    "# s1과 s2의 합집합을 구해보자-1\n",
    "s1|s2"
   ]
  },
  {
   "cell_type": "code",
   "execution_count": 22,
   "id": "5c46e486",
   "metadata": {},
   "outputs": [
    {
     "data": {
      "text/plain": [
       "{1, 2, 3, 4, 5, 6, 7, 8, 9}"
      ]
     },
     "execution_count": 22,
     "metadata": {},
     "output_type": "execute_result"
    }
   ],
   "source": [
    "# s1과 s2의 합집합을 구해보자-2\n",
    "s1.union(s2)"
   ]
  },
  {
   "cell_type": "markdown",
   "id": "7930f8f2",
   "metadata": {},
   "source": [
    "#### 3. 차집합"
   ]
  },
  {
   "cell_type": "code",
   "execution_count": 26,
   "id": "20bf5e85",
   "metadata": {},
   "outputs": [
    {
     "data": {
      "text/plain": [
       "{7, 8, 9}"
      ]
     },
     "execution_count": 26,
     "metadata": {},
     "output_type": "execute_result"
    }
   ],
   "source": [
    "# s1과 s2의 차집합을 구해보자-1\n",
    "s1-s2 #:: {4,5,6}이 빠져씀\n",
    "\n",
    "s2-s1 #:: {4,5,6}이 빠져씀 22 "
   ]
  },
  {
   "cell_type": "code",
   "execution_count": 27,
   "id": "19b7eca9",
   "metadata": {},
   "outputs": [
    {
     "data": {
      "text/plain": [
       "{1, 2, 3}"
      ]
     },
     "execution_count": 27,
     "metadata": {},
     "output_type": "execute_result"
    }
   ],
   "source": [
    "# s1과 s2의 차집합을 구해보자-2\n",
    "s1.difference(s2)"
   ]
  },
  {
   "cell_type": "markdown",
   "id": "6398730f",
   "metadata": {},
   "source": [
    "### 집합 자료형 관련 함수들"
   ]
  },
  {
   "cell_type": "code",
   "execution_count": 31,
   "id": "9f625338",
   "metadata": {},
   "outputs": [
    {
     "data": {
      "text/plain": [
       "{1, 2, 3, 4}"
      ]
     },
     "execution_count": 31,
     "metadata": {},
     "output_type": "execute_result"
    }
   ],
   "source": [
    "# add를 통한 값 추가\n",
    "s1 = set([1,2,3])\n",
    "s1.add(4)\n",
    "s1"
   ]
  },
  {
   "cell_type": "code",
   "execution_count": 33,
   "id": "ed7684dd",
   "metadata": {},
   "outputs": [
    {
     "data": {
      "text/plain": [
       "{1, 2, 3, 7, 8, 9}"
      ]
     },
     "execution_count": 33,
     "metadata": {},
     "output_type": "execute_result"
    }
   ],
   "source": [
    "# update를 통한 값을 여러 개 추가\n",
    "s1 = set([1,2,3])\n",
    "s1.update([7,8,9])\n",
    "s1"
   ]
  },
  {
   "cell_type": "code",
   "execution_count": 34,
   "id": "b55a6dfb",
   "metadata": {},
   "outputs": [
    {
     "data": {
      "text/plain": [
       "{1, 2}"
      ]
     },
     "execution_count": 34,
     "metadata": {},
     "output_type": "execute_result"
    }
   ],
   "source": [
    "# 특정 값 제거하기(remove)\n",
    "s1 = set([1,2,3])\n",
    "s1.remove(3)\n",
    "s1"
   ]
  },
  {
   "cell_type": "code",
   "execution_count": null,
   "id": "d384ffd9",
   "metadata": {},
   "outputs": [],
   "source": []
  }
 ],
 "metadata": {
  "kernelspec": {
   "display_name": "Python 3 (ipykernel)",
   "language": "python",
   "name": "python3"
  },
  "language_info": {
   "codemirror_mode": {
    "name": "ipython",
    "version": 3
   },
   "file_extension": ".py",
   "mimetype": "text/x-python",
   "name": "python",
   "nbconvert_exporter": "python",
   "pygments_lexer": "ipython3",
   "version": "3.8.12"
  }
 },
 "nbformat": 4,
 "nbformat_minor": 5
}
