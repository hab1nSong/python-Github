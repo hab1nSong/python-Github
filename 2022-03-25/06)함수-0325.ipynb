{
 "cells": [
  {
   "cell_type": "markdown",
   "id": "4003c7c6",
   "metadata": {},
   "source": [
    "### 함수를 사용하는 이유"
   ]
  },
  {
   "cell_type": "markdown",
   "id": "04f8a49f",
   "metadata": {},
   "source": [
    "프로그래밍을 하다 보면, 똑같은 내용을 반복해서 적는 경우가 있는데 이('반복되어 사용되는 가치가 있는 부분')를 묶어서 활용하기 위해 ......"
   ]
  },
  {
   "attachments": {
    "image.png": {
     "image/png": "[encoded data removed]"
    }
   },
   "cell_type": "markdown",
   "id": "df36a012",
   "metadata": {},
   "source": [
    "![image.png](attachment:image.png) "
   ]
  },
  {
   "cell_type": "markdown",
   "id": "33252604",
   "metadata": {},
   "source": [
    "def는 함수를 만들 때 사용하는 예약어이며, 함수 이름은 함수를 만드는 사람이 임의로 만들 수 있음.\n",
    "\n",
    "함수의 이름 뒤 괄호 안의 매개변수는 이 함수에 입력으로 전달되는 값을 받는 변수"
   ]
  },
  {
   "cell_type": "code",
   "execution_count": 3,
   "id": "639b8d9f",
   "metadata": {},
   "outputs": [],
   "source": [
    "def add(a, b): # a와 b는 매개변수(parameter)\n",
    "    return a+b\n",
    "\n",
    "## 함수의 이름 :: add\n",
    "# 입력값으로 2개의 값을 받음\n",
    "\n",
    "print(add(5,2)) # 5,2는 인수(argument)"
   ]
  },
  {
   "cell_type": "code",
   "execution_count": 6,
   "id": "a9a09f54",
   "metadata": {},
   "outputs": [
    {
     "name": "stdout",
     "output_type": "stream",
     "text": [
      "7\n"
     ]
    }
   ],
   "source": [
    "a=3\n",
    "b=4\n",
    "c= add(a,b)\n",
    "print(c)"
   ]
  },
  {
   "cell_type": "markdown",
   "id": "da098fc7",
   "metadata": {},
   "source": [
    "### 입력값이 없는 함수"
   ]
  },
  {
   "cell_type": "code",
   "execution_count": 7,
   "id": "6bd7be5b",
   "metadata": {},
   "outputs": [],
   "source": [
    "def say():\n",
    "    return 'hi'"
   ]
  },
  {
   "cell_type": "code",
   "execution_count": 10,
   "id": "d6bf82d3",
   "metadata": {},
   "outputs": [
    {
     "name": "stdout",
     "output_type": "stream",
     "text": [
      "hi\n"
     ]
    }
   ],
   "source": [
    "a = say()\n",
    "print(a)"
   ]
  },
  {
   "cell_type": "markdown",
   "id": "3226693d",
   "metadata": {},
   "source": [
    "### 결과값이 없는 함수"
   ]
  },
  {
   "cell_type": "code",
   "execution_count": 16,
   "id": "10fcc594",
   "metadata": {},
   "outputs": [],
   "source": [
    "def add(a,b):\n",
    "    print(\"{0}, {1}의 합은 {2}입니다\".format(a,b,a+b))"
   ]
  },
  {
   "cell_type": "code",
   "execution_count": 19,
   "id": "af3eb1dc",
   "metadata": {},
   "outputs": [
    {
     "name": "stdout",
     "output_type": "stream",
     "text": [
      "5, 2의 합은 7입니다\n",
      "None\n"
     ]
    }
   ],
   "source": [
    "result = add(5,2)\n",
    "print(result)"
   ]
  },
  {
   "cell_type": "markdown",
   "id": "2e78ed32",
   "metadata": {},
   "source": [
    "### 입력값도 결과값도 없는 함수"
   ]
  },
  {
   "cell_type": "code",
   "execution_count": 20,
   "id": "2887e8cd",
   "metadata": {},
   "outputs": [],
   "source": [
    "def say():\n",
    "    print('hi')"
   ]
  },
  {
   "cell_type": "code",
   "execution_count": 21,
   "id": "28d79315",
   "metadata": {},
   "outputs": [
    {
     "name": "stdout",
     "output_type": "stream",
     "text": [
      "hi\n"
     ]
    }
   ],
   "source": [
    "say()"
   ]
  },
  {
   "cell_type": "code",
   "execution_count": 24,
   "id": "e6ad6b6d",
   "metadata": {},
   "outputs": [],
   "source": [
    "def add(first, last):\n",
    "    result = first+last\n",
    "    return result"
   ]
  },
  {
   "cell_type": "code",
   "execution_count": 28,
   "id": "72f1769f",
   "metadata": {},
   "outputs": [
    {
     "data": {
      "text/plain": [
       "7"
      ]
     },
     "execution_count": 28,
     "metadata": {},
     "output_type": "execute_result"
    }
   ],
   "source": [
    "add(first=3,last=-7) # first에 3, last에 -7을 전달\n",
    "\n",
    "add(last=5,first= 2) # first에 2, last에 5을 전달"
   ]
  },
  {
   "cell_type": "markdown",
   "id": "be6e0209",
   "metadata": {},
   "source": [
    "### 입력값이 몇 개가 될 지 모를때는 어떡하나요?"
   ]
  },
  {
   "cell_type": "code",
   "execution_count": 38,
   "id": "67937b3e",
   "metadata": {},
   "outputs": [],
   "source": [
    "def add_many(*args):\n",
    "    result=0\n",
    "    for i in args:\n",
    "        result = result+i\n",
    "    return result"
   ]
  },
  {
   "cell_type": "code",
   "execution_count": 39,
   "id": "94f53061",
   "metadata": {},
   "outputs": [
    {
     "data": {
      "text/plain": [
       "15"
      ]
     },
     "execution_count": 39,
     "metadata": {},
     "output_type": "execute_result"
    }
   ],
   "source": [
    "add_many(1,2,3,4,5)"
   ]
  },
  {
   "cell_type": "code",
   "execution_count": 40,
   "id": "67dfc736",
   "metadata": {},
   "outputs": [],
   "source": [
    "def add_mul(choice, *args):\n",
    "    if choice=='add':        \n",
    "        result=0\n",
    "        for i in args:\n",
    "            result = result+i\n",
    "    elif choice=='mul':\n",
    "        result = 1\n",
    "        for i in args:\n",
    "            result= result*i\n",
    "    return result"
   ]
  },
  {
   "cell_type": "code",
   "execution_count": 43,
   "id": "06054095",
   "metadata": {},
   "outputs": [
    {
     "data": {
      "text/plain": [
       "15"
      ]
     },
     "execution_count": 43,
     "metadata": {},
     "output_type": "execute_result"
    }
   ],
   "source": [
    "# 적용해보기\n",
    "add_mul('add',1,2,3,4,5)"
   ]
  },
  {
   "cell_type": "markdown",
   "id": "982ddcad",
   "metadata": {},
   "source": [
    "### 매개변수에 초깃값 미리 설정하기"
   ]
  },
  {
   "cell_type": "code",
   "execution_count": 44,
   "id": "2b70d3b5",
   "metadata": {},
   "outputs": [],
   "source": [
    "def say_myself(name, old, woman=True):\n",
    "    print('나의 이름은 %s 입니다' % name)\n",
    "    print('나이는 %d살입니다' % old)\n",
    "    if woman:\n",
    "        print('여성입니다')\n",
    "    else:\n",
    "        print('남성입니다')"
   ]
  },
  {
   "cell_type": "code",
   "execution_count": 48,
   "id": "6270b0e3",
   "metadata": {},
   "outputs": [
    {
     "name": "stdout",
     "output_type": "stream",
     "text": [
      "나의 이름은 박영식 입니다\n",
      "나이는 100살입니다\n",
      "남성입니다\n"
     ]
    }
   ],
   "source": [
    "say_myself('박영식',100,False)"
   ]
  },
  {
   "cell_type": "code",
   "execution_count": 49,
   "id": "86ee7296",
   "metadata": {},
   "outputs": [
    {
     "name": "stdout",
     "output_type": "stream",
     "text": [
      "나의 이름은 각단 입니다\n",
      "나이는 18살입니다\n",
      "여성입니다\n"
     ]
    }
   ],
   "source": [
    "say_myself('각단',18)"
   ]
  },
  {
   "cell_type": "code",
   "execution_count": null,
   "id": "17ddfbfe",
   "metadata": {},
   "outputs": [],
   "source": [
    "def say_myself(name, old, woman=True):\n",
    "    print('나의 이름은 %s 입니다' % name)\n",
    "    print('나이는 %d살입니다' % old)\n",
    "    if woman:\n",
    "        print('여성입니다')\n",
    "    else:\n",
    "        print('남성입니다')"
   ]
  }
 ],
 "metadata": {
  "kernelspec": {
   "display_name": "Python 3 (ipykernel)",
   "language": "python",
   "name": "python3"
  },
  "language_info": {
   "codemirror_mode": {
    "name": "ipython",
    "version": 3
   },
   "file_extension": ".py",
   "mimetype": "text/x-python",
   "name": "python",
   "nbconvert_exporter": "python",
   "pygments_lexer": "ipython3",
   "version": "3.8.12"
  }
 },
 "nbformat": 4,
 "nbformat_minor": 5
}
