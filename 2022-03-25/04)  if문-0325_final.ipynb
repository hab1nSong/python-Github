{
 "cells": [
  {
   "cell_type": "markdown",
   "id": "73ceed28",
   "metadata": {},
   "source": [
    "## if문이 왜 필요할까?"
   ]
  },
  {
   "cell_type": "code",
   "execution_count": 1,
   "id": "b1b9f14a",
   "metadata": {},
   "outputs": [
    {
     "data": {
      "text/plain": [
       "'돈이 있으면, 택시를 타고 없으면, 걸어가라'"
      ]
     },
     "execution_count": 1,
     "metadata": {},
     "output_type": "execute_result"
    }
   ],
   "source": [
    "\"돈이 있으면, 택시를 타고 없으면, 걸어가라\""
   ]
  },
  {
   "cell_type": "code",
   "execution_count": 2,
   "id": "b52fa160",
   "metadata": {},
   "outputs": [
    {
     "name": "stdout",
     "output_type": "stream",
     "text": [
      "택시를 타고 가라\n"
     ]
    }
   ],
   "source": [
    "money = True\n",
    "if money:\n",
    "    print('택시를 타고 가라')\n",
    "else:\n",
    "    print('걸어가라')"
   ]
  },
  {
   "cell_type": "markdown",
   "id": "b540e04c",
   "metadata": {},
   "source": [
    "### if문의 기본 구조"
   ]
  },
  {
   "attachments": {
    "image.png": {
     "image/png": "[encoded data removed]"
    }
   },
   "cell_type": "markdown",
   "id": "33452dd7",
   "metadata": {},
   "source": [
    " ![image.png](attachment:image.png)"
   ]
  },
  {
   "cell_type": "markdown",
   "id": "fda56a95",
   "metadata": {},
   "source": [
    "### 들여쓰기(indentation)-1"
   ]
  },
  {
   "attachments": {
    "image.png": {
     "image/png": "[encoded data removed]"
    }
   },
   "cell_type": "markdown",
   "id": "2ad1aba8",
   "metadata": {},
   "source": [
    "![image.png](attachment:image.png) "
   ]
  },
  {
   "attachments": {
    "image.png": {
     "image/png": "[encoded data removed]"
    }
   },
   "cell_type": "markdown",
   "id": "6900a5a3",
   "metadata": {},
   "source": [
    "![image.png](attachment:image.png) "
   ]
  },
  {
   "cell_type": "markdown",
   "id": "10310c32",
   "metadata": {},
   "source": [
    "위와 같은 indentation이라면 error가 호출될 것이다. "
   ]
  },
  {
   "cell_type": "markdown",
   "id": "a76cd138",
   "metadata": {},
   "source": [
    "##### 'space bar' 4개의 공백 vs 'tab'과 indentation시 어느 것이 더 좋을까요??"
   ]
  },
  {
   "cell_type": "code",
   "execution_count": 3,
   "id": "bedfb3ba",
   "metadata": {},
   "outputs": [
    {
     "data": {
      "text/plain": [
       "'만약 3800원 이상의 돈을 가지고 있으면 택시를 타고 그렇지 않으면 걸어가라.'"
      ]
     },
     "execution_count": 3,
     "metadata": {},
     "output_type": "execute_result"
    }
   ],
   "source": [
    "'만약 3800원 이상의 돈을 가지고 있으면 택시를 타고 그렇지 않으면 걸어가라.'"
   ]
  },
  {
   "cell_type": "code",
   "execution_count": 4,
   "id": "2aa1e4a7",
   "metadata": {},
   "outputs": [
    {
     "name": "stdout",
     "output_type": "stream",
     "text": [
      "택시를 타고가라\n"
     ]
    }
   ],
   "source": [
    "money = 10000000000000\n",
    "if money>=3800:\n",
    "    print('택시를 타고가라')\n",
    "else:\n",
    "    print('걸어가라')"
   ]
  },
  {
   "cell_type": "code",
   "execution_count": 5,
   "id": "fb5bc1d9",
   "metadata": {},
   "outputs": [
    {
     "data": {
      "text/plain": [
       "'만약 3800원 이상의 돈을 가지고 있거나 혹은 카드가 있다면 택시를 타고 그렇지 않으면 걸어가라.'"
      ]
     },
     "execution_count": 5,
     "metadata": {},
     "output_type": "execute_result"
    }
   ],
   "source": [
    "'만약 3800원 이상의 돈을 가지고 있거나 혹은 카드가 있다면 택시를 타고 그렇지 않으면 걸어가라.'"
   ]
  },
  {
   "cell_type": "code",
   "execution_count": 6,
   "id": "b69260d1",
   "metadata": {},
   "outputs": [
    {
     "name": "stdout",
     "output_type": "stream",
     "text": [
      "택시를 타고 가라\n"
     ]
    }
   ],
   "source": [
    "money = 2000\n",
    "card = True\n",
    "if money>=3800 or card:\n",
    "    print('택시를 타고 가라')\n",
    "else:\n",
    "    print('걸어가라')"
   ]
  },
  {
   "cell_type": "code",
   "execution_count": 7,
   "id": "f2381cc3",
   "metadata": {},
   "outputs": [
    {
     "data": {
      "text/plain": [
       "'만약 주머니에 카드가 있으면 택시를 타고, 없으면 걸어가라.'"
      ]
     },
     "execution_count": 7,
     "metadata": {},
     "output_type": "execute_result"
    }
   ],
   "source": [
    "'만약 주머니에 카드가 있으면 택시를 타고, 없으면 걸어가라.'"
   ]
  },
  {
   "cell_type": "code",
   "execution_count": 8,
   "id": "0246adae",
   "metadata": {},
   "outputs": [
    {
     "name": "stdout",
     "output_type": "stream",
     "text": [
      "택시를 타라\n"
     ]
    }
   ],
   "source": [
    "주머니=['card','wallet','cellphone']\n",
    "\n",
    "if 'card' in 주머니:\n",
    "    print('택시를 타라')\n",
    "else:\n",
    "    print('걸어가라')"
   ]
  },
  {
   "cell_type": "code",
   "execution_count": 9,
   "id": "1ac6cd8e",
   "metadata": {},
   "outputs": [
    {
     "data": {
      "text/plain": [
       "'만약 주머니에 돈이 있거나 카드가 있으면 택시를 타고, 없으면 걸어가라.'"
      ]
     },
     "execution_count": 9,
     "metadata": {},
     "output_type": "execute_result"
    }
   ],
   "source": [
    "'만약 주머니에 돈이 있거나 카드가 있으면 택시를 타고, 없으면 걸어가라.'"
   ]
  },
  {
   "cell_type": "code",
   "execution_count": 10,
   "id": "f3f59efa",
   "metadata": {},
   "outputs": [
    {
     "name": "stdout",
     "output_type": "stream",
     "text": [
      "걸어가라\n"
     ]
    }
   ],
   "source": [
    "pocket = ['paper', 'cellphone']\n",
    "money = 2000\n",
    "\n",
    "if money>=3800:\n",
    "    print('택시를 타고가라')\n",
    "else:\n",
    "    if 'card' in pocket:\n",
    "        print('택시를 타고가라')\n",
    "    else:\n",
    "        print('걸어가라')      "
   ]
  },
  {
   "cell_type": "markdown",
   "id": "2eaec133",
   "metadata": {},
   "source": [
    "## elif를 살펴보기"
   ]
  },
  {
   "attachments": {
    "image.png": {
     "image/png": "[encoded data removed]"
    }
   },
   "cell_type": "markdown",
   "id": "16d5e816",
   "metadata": {},
   "source": [
    "![image.png](attachment:image.png) "
   ]
  },
  {
   "cell_type": "code",
   "execution_count": 11,
   "id": "15a7fee4",
   "metadata": {},
   "outputs": [
    {
     "name": "stdout",
     "output_type": "stream",
     "text": [
      "걸어가라\n"
     ]
    }
   ],
   "source": [
    "if money>=3800:\n",
    "    print('택시를 타고가라')\n",
    "elif 'card' in pocket:\n",
    "    print('택시를 타고가라')\n",
    "else:\n",
    "    print('걸어가라')      "
   ]
  },
  {
   "cell_type": "markdown",
   "id": "61603f42",
   "metadata": {},
   "source": [
    "## 조건부 표현식"
   ]
  },
  {
   "cell_type": "code",
   "execution_count": 12,
   "id": "0113bfde",
   "metadata": {},
   "outputs": [],
   "source": [
    "score = 60 \n",
    "\n",
    "if score >= 60:\n",
    "    message = 'success'\n",
    "else:\n",
    "    message = 'failure'"
   ]
  },
  {
   "cell_type": "code",
   "execution_count": 13,
   "id": "e98ecbae",
   "metadata": {},
   "outputs": [],
   "source": [
    "message = 'success' if score >= 60   else  'failure' # 도치구문"
   ]
  },
  {
   "cell_type": "markdown",
   "id": "3cbfdb9c",
   "metadata": {},
   "source": [
    "## 01_Titanic Pandas Exercise"
   ]
  },
  {
   "cell_type": "code",
   "execution_count": 14,
   "id": "6c9e9dc5",
   "metadata": {},
   "outputs": [
    {
     "name": "stdout",
     "output_type": "stream",
     "text": [
      "3의 제곱은: 9\n"
     ]
    }
   ],
   "source": [
    "def get_square(x):\n",
    "    return x **2\n",
    "\n",
    "print('3의 제곱은:', get_square(3))"
   ]
  },
  {
   "cell_type": "code",
   "execution_count": 15,
   "id": "b72da418",
   "metadata": {},
   "outputs": [
    {
     "name": "stdout",
     "output_type": "stream",
     "text": [
      "3의 제곱은: 9\n"
     ]
    }
   ],
   "source": [
    "lambda_square = lambda x: x**2\n",
    "print('3의 제곱은:', lambda_square(3))"
   ]
  },
  {
   "cell_type": "code",
   "execution_count": 16,
   "id": "865d7682",
   "metadata": {},
   "outputs": [
    {
     "data": {
      "text/plain": [
       "[1, 4, 9]"
      ]
     },
     "execution_count": 16,
     "metadata": {},
     "output_type": "execute_result"
    }
   ],
   "source": [
    "a = [1,2,3]\n",
    "\n",
    "result = map(lambda x: x**2, a)\n",
    "list(result)"
   ]
  },
  {
   "cell_type": "markdown",
   "id": "af9760ed",
   "metadata": {},
   "source": [
    "판다스의 df의 lambda식을 적용하여 문제를 풀어봅시다 :: 데이터 가공 "
   ]
  },
  {
   "cell_type": "code",
   "execution_count": 20,
   "id": "42693e25",
   "metadata": {},
   "outputs": [
    {
     "data": {
      "text/plain": [
       "891"
      ]
     },
     "execution_count": 20,
     "metadata": {},
     "output_type": "execute_result"
    }
   ],
   "source": [
    "len(t_df['Name'])"
   ]
  },
  {
   "cell_type": "code",
   "execution_count": 21,
   "id": "8ef1486d",
   "metadata": {},
   "outputs": [
    {
     "data": {
      "text/html": [
       "<div>\n",
       "<style scoped>\n",
       "    .dataframe tbody tr th:only-of-type {\n",
       "        vertical-align: middle;\n",
       "    }\n",
       "\n",
       "    .dataframe tbody tr th {\n",
       "        vertical-align: top;\n",
       "    }\n",
       "\n",
       "    .dataframe thead th {\n",
       "        text-align: right;\n",
       "    }\n",
       "</style>\n",
       "<table border=\"1\" class=\"dataframe\">\n",
       "  <thead>\n",
       "    <tr style=\"text-align: right;\">\n",
       "      <th></th>\n",
       "      <th>PassengerId</th>\n",
       "      <th>Survived</th>\n",
       "      <th>Pclass</th>\n",
       "      <th>Name</th>\n",
       "      <th>Sex</th>\n",
       "      <th>Age</th>\n",
       "      <th>SibSp</th>\n",
       "      <th>Parch</th>\n",
       "      <th>Ticket</th>\n",
       "      <th>Fare</th>\n",
       "      <th>Cabin</th>\n",
       "      <th>Embarked</th>\n",
       "      <th>Name_Len</th>\n",
       "      <th>na_len</th>\n",
       "    </tr>\n",
       "  </thead>\n",
       "  <tbody>\n",
       "    <tr>\n",
       "      <th>0</th>\n",
       "      <td>1</td>\n",
       "      <td>0</td>\n",
       "      <td>3</td>\n",
       "      <td>Braund, Mr. Owen Harris</td>\n",
       "      <td>male</td>\n",
       "      <td>22.0</td>\n",
       "      <td>1</td>\n",
       "      <td>0</td>\n",
       "      <td>A/5 21171</td>\n",
       "      <td>7.2500</td>\n",
       "      <td>NaN</td>\n",
       "      <td>S</td>\n",
       "      <td>23</td>\n",
       "      <td>23</td>\n",
       "    </tr>\n",
       "    <tr>\n",
       "      <th>1</th>\n",
       "      <td>2</td>\n",
       "      <td>1</td>\n",
       "      <td>1</td>\n",
       "      <td>Cumings, Mrs. John Bradley (Florence Briggs Th...</td>\n",
       "      <td>female</td>\n",
       "      <td>38.0</td>\n",
       "      <td>1</td>\n",
       "      <td>0</td>\n",
       "      <td>PC 17599</td>\n",
       "      <td>71.2833</td>\n",
       "      <td>C85</td>\n",
       "      <td>C</td>\n",
       "      <td>51</td>\n",
       "      <td>51</td>\n",
       "    </tr>\n",
       "  </tbody>\n",
       "</table>\n",
       "</div>"
      ],
      "text/plain": [
       "   PassengerId  Survived  Pclass  \\\n",
       "0            1         0       3   \n",
       "1            2         1       1   \n",
       "\n",
       "                                                Name     Sex   Age  SibSp  \\\n",
       "0                            Braund, Mr. Owen Harris    male  22.0      1   \n",
       "1  Cumings, Mrs. John Bradley (Florence Briggs Th...  female  38.0      1   \n",
       "\n",
       "   Parch     Ticket     Fare Cabin Embarked  Name_Len  na_len  \n",
       "0      0  A/5 21171   7.2500   NaN        S        23      23  \n",
       "1      0   PC 17599  71.2833   C85        C        51      51  "
      ]
     },
     "execution_count": 21,
     "metadata": {},
     "output_type": "execute_result"
    }
   ],
   "source": [
    "# 만약에 apply lambda를 모를때\n",
    "result=[]\n",
    "for i in range(len(t_df['Name'])):\n",
    "    result.append(len(t_df['Name'][i]))\n",
    "    \n",
    "result_df = pd.DataFrame(result)\n",
    "t_df['na_len'] = result_df\n",
    "t_df.head(2)"
   ]
  },
  {
   "cell_type": "code",
   "execution_count": 29,
   "id": "933dcc1f",
   "metadata": {},
   "outputs": [
    {
     "data": {
      "text/html": [
       "<div>\n",
       "<style scoped>\n",
       "    .dataframe tbody tr th:only-of-type {\n",
       "        vertical-align: middle;\n",
       "    }\n",
       "\n",
       "    .dataframe tbody tr th {\n",
       "        vertical-align: top;\n",
       "    }\n",
       "\n",
       "    .dataframe thead th {\n",
       "        text-align: right;\n",
       "    }\n",
       "</style>\n",
       "<table border=\"1\" class=\"dataframe\">\n",
       "  <thead>\n",
       "    <tr style=\"text-align: right;\">\n",
       "      <th></th>\n",
       "      <th>PassengerId</th>\n",
       "      <th>Survived</th>\n",
       "      <th>Pclass</th>\n",
       "      <th>Name</th>\n",
       "      <th>Sex</th>\n",
       "      <th>Age</th>\n",
       "      <th>SibSp</th>\n",
       "      <th>Parch</th>\n",
       "      <th>Ticket</th>\n",
       "      <th>Fare</th>\n",
       "      <th>Cabin</th>\n",
       "      <th>Embarked</th>\n",
       "      <th>Name_Len</th>\n",
       "    </tr>\n",
       "  </thead>\n",
       "  <tbody>\n",
       "    <tr>\n",
       "      <th>0</th>\n",
       "      <td>1</td>\n",
       "      <td>0</td>\n",
       "      <td>3</td>\n",
       "      <td>Braund, Mr. Owen Harris</td>\n",
       "      <td>male</td>\n",
       "      <td>22.0</td>\n",
       "      <td>1</td>\n",
       "      <td>0</td>\n",
       "      <td>A/5 21171</td>\n",
       "      <td>7.2500</td>\n",
       "      <td>NaN</td>\n",
       "      <td>S</td>\n",
       "      <td>23</td>\n",
       "    </tr>\n",
       "    <tr>\n",
       "      <th>1</th>\n",
       "      <td>2</td>\n",
       "      <td>1</td>\n",
       "      <td>1</td>\n",
       "      <td>Cumings, Mrs. John Bradley (Florence Briggs Th...</td>\n",
       "      <td>female</td>\n",
       "      <td>38.0</td>\n",
       "      <td>1</td>\n",
       "      <td>0</td>\n",
       "      <td>PC 17599</td>\n",
       "      <td>71.2833</td>\n",
       "      <td>C85</td>\n",
       "      <td>C</td>\n",
       "      <td>51</td>\n",
       "    </tr>\n",
       "  </tbody>\n",
       "</table>\n",
       "</div>"
      ],
      "text/plain": [
       "   PassengerId  Survived  Pclass  \\\n",
       "0            1         0       3   \n",
       "1            2         1       1   \n",
       "\n",
       "                                                Name     Sex   Age  SibSp  \\\n",
       "0                            Braund, Mr. Owen Harris    male  22.0      1   \n",
       "1  Cumings, Mrs. John Bradley (Florence Briggs Th...  female  38.0      1   \n",
       "\n",
       "   Parch     Ticket     Fare Cabin Embarked  Name_Len  \n",
       "0      0  A/5 21171   7.2500   NaN        S        23  \n",
       "1      0   PC 17599  71.2833   C85        C        51  "
      ]
     },
     "execution_count": 29,
     "metadata": {},
     "output_type": "execute_result"
    }
   ],
   "source": [
    "## Q1. 실습문제~ :: Name 컬럼을 가져오시고, Name 컬럼의 각 value의 이름 길이를 구해보세요~\n",
    "\n",
    "import pandas as pd\n",
    "t_df = pd.read_csv('D:/pythonTest/train.csv')\n",
    "t_df['Name_Len'] = t_df['Name'].apply(lambda x: len(x))\n",
    "t_df.head(2)"
   ]
  },
  {
   "cell_type": "code",
   "execution_count": 39,
   "id": "89033e0a",
   "metadata": {},
   "outputs": [
    {
     "data": {
      "text/html": [
       "<div>\n",
       "<style scoped>\n",
       "    .dataframe tbody tr th:only-of-type {\n",
       "        vertical-align: middle;\n",
       "    }\n",
       "\n",
       "    .dataframe tbody tr th {\n",
       "        vertical-align: top;\n",
       "    }\n",
       "\n",
       "    .dataframe thead th {\n",
       "        text-align: right;\n",
       "    }\n",
       "</style>\n",
       "<table border=\"1\" class=\"dataframe\">\n",
       "  <thead>\n",
       "    <tr style=\"text-align: right;\">\n",
       "      <th></th>\n",
       "      <th>PassengerId</th>\n",
       "      <th>Survived</th>\n",
       "      <th>Pclass</th>\n",
       "      <th>Name</th>\n",
       "      <th>Sex</th>\n",
       "      <th>Age</th>\n",
       "      <th>SibSp</th>\n",
       "      <th>Parch</th>\n",
       "      <th>Ticket</th>\n",
       "      <th>Fare</th>\n",
       "      <th>Cabin</th>\n",
       "      <th>Embarked</th>\n",
       "      <th>Name_Len</th>\n",
       "    </tr>\n",
       "    <tr>\n",
       "      <th>young_adult</th>\n",
       "      <th></th>\n",
       "      <th></th>\n",
       "      <th></th>\n",
       "      <th></th>\n",
       "      <th></th>\n",
       "      <th></th>\n",
       "      <th></th>\n",
       "      <th></th>\n",
       "      <th></th>\n",
       "      <th></th>\n",
       "      <th></th>\n",
       "      <th></th>\n",
       "      <th></th>\n",
       "    </tr>\n",
       "  </thead>\n",
       "  <tbody>\n",
       "    <tr>\n",
       "      <th>Adult</th>\n",
       "      <td>507</td>\n",
       "      <td>507</td>\n",
       "      <td>507</td>\n",
       "      <td>507</td>\n",
       "      <td>507</td>\n",
       "      <td>330</td>\n",
       "      <td>507</td>\n",
       "      <td>507</td>\n",
       "      <td>507</td>\n",
       "      <td>507</td>\n",
       "      <td>139</td>\n",
       "      <td>505</td>\n",
       "      <td>507</td>\n",
       "    </tr>\n",
       "    <tr>\n",
       "      <th>young</th>\n",
       "      <td>384</td>\n",
       "      <td>384</td>\n",
       "      <td>384</td>\n",
       "      <td>384</td>\n",
       "      <td>384</td>\n",
       "      <td>384</td>\n",
       "      <td>384</td>\n",
       "      <td>384</td>\n",
       "      <td>384</td>\n",
       "      <td>384</td>\n",
       "      <td>65</td>\n",
       "      <td>384</td>\n",
       "      <td>384</td>\n",
       "    </tr>\n",
       "  </tbody>\n",
       "</table>\n",
       "</div>"
      ],
      "text/plain": [
       "             PassengerId  Survived  Pclass  Name  Sex  Age  SibSp  Parch  \\\n",
       "young_adult                                                                \n",
       "Adult                507       507     507   507  507  330    507    507   \n",
       "young                384       384     384   384  384  384    384    384   \n",
       "\n",
       "             Ticket  Fare  Cabin  Embarked  Name_Len  \n",
       "young_adult                                           \n",
       "Adult           507   507    139       505       507  \n",
       "young           384   384     65       384       384  "
      ]
     },
     "execution_count": 39,
     "metadata": {},
     "output_type": "execute_result"
    }
   ],
   "source": [
    "## Q2. 실습문제~ :: 30를 기준으로 - 30세 미만이면 'Young', 30세 초과면 'Adult'\n",
    "# Age 컬럼을 가져온다\n",
    "\n",
    "t_df['Age'] # young_adult라는 컬럼을 위를 기준으로 한 등간척도를 생성하세요.\n",
    "t_df['young_adult'] = t_df['Age'].apply(lambda x: 'young' if x<30 else 'Adult')\n",
    "t_df['young_adult'].value_counts()\n",
    "\n",
    "t_df.groupby(by=['young_adult']).count()"
   ]
  },
  {
   "cell_type": "code",
   "execution_count": 41,
   "id": "4878fb16",
   "metadata": {},
   "outputs": [
    {
     "data": {
      "text/plain": [
       "0        young\n",
       "1        adult\n",
       "2        young\n",
       "3        adult\n",
       "4        adult\n",
       "        ...   \n",
       "886      young\n",
       "887      young\n",
       "888    elderly\n",
       "889      young\n",
       "890      adult\n",
       "Name: Age, Length: 891, dtype: object"
      ]
     },
     "execution_count": 41,
     "metadata": {},
     "output_type": "execute_result"
    }
   ],
   "source": [
    "## Q3. 실습문제~ :: 30를 기준으로 - 30세 미만이면 'Young', 60세 미만이면 'Adult', 60세 초과는 'elderly'\n",
    "# Age 컬럼을 가져온다\n",
    "\n",
    "t_df['Age'].apply(lambda x: 'young' if x<30 else ('adult' if x<60 else 'elderly'))"
   ]
  },
  {
   "cell_type": "code",
   "execution_count": 42,
   "id": "5b6174e8",
   "metadata": {},
   "outputs": [],
   "source": [
    "# end of file"
   ]
  },
  {
   "cell_type": "code",
   "execution_count": 43,
   "id": "744a1899",
   "metadata": {},
   "outputs": [],
   "source": [
    "def get_cat(age):\n",
    "    char = ''\n",
    "    if age<=5: char = 'baby'\n",
    "    elif age<=12: char = 'child'\n",
    "    elif age<=18: char = 'teen'\n",
    "    elif age<=25: char = 'student'\n",
    "    elif age<=35: char = 'young_adult'\n",
    "    elif age<=60: char = 'adult'\n",
    "    else: char= 'elderly'\n",
    "        \n",
    "    return char"
   ]
  },
  {
   "cell_type": "code",
   "execution_count": 44,
   "id": "b54369fb",
   "metadata": {},
   "outputs": [
    {
     "data": {
      "text/plain": [
       "0          student\n",
       "1            adult\n",
       "2      young_adult\n",
       "3      young_adult\n",
       "4      young_adult\n",
       "          ...     \n",
       "886    young_adult\n",
       "887        student\n",
       "888        elderly\n",
       "889    young_adult\n",
       "890    young_adult\n",
       "Name: Age, Length: 891, dtype: object"
      ]
     },
     "execution_count": 44,
     "metadata": {},
     "output_type": "execute_result"
    }
   ],
   "source": [
    "t_df['Age'].apply(lambda x: get_cat(x))"
   ]
  }
 ],
 "metadata": {
  "kernelspec": {
   "display_name": "Python 3 (ipykernel)",
   "language": "python",
   "name": "python3"
  },
  "language_info": {
   "codemirror_mode": {
    "name": "ipython",
    "version": 3
   },
   "file_extension": ".py",
   "mimetype": "text/x-python",
   "name": "python",
   "nbconvert_exporter": "python",
   "pygments_lexer": "ipython3",
   "version": "3.9.7"
  }
 },
 "nbformat": 4,
 "nbformat_minor": 5
}
