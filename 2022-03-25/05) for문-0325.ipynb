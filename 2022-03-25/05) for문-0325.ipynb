{
 "cells": [
  {
   "cell_type": "markdown",
   "id": "12ecbbc2",
   "metadata": {},
   "source": [
    "### for문의 기본구조"
   ]
  },
  {
   "attachments": {
    "image.png": {
     "image/png": "[encoded data removed]"
    }
   },
   "cell_type": "markdown",
   "id": "4b4f851b",
   "metadata": {},
   "source": [
    "![image.png](attachment:image.png) "
   ]
  },
  {
   "cell_type": "markdown",
   "id": "2d6db357",
   "metadata": {},
   "source": [
    "### for문의 전형적인 사례"
   ]
  },
  {
   "cell_type": "code",
   "execution_count": 1,
   "id": "a89bbeea",
   "metadata": {},
   "outputs": [
    {
     "name": "stdout",
     "output_type": "stream",
     "text": [
      "one\n",
      "two\n",
      "three\n"
     ]
    }
   ],
   "source": [
    "test_l1 = ['one','two','three']\n",
    "for i in test_l1:\n",
    "    print(i)"
   ]
  },
  {
   "cell_type": "code",
   "execution_count": 2,
   "id": "fb17e9ca",
   "metadata": {},
   "outputs": [
    {
     "name": "stdout",
     "output_type": "stream",
     "text": [
      "3\n",
      "7\n",
      "11\n"
     ]
    }
   ],
   "source": [
    "a=[(1,2),(3,4),(5,6)]\n",
    "for first,last in a:\n",
    "    print(first+last)    "
   ]
  },
  {
   "cell_type": "markdown",
   "id": "952cf1da",
   "metadata": {},
   "source": [
    "### for문의 응용"
   ]
  },
  {
   "cell_type": "code",
   "execution_count": 3,
   "id": "c766b666",
   "metadata": {},
   "outputs": [
    {
     "data": {
      "text/plain": [
       "'총 5명의 학생이 시험을 보았는데 60점이 넘기면 합격'"
      ]
     },
     "execution_count": 3,
     "metadata": {},
     "output_type": "execute_result"
    }
   ],
   "source": [
    "'총 5명의 학생이 시험을 보았는데 60점이 넘기면 합격'"
   ]
  },
  {
   "cell_type": "code",
   "execution_count": 4,
   "id": "b2a61f13",
   "metadata": {},
   "outputs": [
    {
     "name": "stdout",
     "output_type": "stream",
     "text": [
      "1번 학생은 합격입니다\n",
      "2번 학생은 불합격입니다\n",
      "3번 학생은 합격입니다\n",
      "4번 학생은 불합격입니다\n",
      "5번 학생은 합격입니다\n"
     ]
    }
   ],
   "source": [
    "marks = [98,45,67,25,78]\n",
    "\n",
    "number = 0 # global\n",
    "for mark in marks:      \n",
    "    number = number + 1  # local\n",
    "    if mark>=60:\n",
    "        print(\"%d번 학생은 합격입니다\" % number)\n",
    "    else:\n",
    "        print('%d번 학생은 불합격입니다' % number)"
   ]
  },
  {
   "cell_type": "markdown",
   "id": "d474e1be",
   "metadata": {},
   "source": [
    "### for문과 continue"
   ]
  },
  {
   "cell_type": "code",
   "execution_count": 5,
   "id": "1c89d5af",
   "metadata": {},
   "outputs": [
    {
     "name": "stdout",
     "output_type": "stream",
     "text": [
      "1번 학생 합격입니다\n",
      "3번 학생 합격입니다\n",
      "5번 학생 합격입니다\n"
     ]
    }
   ],
   "source": [
    "marks = [98,45,67,25,78]\n",
    "\n",
    "number = 0 # global\n",
    "for mark in marks:      \n",
    "    number = number + 1  # local\n",
    "    if mark < 60:\n",
    "        continue\n",
    "    print(\"%d번 학생 합격입니다\" % number)     "
   ]
  },
  {
   "cell_type": "markdown",
   "id": "32ac1a79",
   "metadata": {},
   "source": [
    "### for와 range를 활용해서 구구단"
   ]
  },
  {
   "cell_type": "code",
   "execution_count": 10,
   "id": "1f50bd1b",
   "metadata": {},
   "outputs": [
    {
     "name": "stdout",
     "output_type": "stream",
     "text": [
      "2 4 6 8 10 12 14 16 18  \n",
      "3 6 9 12 15 18 21 24 27  \n",
      "4 8 12 16 20 24 28 32 36  \n",
      "5 10 15 20 25 30 35 40 45  \n",
      "6 12 18 24 30 36 42 48 54  \n",
      "7 14 21 28 35 42 49 56 63  \n",
      "8 16 24 32 40 48 56 64 72  \n",
      "9 18 27 36 45 54 63 72 81  \n"
     ]
    }
   ],
   "source": [
    "for i in range(2,10):    \n",
    "    for j in range(1,10):\n",
    "        print(i*j, end=' ')\n",
    "    print(' ')"
   ]
  },
  {
   "cell_type": "markdown",
   "id": "95f8cbc5",
   "metadata": {},
   "source": [
    "### 리스트 내포(List Comprehension)"
   ]
  },
  {
   "cell_type": "code",
   "execution_count": 12,
   "id": "e47e7c7b",
   "metadata": {},
   "outputs": [
    {
     "name": "stdout",
     "output_type": "stream",
     "text": [
      "[3, 6, 9, 12]\n"
     ]
    }
   ],
   "source": [
    "a = [1,2,3,4]\n",
    "result = []\n",
    "for num in a:\n",
    "    result.append(num*3)\n",
    "\n",
    "print(result)"
   ]
  },
  {
   "cell_type": "code",
   "execution_count": 15,
   "id": "95e828f6",
   "metadata": {},
   "outputs": [
    {
     "name": "stdout",
     "output_type": "stream",
     "text": [
      "[3, 6, 9, 12]\n"
     ]
    }
   ],
   "source": [
    "a = [1,2,3,4]\n",
    "result123 = [num * 3 for num in a]\n",
    "print(result123)"
   ]
  },
  {
   "cell_type": "code",
   "execution_count": 17,
   "id": "55415c94",
   "metadata": {},
   "outputs": [
    {
     "data": {
      "text/plain": [
       "[3, 9]"
      ]
     },
     "execution_count": 17,
     "metadata": {},
     "output_type": "execute_result"
    }
   ],
   "source": [
    "# 나 홀수만 3을 곱하고 싶어\n",
    "a = [1,2,3,4]\n",
    "result135 = [num * 3 for num in a if num %2 !=0]\n",
    "result135"
   ]
  },
  {
   "cell_type": "code",
   "execution_count": 18,
   "id": "52ecff29",
   "metadata": {},
   "outputs": [],
   "source": [
    "# 구구단 리스트 내포\n",
    "result_mt = [i*j for i in range(2,10)\n",
    "                 for j in range(1,10)]"
   ]
  },
  {
   "cell_type": "code",
   "execution_count": 19,
   "id": "f696e8cd",
   "metadata": {},
   "outputs": [
    {
     "name": "stdout",
     "output_type": "stream",
     "text": [
      "[2, 4, 6, 8, 10, 12, 14, 16, 18, 3, 6, 9, 12, 15, 18, 21, 24, 27, 4, 8, 12, 16, 20, 24, 28, 32, 36, 5, 10, 15, 20, 25, 30, 35, 40, 45, 6, 12, 18, 24, 30, 36, 42, 48, 54, 7, 14, 21, 28, 35, 42, 49, 56, 63, 8, 16, 24, 32, 40, 48, 56, 64, 72, 9, 18, 27, 36, 45, 54, 63, 72, 81]\n"
     ]
    }
   ],
   "source": [
    "print(result_mt)"
   ]
  },
  {
   "cell_type": "code",
   "execution_count": null,
   "id": "fc8aec1e",
   "metadata": {},
   "outputs": [],
   "source": []
  }
 ],
 "metadata": {
  "kernelspec": {
   "display_name": "Python 3 (ipykernel)",
   "language": "python",
   "name": "python3"
  },
  "language_info": {
   "codemirror_mode": {
    "name": "ipython",
    "version": 3
   },
   "file_extension": ".py",
   "mimetype": "text/x-python",
   "name": "python",
   "nbconvert_exporter": "python",
   "pygments_lexer": "ipython3",
   "version": "3.8.12"
  }
 },
 "nbformat": 4,
 "nbformat_minor": 5
}
