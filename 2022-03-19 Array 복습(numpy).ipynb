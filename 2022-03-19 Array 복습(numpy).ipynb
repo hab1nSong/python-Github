{
 "cells": [
  {
   "cell_type": "markdown",
   "id": "eb6d9dd3",
   "metadata": {},
   "source": [
    "# Array 복습"
   ]
  },
  {
   "cell_type": "markdown",
   "id": "889c76e0",
   "metadata": {},
   "source": [
    "## Array"
   ]
  },
  {
   "cell_type": "code",
   "execution_count": 249,
   "id": "a597c769",
   "metadata": {},
   "outputs": [],
   "source": [
    "import numpy as np"
   ]
  },
  {
   "cell_type": "markdown",
   "id": "7714d176",
   "metadata": {},
   "source": [
    "### 1차원 행렬 예제"
   ]
  },
  {
   "cell_type": "code",
   "execution_count": 259,
   "id": "6edd651b",
   "metadata": {},
   "outputs": [
    {
     "name": "stdout",
     "output_type": "stream",
     "text": [
      "[1 2 3]\n",
      "<class 'numpy.ndarray'>\n",
      "(3,)\n",
      "1\n",
      "3\n",
      "int32\n",
      "float64\n"
     ]
    }
   ],
   "source": [
    "array = np.array([1,2,3])\n",
    "print(array)\n",
    "print(type(array))\n",
    "print(array.shape)\n",
    "print(array.ndim)\n",
    "print(len(array))\n",
    "print(array.dtype)\n",
    "array_int = array.astype('float64')\n",
    "print(array_int.dtype)"
   ]
  },
  {
   "cell_type": "markdown",
   "id": "23eb1777",
   "metadata": {},
   "source": [
    "### 2차원 행렬 예제"
   ]
  },
  {
   "cell_type": "code",
   "execution_count": 261,
   "id": "0c10abb3",
   "metadata": {},
   "outputs": [
    {
     "name": "stdout",
     "output_type": "stream",
     "text": [
      "[[1 2 3]]\n",
      "<class 'numpy.ndarray'>\n",
      "(1, 3)\n",
      "2\n",
      "1\n",
      "int32\n",
      "float64\n"
     ]
    }
   ],
   "source": [
    "array = np.array([[1,2,3]])\n",
    "print(array)\n",
    "print(type(array))\n",
    "print(array.shape)\n",
    "print(array.ndim)\n",
    "print(len(array))\n",
    "print(array.dtype)\n",
    "array_int = array.astype('float64')\n",
    "print(array_int.dtype)"
   ]
  },
  {
   "cell_type": "markdown",
   "id": "7f9669e1",
   "metadata": {},
   "source": [
    "### 3차원 행렬 예제"
   ]
  },
  {
   "cell_type": "code",
   "execution_count": 262,
   "id": "34c5940b",
   "metadata": {
    "scrolled": true
   },
   "outputs": [
    {
     "name": "stdout",
     "output_type": "stream",
     "text": [
      "[[[1 2 3]]]\n",
      "<class 'numpy.ndarray'>\n",
      "(1, 1, 3)\n",
      "3\n",
      "1\n",
      "int32\n",
      "float64\n"
     ]
    }
   ],
   "source": [
    "array = np.array([[[1,2,3]]])\n",
    "print(array)\n",
    "print(type(array))\n",
    "print(array.shape)\n",
    "print(array.ndim)\n",
    "print(len(array))\n",
    "print(array.dtype)\n",
    "array_int = array.astype('float64')\n",
    "print(array_int.dtype)"
   ]
  },
  {
   "cell_type": "markdown",
   "id": "2a5bda87",
   "metadata": {},
   "source": [
    "## for문을 이용한 range 함수"
   ]
  },
  {
   "cell_type": "code",
   "execution_count": 271,
   "id": "e9144e97",
   "metadata": {},
   "outputs": [
    {
     "name": "stdout",
     "output_type": "stream",
     "text": [
      "0 1 2 3 4 5 6 7 8 9 "
     ]
    }
   ],
   "source": [
    "for i in range(10):\n",
    "    print(i, end=' ')"
   ]
  },
  {
   "cell_type": "code",
   "execution_count": 273,
   "id": "480d7db0",
   "metadata": {
    "scrolled": true
   },
   "outputs": [
    {
     "name": "stdout",
     "output_type": "stream",
     "text": [
      "10 11 12 13 14 15 16 17 18 19 "
     ]
    }
   ],
   "source": [
    "for i in range(10,20):\n",
    "    print(i, end=' ')"
   ]
  },
  {
   "cell_type": "markdown",
   "id": "5edc74be",
   "metadata": {},
   "source": [
    "### Sequence Array(Arange Array) 예제"
   ]
  },
  {
   "cell_type": "code",
   "execution_count": 285,
   "id": "344503a0",
   "metadata": {},
   "outputs": [
    {
     "name": "stdout",
     "output_type": "stream",
     "text": [
      "[0 1 2 3 4 5 6 7 8 9]\n",
      "<class 'numpy.ndarray'>\n",
      "(10,)\n",
      "1\n",
      "10\n",
      "int32\n",
      "float64\n"
     ]
    }
   ],
   "source": [
    "sq_array = np.arange(10)\n",
    "print(sq_array)\n",
    "print(type(sq_array))\n",
    "print(sq_array.shape)\n",
    "print(sq_array.ndim)\n",
    "print(len(sq_array))\n",
    "print(sq_array.dtype)\n",
    "sqarray_int = sq_array.astype('float64')\n",
    "print(sqarray_int.dtype)"
   ]
  },
  {
   "cell_type": "markdown",
   "id": "024ef884",
   "metadata": {},
   "source": [
    "### Zeros Array 예제\n",
    "* 1차원은 괄호\n",
    "* 2~3차원은 괄호안에 괄호"
   ]
  },
  {
   "cell_type": "markdown",
   "id": "cacc3217",
   "metadata": {},
   "source": [
    "#### 1차원 Zeros Array"
   ]
  },
  {
   "cell_type": "code",
   "execution_count": 313,
   "id": "d280f0e9",
   "metadata": {},
   "outputs": [
    {
     "name": "stdout",
     "output_type": "stream",
     "text": [
      "[0. 0. 0. 0. 0.]\n",
      "(5,)\n",
      "1\n"
     ]
    }
   ],
   "source": [
    "zero_array = np.zeros(5)\n",
    "print(zero_array)\n",
    "print(zero_array.shape)\n",
    "print(zero_array.ndim)"
   ]
  },
  {
   "cell_type": "markdown",
   "id": "b65f3784",
   "metadata": {},
   "source": [
    "#### 2차원 Zeros Array"
   ]
  },
  {
   "cell_type": "code",
   "execution_count": 318,
   "id": "16d4a79d",
   "metadata": {},
   "outputs": [
    {
     "name": "stdout",
     "output_type": "stream",
     "text": [
      "[[0. 0. 0.]\n",
      " [0. 0. 0.]\n",
      " [0. 0. 0.]]\n",
      "(3, 3)\n",
      "2\n"
     ]
    }
   ],
   "source": [
    "zero_array = np.zeros((3,3))\n",
    "print(zero_array)\n",
    "print(zero_array.shape)\n",
    "print(zero_array.ndim)"
   ]
  },
  {
   "cell_type": "markdown",
   "id": "a3505b4c",
   "metadata": {},
   "source": [
    "#### 3차원 Zeros Array"
   ]
  },
  {
   "cell_type": "code",
   "execution_count": 325,
   "id": "2e2bb441",
   "metadata": {},
   "outputs": [
    {
     "name": "stdout",
     "output_type": "stream",
     "text": [
      "[[[0. 0. 0.]\n",
      "  [0. 0. 0.]]]\n",
      "(1, 2, 3)\n",
      "3\n"
     ]
    }
   ],
   "source": [
    "zero_array = np.zeros((1,2,3))\n",
    "print(zero_array)\n",
    "print(zero_array.shape)\n",
    "print(zero_array.ndim)"
   ]
  },
  {
   "cell_type": "markdown",
   "id": "c8d79e04",
   "metadata": {},
   "source": [
    "### Ones Array 예제"
   ]
  },
  {
   "cell_type": "markdown",
   "id": "3437aa0d",
   "metadata": {},
   "source": [
    "#### 1차원 Ones Array"
   ]
  },
  {
   "cell_type": "code",
   "execution_count": 331,
   "id": "0706cdf7",
   "metadata": {},
   "outputs": [
    {
     "name": "stdout",
     "output_type": "stream",
     "text": [
      "[1. 1. 1. 1. 1.]\n",
      "(5,)\n",
      "1\n"
     ]
    }
   ],
   "source": [
    "one_array = np.ones(5)\n",
    "print(one_array)\n",
    "print(one_array.shape)\n",
    "print(one_array.ndim)"
   ]
  },
  {
   "cell_type": "markdown",
   "id": "7c74da13",
   "metadata": {},
   "source": [
    "#### 2차원 Ones Array"
   ]
  },
  {
   "cell_type": "code",
   "execution_count": 339,
   "id": "8d9be005",
   "metadata": {},
   "outputs": [
    {
     "name": "stdout",
     "output_type": "stream",
     "text": [
      "[[1. 1. 1.]\n",
      " [1. 1. 1.]\n",
      " [1. 1. 1.]]\n",
      "(3, 3)\n",
      "2\n"
     ]
    }
   ],
   "source": [
    "one_array = np.ones((3,3))\n",
    "print(one_array)\n",
    "print(one_array.shape)\n",
    "print(one_array.ndim)"
   ]
  },
  {
   "cell_type": "markdown",
   "id": "828b377f",
   "metadata": {},
   "source": [
    "#### 3차원 Ones Array"
   ]
  },
  {
   "cell_type": "code",
   "execution_count": 345,
   "id": "06ab2a18",
   "metadata": {},
   "outputs": [
    {
     "name": "stdout",
     "output_type": "stream",
     "text": [
      "[[[1. 1. 1.]\n",
      "  [1. 1. 1.]]]\n",
      "(1, 2, 3)\n",
      "3\n"
     ]
    }
   ],
   "source": [
    "one_array = np.ones((1,2,3))\n",
    "print(one_array)\n",
    "print(one_array.shape)\n",
    "print(one_array.ndim)"
   ]
  },
  {
   "cell_type": "markdown",
   "id": "c6a1e27b",
   "metadata": {},
   "source": [
    "#### reshape :: 지금 갖고 있는 행렬의 모양을 바꿔준다"
   ]
  },
  {
   "cell_type": "code",
   "execution_count": 358,
   "id": "89410407",
   "metadata": {},
   "outputs": [
    {
     "name": "stdout",
     "output_type": "stream",
     "text": [
      "[0 1 2 3 4 5 6 7 8 9]\n",
      "[[0 1 2 3 4]\n",
      " [5 6 7 8 9]]\n",
      "[[0 1]\n",
      " [2 3]\n",
      " [4 5]\n",
      " [6 7]\n",
      " [8 9]]\n"
     ]
    }
   ],
   "source": [
    "array = np.arange(10)\n",
    "print(array)\n",
    "\n",
    "print(array.reshape(2,5))\n",
    "print(array.reshape(5,2))"
   ]
  }
 ],
 "metadata": {
  "kernelspec": {
   "display_name": "Python 3 (ipykernel)",
   "language": "python",
   "name": "python3"
  },
  "language_info": {
   "codemirror_mode": {
    "name": "ipython",
    "version": 3
   },
   "file_extension": ".py",
   "mimetype": "text/x-python",
   "name": "python",
   "nbconvert_exporter": "python",
   "pygments_lexer": "ipython3",
   "version": "3.9.7"
  }
 },
 "nbformat": 4,
 "nbformat_minor": 5
}
